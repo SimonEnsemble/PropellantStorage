{
 "cells": [
  {
   "cell_type": "markdown",
   "metadata": {},
   "source": [
    "# JLD2 to CSV\n",
    "This script convets `.jld2` files and compiles them into a `.csv` file which can then be imported into a DataFrame."
   ]
  },
  {
   "cell_type": "code",
   "execution_count": 1,
   "metadata": {},
   "outputs": [],
   "source": [
    "using PorousMaterials\n",
    "using FileIO\n",
    "using JLD2\n",
    "using CSV\n",
    "using DataFrames\n",
    "using Printf"
   ]
  },
  {
   "cell_type": "code",
   "execution_count": 2,
   "metadata": {},
   "outputs": [
    {
     "data": {
      "text/plain": [
       "15-element Array{String,1}:\n",
       " \"gcmc_COF-103_Xe_T298.000000_P0.010000_Dreiding_25000burn_25000sample.jld2\"  \n",
       " \"gcmc_COF-103_Xe_T298.000000_P0.020883_Dreiding_25000burn_25000sample.jld2\"  \n",
       " \"gcmc_COF-103_Xe_T298.000000_P0.043610_Dreiding_25000burn_25000sample.jld2\"  \n",
       " \"gcmc_COF-103_Xe_T298.000000_P0.091072_Dreiding_25000burn_25000sample.jld2\"  \n",
       " \"gcmc_COF-103_Xe_T298.000000_P0.190186_Dreiding_25000burn_25000sample.jld2\"  \n",
       " \"gcmc_COF-103_Xe_T298.000000_P0.397166_Dreiding_25000burn_25000sample.jld2\"  \n",
       " \"gcmc_COF-103_Xe_T298.000000_P0.829404_Dreiding_25000burn_25000sample.jld2\"  \n",
       " \"gcmc_COF-103_Xe_T298.000000_P1.732051_Dreiding_25000burn_25000sample.jld2\"  \n",
       " \"gcmc_COF-103_Xe_T298.000000_P143.657029_Dreiding_25000burn_25000sample.jld2\"\n",
       " \"gcmc_COF-103_Xe_T298.000000_P15.774070_Dreiding_25000burn_25000sample.jld2\" \n",
       " \"gcmc_COF-103_Xe_T298.000000_P3.617054_Dreiding_25000burn_25000sample.jld2\"  \n",
       " \"gcmc_COF-103_Xe_T298.000000_P300.000000_Dreiding_25000burn_25000sample.jld2\"\n",
       " \"gcmc_COF-103_Xe_T298.000000_P32.941102_Dreiding_25000burn_25000sample.jld2\" \n",
       " \"gcmc_COF-103_Xe_T298.000000_P68.791140_Dreiding_25000burn_25000sample.jld2\" \n",
       " \"gcmc_COF-103_Xe_T298.000000_P7.553520_Dreiding_25000burn_25000sample.jld2\"  "
      ]
     },
     "execution_count": 2,
     "metadata": {},
     "output_type": "execute_result"
    }
   ],
   "source": [
    "data_location = joinpath(\"data\", \"sim_xe_isotherms\", \"Drieding_sims\", \"cof_103_sim\")\n",
    "data_files = readdir(data_location)"
   ]
  },
  {
   "cell_type": "code",
   "execution_count": 3,
   "metadata": {},
   "outputs": [
    {
     "ename": "UndefVarError",
     "evalue": "UndefVarError: file_names not defined",
     "output_type": "error",
     "traceback": [
      "UndefVarError: file_names not defined",
      "",
      "Stacktrace:",
      " [1] top-level scope at ./In[3]:3"
     ]
    }
   ],
   "source": [
    "X = size(data_files)\n",
    "for i in range(1, stop=X[1] )\n",
    "    file_names[i] = data_location * data_files[i]\n",
    "end"
   ]
  },
  {
   "cell_type": "code",
   "execution_count": null,
   "metadata": {},
   "outputs": [],
   "source": [
    "# @load \"example.jld2\" hello foo"
   ]
  },
  {
   "cell_type": "code",
   "execution_count": 4,
   "metadata": {},
   "outputs": [
    {
     "name": "stderr",
     "output_type": "stream",
     "text": [
      "Error encountered while loading \"gcmc_COF-103_Xe_T298.000000_P0.010000_Dreiding_25000burn_25000sample.jld2\".\n",
      "\n",
      "Fatal error:\n"
     ]
    },
    {
     "ename": "SystemError",
     "evalue": "SystemError: opening file \"gcmc_COF-103_Xe_T298.000000_P0.010000_Dreiding_25000burn_25000sample.jld2\": No such file or directory",
     "output_type": "error",
     "traceback": [
      "SystemError: opening file \"gcmc_COF-103_Xe_T298.000000_P0.010000_Dreiding_25000burn_25000sample.jld2\": No such file or directory",
      "",
      "Stacktrace:",
      " [1] handle_error(::SystemError, ::File{DataFormat{:JLD2}}) at /home/ng/.julia/packages/FileIO/t40j7/src/error_handling.jl:82",
      " [2] handle_exceptions(::Array{Any,1}, ::String) at /home/ng/.julia/packages/FileIO/t40j7/src/error_handling.jl:77",
      " [3] #load#27(::Base.Iterators.Pairs{Union{},Union{},Tuple{},NamedTuple{(),Tuple{}}}, ::typeof(load), ::File{DataFormat{:JLD2}}) at /home/ng/.julia/packages/FileIO/t40j7/src/loadsave.jl:193",
      " [4] load(::File{DataFormat{:JLD2}}) at /home/ng/.julia/packages/FileIO/t40j7/src/loadsave.jl:172",
      " [5] #load#13(::Base.Iterators.Pairs{Union{},Union{},Tuple{},NamedTuple{(),Tuple{}}}, ::typeof(load), ::String) at /home/ng/.julia/packages/FileIO/t40j7/src/loadsave.jl:118",
      " [6] load(::String) at /home/ng/.julia/packages/FileIO/t40j7/src/loadsave.jl:118",
      " [7] top-level scope at In[4]:1"
     ]
    }
   ],
   "source": [
    "dict_cof = load(data_files[1])[\"results\"]"
   ]
  },
  {
   "cell_type": "code",
   "execution_count": 5,
   "metadata": {},
   "outputs": [
    {
     "name": "stderr",
     "output_type": "stream",
     "text": [
      "Error encountered while loading \"gcmc_COF-103_Xe_T298.000000_P0.010000_Dreiding_25000burn_25000sample.jld2\".\n",
      "\n",
      "Fatal error:\n"
     ]
    },
    {
     "ename": "SystemError",
     "evalue": "SystemError: opening file \"gcmc_COF-103_Xe_T298.000000_P0.010000_Dreiding_25000burn_25000sample.jld2\": No such file or directory",
     "output_type": "error",
     "traceback": [
      "SystemError: opening file \"gcmc_COF-103_Xe_T298.000000_P0.010000_Dreiding_25000burn_25000sample.jld2\": No such file or directory",
      "",
      "Stacktrace:",
      " [1] handle_error(::SystemError, ::File{DataFormat{:JLD2}}) at /home/ng/.julia/packages/FileIO/t40j7/src/error_handling.jl:82",
      " [2] handle_exceptions(::Array{Any,1}, ::String) at /home/ng/.julia/packages/FileIO/t40j7/src/error_handling.jl:77",
      " [3] #load#27(::Base.Iterators.Pairs{Union{},Union{},Tuple{},NamedTuple{(),Tuple{}}}, ::typeof(load), ::File{DataFormat{:JLD2}}) at /home/ng/.julia/packages/FileIO/t40j7/src/loadsave.jl:193",
      " [4] load(::File{DataFormat{:JLD2}}) at /home/ng/.julia/packages/FileIO/t40j7/src/loadsave.jl:172",
      " [5] #load#13(::Base.Iterators.Pairs{Union{},Union{},Tuple{},NamedTuple{(),Tuple{}}}, ::typeof(load), ::String) at /home/ng/.julia/packages/FileIO/t40j7/src/loadsave.jl:118",
      " [6] load(::String) at /home/ng/.julia/packages/FileIO/t40j7/src/loadsave.jl:118",
      " [7] top-level scope at ./In[5]:6"
     ]
    }
   ],
   "source": [
    "# import all of the dictionaries from the data files into a dataframe so that it will be easy to manage.\n",
    "\n",
    "df_cof_ads = DataFrame()\n",
    "\n",
    "for filename in data_files\n",
    "    dict_cof = load(filename)[\"results\"]\n",
    "    for result in keys(dict_cof)\n",
    "        # assign dataframe values here\n",
    "    end\n",
    "end"
   ]
  },
  {
   "cell_type": "code",
   "execution_count": 6,
   "metadata": {},
   "outputs": [],
   "source": [
    "# output dataframe to .csv file\n",
    "# CSV.write(\"COF-103.csv\",df_cof_ads)"
   ]
  },
  {
   "cell_type": "code",
   "execution_count": null,
   "metadata": {},
   "outputs": [],
   "source": []
  }
 ],
 "metadata": {
  "kernelspec": {
   "display_name": "Julia 1.2.0",
   "language": "julia",
   "name": "julia-1.2"
  },
  "language_info": {
   "file_extension": ".jl",
   "mimetype": "application/julia",
   "name": "julia",
   "version": "1.2.0"
  }
 },
 "nbformat": 4,
 "nbformat_minor": 2
}
