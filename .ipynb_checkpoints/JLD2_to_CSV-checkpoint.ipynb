{
 "cells": [
  {
   "cell_type": "markdown",
   "metadata": {},
   "source": [
    "# JLD2 to CSV\n",
    "This script convets `.jld2` files and compiles them into a `.csv` file which can then be imported into a DataFrame."
   ]
  },
  {
   "cell_type": "code",
   "execution_count": 1,
   "metadata": {},
   "outputs": [],
   "source": [
    "using PorousMaterials\n",
    "using FileIO\n",
    "# using JLD2\n",
    "using CSV\n",
    "using DataFrames\n",
    "using PyPlot"
   ]
  },
  {
   "cell_type": "markdown",
   "metadata": {},
   "source": [
    "**TODO:**\n",
    "* consider renaming to \"gcmc_results_to_dataframe\" \n",
    "* should we have this write the dataframe file directly to the gcmc_sims directory?\n",
    "* make input arguements iinto a dictionary (possibly accept as commandline arguments)"
   ]
  },
  {
   "cell_type": "code",
   "execution_count": 2,
   "metadata": {},
   "outputs": [
    {
     "data": {
      "text/plain": [
       "\"/home/ng/Documents/Graduate_Research/Cory_Simon/Xenon_Storage_Tank/Notebook/data\""
      ]
     },
     "execution_count": 2,
     "metadata": {},
     "output_type": "execute_result"
    }
   ],
   "source": [
    "pressures = 10 .^ range(-2, stop=log10(300), length=15)\n",
    "frameworks = [\"COF-102\", \"COF-103\"]\n",
    "PorousMaterials.PATH_TO_DATA"
   ]
  },
  {
   "cell_type": "code",
   "execution_count": 3,
   "metadata": {},
   "outputs": [
    {
     "data": {
      "text/plain": [
       "isotherm_sim_results_to_dataframe (generic function with 1 method)"
      ]
     },
     "execution_count": 3,
     "metadata": {},
     "output_type": "execute_result"
    }
   ],
   "source": [
    "function isotherm_sim_results_to_dataframe(props_we_want::Array{String},\n",
    "        frameworkname::String, gas::Symbol, forcefieldname::String, temperature::Float64, \n",
    "        pressures::Array{Float64}, n_burn_cycles::Int, n_sample_cycles::Int; \n",
    "        where_are_jld_files::Union{String, Nothing}=nothing)\n",
    "    \n",
    "    if isnothing(where_are_jld_files)\n",
    "        where_are_jld_files = joinpath(PorousMaterials.PATH_TO_DATA, \"gcmc_sims\")\n",
    "    end\n",
    "    \n",
    "    # prepare dataframe to populate\n",
    "    df = DataFrame()\n",
    "    for col in props_we_want\n",
    "        insertcols!(df, length(names(df)) + 1, Symbol(col) => Float64[])\n",
    "    end\n",
    "\n",
    "    for (i, pressure) in enumerate(pressures)\n",
    "        sim_result = load(\n",
    "            joinpath(where_are_jld_files, \n",
    "                gcmc_result_savename(frameworkname, gas, forcefieldname, \n",
    "                    temperature, pressure, n_burn_cycles, n_sample_cycles) * \".jld2\"\n",
    "            ), \"results\"\n",
    "        )\n",
    "        push!(df, [sim_result[prop] for prop in props_we_want])\n",
    "    end\n",
    "    return df\n",
    "    \n",
    "end"
   ]
  },
  {
   "cell_type": "code",
   "execution_count": 4,
   "metadata": {},
   "outputs": [],
   "source": [
    "df = DataFrame() # must be defined outside of the function if you want to plot\n",
    "\n",
    "props_we_want = [\"pressure (bar)\", \"fugacity (bar)\", \"⟨N⟩ (mmol/g)\"]\n",
    "for frameworkname in frameworks\n",
    "    df = isotherm_sim_results_to_dataframe(props_we_want, frameworkname,\n",
    "        :Xe, \"Dreiding\", 298.0, pressures, 25000, 25000)\n",
    "    CSV.write(joinpath(\"data\", \"sim_xe_isotherms\", frameworkname * \".csv\"), df)\n",
    "end"
   ]
  },
  {
   "cell_type": "code",
   "execution_count": 5,
   "metadata": {},
   "outputs": [
    {
     "data": {
      "image/png": "[encoded data removed]",
      "text/plain": [
       "Figure(PyObject <Figure size 640x480 with 1 Axes>)"
      ]
     },
     "metadata": {},
     "output_type": "display_data"
    },
    {
     "data": {
      "text/plain": [
       "1-element Array{PyCall.PyObject,1}:\n",
       " PyObject <matplotlib.lines.Line2D object at 0x7f3df0894828>"
      ]
     },
     "execution_count": 5,
     "metadata": {},
     "output_type": "execute_result"
    }
   ],
   "source": [
    "figure()\n",
    "plot(df[:, Symbol(\"pressure (bar)\")], df[:, Symbol(\"⟨N⟩ (mmol/g)\")], marker=\"o\")"
   ]
  },
  {
   "cell_type": "code",
   "execution_count": null,
   "metadata": {},
   "outputs": [],
   "source": []
  }
 ],
 "metadata": {
  "@webio": {
   "lastCommId": "1d0c62c322e243018d1f071b626eee18",
   "lastKernelId": "0124b703-44e0-4b7c-83ff-90fee5ae766d"
  },
  "kernelspec": {
   "display_name": "Julia 1.3.0",
   "language": "julia",
   "name": "julia-1.3"
  },
  "language_info": {
   "file_extension": ".jl",
   "mimetype": "application/julia",
   "name": "julia",
   "version": "1.3.0"
  }
 },
 "nbformat": 4,
 "nbformat_minor": 2
}
