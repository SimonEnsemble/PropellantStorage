{
 "cells": [
  {
   "cell_type": "code",
   "execution_count": 1,
   "metadata": {
    "scrolled": true
   },
   "outputs": [
    {
     "name": "stderr",
     "output_type": "stream",
     "text": [
      "┌ Info: Precompiling PorousMaterials [68953c7c-a3c7-538e-83d3-73516288599e]\n",
      "└ @ Base loading.jl:1260\n",
      "┌ Warning: Package PorousMaterials does not have Test in its dependencies:\n",
      "│ - If you have PorousMaterials checked out for development and have\n",
      "│   added Test as a dependency but haven't updated your primary\n",
      "│   environment's manifest file, try `Pkg.resolve()`.\n",
      "│ - Otherwise you may need to report an issue with PorousMaterials\n",
      "└ Loading Test into PorousMaterials from project dependency, future warnings for PorousMaterials are suppressed.\n"
     ]
    }
   ],
   "source": [
    "using PorousMaterials\n",
    "using PyPlot\n",
    "using DataFrames\n",
    "using CSV\n",
    "using Interpolations\n",
    "using Optim"
   ]
  },
  {
   "cell_type": "markdown",
   "metadata": {},
   "source": [
    "[1] Tam,  W.;  Jackson,  A.;  Nishida,  E.;  Ka-sai, Y.; Tsujihata, A.; Kajiwara, K. Designand  manufacture  of  the  ETS  VIII  xenontank.36thAIAA/ASME/SAE/ASEEJoint  Propulsion  Conference  and  Exhibit.2000; p 3677.(https://doi.org/10.2514/6.2000-3677)\n",
    "\n",
    "[2] Welsch,  G.;  Boyer,  R.;  Collings,  E.Materials properties handbook: titanium alloys;ASM international, 1993. \n",
    "\n",
    "[3] Niinomi,   M.   Mechanical   properties   of biomedical  titanium  alloys. Materials Science and Engineering: A1998,243, 231–236.\n",
    "\n",
    "[4] propellant storage considerations [link](https://erps.spacegrant.org/uploads/images/images/iepc_articledownload_1988-2007/1991index/IEPC1991-107.pdf)"
   ]
  },
  {
   "cell_type": "markdown",
   "metadata": {},
   "source": [
    "define variables"
   ]
  },
  {
   "cell_type": "markdown",
   "metadata": {},
   "source": [
    "Tank material anealed Ti-6Al-4V characteristics [1], [2], [3]"
   ]
  },
  {
   "cell_type": "code",
   "execution_count": 33,
   "metadata": {},
   "outputs": [
    {
     "data": {
      "text/plain": [
       "0.0:1.0050251256281406:200.0"
      ]
     },
     "execution_count": 33,
     "metadata": {},
     "output_type": "execute_result"
    }
   ],
   "source": [
    "const ρ_tank_material = 4428.785 # kg/m³ (convdrted from 0.16 lb/in³ listed in [2])\n",
    "const σ_tank_material = 8250.0 # bar Yield Strength (lower-limit of reported values [3])\n",
    "const temperature = 298.0 # K\n",
    "const β = 0.5 # safety factor\n",
    "\n",
    "P_range = range(0.0, 200.0, length=200)"
   ]
  },
  {
   "cell_type": "markdown",
   "metadata": {},
   "source": [
    "Common amount of xenon gas required to bring into space [1]."
   ]
  },
  {
   "cell_type": "code",
   "execution_count": 3,
   "metadata": {},
   "outputs": [
    {
     "data": {
      "text/plain": [
       "677.8731539381383"
      ]
     },
     "execution_count": 3,
     "metadata": {},
     "output_type": "execute_result"
    }
   ],
   "source": [
    "xe_atomic_mass = read_atomic_masses()[:Xe] # in g / mol\n",
    "\n",
    "mass_desired_xe_propellant = 89.0 # kg Xe\n",
    "mol_desired_xe_propellant = mass_desired_xe_propellant * 1000 / xe_atomic_mass # mol Xe"
   ]
  },
  {
   "cell_type": "code",
   "execution_count": 4,
   "metadata": {},
   "outputs": [
    {
     "data": {
      "text/plain": [
       "8250.0"
      ]
     },
     "execution_count": 4,
     "metadata": {},
     "output_type": "execute_result"
    }
   ],
   "source": [
    "const ρ_tank_material = 4428.785 # kg/m³ (convdrted from 0.16 lb/in³ listed in [2])\n",
    "const σ_tank_material = 8250.0 # bar Yield Strength (lower-limit of reported values [3])"
   ]
  },
  {
   "cell_type": "markdown",
   "metadata": {},
   "source": [
    "read in density of xenon data (in bulk and adsorbed conditions)"
   ]
  },
  {
   "cell_type": "code",
   "execution_count": 5,
   "metadata": {
    "scrolled": true
   },
   "outputs": [
    {
     "data": {
      "text/plain": [
       "Dict{String,Float64} with 10 entries:\n",
       "  \"Ni-MOF-74\"        => 1194.12\n",
       "  \"SBMOF-2\"          => 1191.92\n",
       "  \"FMOF-Cu\"          => 1619.15\n",
       "  \"CC3\"              => 958.585\n",
       "  \"Activated-Carbon\" => 500.0\n",
       "  \"COF-103\"          => 388.73\n",
       "  \"SBMOF-1\"          => 1570.4\n",
       "  \"HKUST-1\"          => 879.096\n",
       "  \"MOF-505\"          => 926.618\n",
       "  \"Co-formate\"       => 1821.5"
      ]
     },
     "execution_count": 5,
     "metadata": {},
     "output_type": "execute_result"
    }
   ],
   "source": [
    "df_xtal = CSV.read(\"df_crystal.csv\")\n",
    "\n",
    "const mof_to_K = Dict(row.:xtal => row.:K_inv_bar for row in eachrow(df_xtal))\n",
    "const mof_to_M = Dict(row.:xtal => row.:M_mol_m3 for row in eachrow(df_xtal))\n",
    "const mof_to_ρ = Dict(row.:xtal => row.:ρ_kg_m3 for row in eachrow(df_xtal))"
   ]
  },
  {
   "cell_type": "markdown",
   "metadata": {},
   "source": [
    "## xenon gas properties"
   ]
  },
  {
   "cell_type": "markdown",
   "metadata": {},
   "source": [
    "Source for experimental data for (real) xenon gas: NIST. Load in NIST data on xenon at 298 K. source for critical pressure here. We linearly interpolate pressures for xenon gas densities."
   ]
  },
  {
   "cell_type": "code",
   "execution_count": 6,
   "metadata": {
    "scrolled": true
   },
   "outputs": [
    {
     "data": {
      "text/html": [
       "<table class=\"data-frame\"><thead><tr><th></th><th>Pressure (bar)</th><th>Density (mol/l)</th><th>Density (mol/m³)</th></tr><tr><th></th><th>Float64</th><th>Float64</th><th>Float64</th></tr></thead><tbody><p>1,203 rows × 3 columns</p><tr><th>1</th><td>0.0</td><td>0.0</td><td>0.0</td></tr><tr><th>2</th><td>0.0025</td><td>0.0001009</td><td>0.1009</td></tr><tr><th>3</th><td>0.005</td><td>0.0002018</td><td>0.2018</td></tr><tr><th>4</th><td>0.0075</td><td>0.00030271</td><td>0.30271</td></tr><tr><th>5</th><td>0.01</td><td>0.00040362</td><td>0.40362</td></tr><tr><th>6</th><td>0.0125</td><td>0.00050453</td><td>0.50453</td></tr><tr><th>7</th><td>0.015</td><td>0.00060544</td><td>0.60544</td></tr><tr><th>8</th><td>0.0175</td><td>0.00070636</td><td>0.70636</td></tr><tr><th>9</th><td>0.02</td><td>0.00080728</td><td>0.80728</td></tr><tr><th>10</th><td>0.0225</td><td>0.0009082</td><td>0.9082</td></tr><tr><th>11</th><td>0.025</td><td>0.0010091</td><td>1.0091</td></tr><tr><th>12</th><td>0.0275</td><td>0.0011101</td><td>1.1101</td></tr><tr><th>13</th><td>0.03</td><td>0.001211</td><td>1.211</td></tr><tr><th>14</th><td>0.0325</td><td>0.0013119</td><td>1.3119</td></tr><tr><th>15</th><td>0.035</td><td>0.0014129</td><td>1.4129</td></tr><tr><th>16</th><td>0.0375</td><td>0.0015138</td><td>1.5138</td></tr><tr><th>17</th><td>0.04</td><td>0.0016147</td><td>1.6147</td></tr><tr><th>18</th><td>0.0425</td><td>0.0017157</td><td>1.7157</td></tr><tr><th>19</th><td>0.045</td><td>0.0018166</td><td>1.8166</td></tr><tr><th>20</th><td>0.0475</td><td>0.0019176</td><td>1.9176</td></tr><tr><th>21</th><td>0.05</td><td>0.0020185</td><td>2.0185</td></tr><tr><th>22</th><td>0.0525</td><td>0.0021195</td><td>2.1195</td></tr><tr><th>23</th><td>0.055</td><td>0.0022204</td><td>2.2204</td></tr><tr><th>24</th><td>0.0575</td><td>0.0023214</td><td>2.3214</td></tr><tr><th>25</th><td>0.06</td><td>0.0024223</td><td>2.4223</td></tr><tr><th>26</th><td>0.0625</td><td>0.0025233</td><td>2.5233</td></tr><tr><th>27</th><td>0.065</td><td>0.0026243</td><td>2.6243</td></tr><tr><th>28</th><td>0.0675</td><td>0.0027252</td><td>2.7252</td></tr><tr><th>29</th><td>0.07</td><td>0.0028262</td><td>2.8262</td></tr><tr><th>30</th><td>0.0725</td><td>0.0029272</td><td>2.9272</td></tr><tr><th>&vellip;</th><td>&vellip;</td><td>&vellip;</td><td>&vellip;</td></tr></tbody></table>"
      ],
      "text/latex": [
       "\\begin{tabular}{r|ccc}\n",
       "\t& Pressure (bar) & Density (mol/l) & Density (mol/m³)\\\\\n",
       "\t\\hline\n",
       "\t& Float64 & Float64 & Float64\\\\\n",
       "\t\\hline\n",
       "\t1 & 0.0 & 0.0 & 0.0 \\\\\n",
       "\t2 & 0.0025 & 0.0001009 & 0.1009 \\\\\n",
       "\t3 & 0.005 & 0.0002018 & 0.2018 \\\\\n",
       "\t4 & 0.0075 & 0.00030271 & 0.30271 \\\\\n",
       "\t5 & 0.01 & 0.00040362 & 0.40362 \\\\\n",
       "\t6 & 0.0125 & 0.00050453 & 0.50453 \\\\\n",
       "\t7 & 0.015 & 0.00060544 & 0.60544 \\\\\n",
       "\t8 & 0.0175 & 0.00070636 & 0.70636 \\\\\n",
       "\t9 & 0.02 & 0.00080728 & 0.80728 \\\\\n",
       "\t10 & 0.0225 & 0.0009082 & 0.9082 \\\\\n",
       "\t11 & 0.025 & 0.0010091 & 1.0091 \\\\\n",
       "\t12 & 0.0275 & 0.0011101 & 1.1101 \\\\\n",
       "\t13 & 0.03 & 0.001211 & 1.211 \\\\\n",
       "\t14 & 0.0325 & 0.0013119 & 1.3119 \\\\\n",
       "\t15 & 0.035 & 0.0014129 & 1.4129 \\\\\n",
       "\t16 & 0.0375 & 0.0015138 & 1.5138 \\\\\n",
       "\t17 & 0.04 & 0.0016147 & 1.6147 \\\\\n",
       "\t18 & 0.0425 & 0.0017157 & 1.7157 \\\\\n",
       "\t19 & 0.045 & 0.0018166 & 1.8166 \\\\\n",
       "\t20 & 0.0475 & 0.0019176 & 1.9176 \\\\\n",
       "\t21 & 0.05 & 0.0020185 & 2.0185 \\\\\n",
       "\t22 & 0.0525 & 0.0021195 & 2.1195 \\\\\n",
       "\t23 & 0.055 & 0.0022204 & 2.2204 \\\\\n",
       "\t24 & 0.0575 & 0.0023214 & 2.3214 \\\\\n",
       "\t25 & 0.06 & 0.0024223 & 2.4223 \\\\\n",
       "\t26 & 0.0625 & 0.0025233 & 2.5233 \\\\\n",
       "\t27 & 0.065 & 0.0026243 & 2.6243 \\\\\n",
       "\t28 & 0.0675 & 0.0027252 & 2.7252 \\\\\n",
       "\t29 & 0.07 & 0.0028262 & 2.8262 \\\\\n",
       "\t30 & 0.0725 & 0.0029272 & 2.9272 \\\\\n",
       "\t$\\dots$ & $\\dots$ & $\\dots$ & $\\dots$ \\\\\n",
       "\\end{tabular}\n"
      ],
      "text/plain": [
       "1203×3 DataFrame\n",
       "│ Row  │ Pressure (bar) │ Density (mol/l) │ Density (mol/m³) │\n",
       "│      │ \u001b[90mFloat64\u001b[39m        │ \u001b[90mFloat64\u001b[39m         │ \u001b[90mFloat64\u001b[39m          │\n",
       "├──────┼────────────────┼─────────────────┼──────────────────┤\n",
       "│ 1    │ 0.0            │ 0.0             │ 0.0              │\n",
       "│ 2    │ 0.0025         │ 0.0001009       │ 0.1009           │\n",
       "│ 3    │ 0.005          │ 0.0002018       │ 0.2018           │\n",
       "│ 4    │ 0.0075         │ 0.00030271      │ 0.30271          │\n",
       "│ 5    │ 0.01           │ 0.00040362      │ 0.40362          │\n",
       "│ 6    │ 0.0125         │ 0.00050453      │ 0.50453          │\n",
       "│ 7    │ 0.015          │ 0.00060544      │ 0.60544          │\n",
       "│ 8    │ 0.0175         │ 0.00070636      │ 0.70636          │\n",
       "│ 9    │ 0.02           │ 0.00080728      │ 0.80728          │\n",
       "│ 10   │ 0.0225         │ 0.0009082       │ 0.9082           │\n",
       "⋮\n",
       "│ 1193 │ 344.17         │ 17.664          │ 17664.0          │\n",
       "│ 1194 │ 344.75         │ 17.669          │ 17669.0          │\n",
       "│ 1195 │ 345.33         │ 17.673          │ 17673.0          │\n",
       "│ 1196 │ 345.92         │ 17.678          │ 17678.0          │\n",
       "│ 1197 │ 346.5          │ 17.683          │ 17683.0          │\n",
       "│ 1198 │ 347.08         │ 17.688          │ 17688.0          │\n",
       "│ 1199 │ 347.67         │ 17.693          │ 17693.0          │\n",
       "│ 1200 │ 348.25         │ 17.698          │ 17698.0          │\n",
       "│ 1201 │ 348.83         │ 17.702          │ 17702.0          │\n",
       "│ 1202 │ 349.42         │ 17.707          │ 17707.0          │\n",
       "│ 1203 │ 350.0          │ 17.712          │ 17712.0          │"
      ]
     },
     "execution_count": 6,
     "metadata": {},
     "output_type": "execute_result"
    }
   ],
   "source": [
    "df_xe = vcat(CSV.read(joinpath(\"data\", \"NIST_data\", \"low_pressure_xenon_NIST_data.txt\"))[2:end, 2:3],\n",
    "             CSV.read(joinpath(\"data\", \"NIST_data\", \"xenon_NIST_data.txt\"))[:, 2:3])\n",
    "df_xe[:, Symbol(\"Density (mol/m³)\")] = df_xe[:, Symbol(\"Density (mol/l)\")] * 1000 # convert L to m³\n",
    "sort!(df_xe, Symbol(\"Pressure (bar)\"))"
   ]
  },
  {
   "cell_type": "markdown",
   "metadata": {},
   "source": [
    "viewing density of ideal gas at our array of pressures for comparison"
   ]
  },
  {
   "cell_type": "code",
   "execution_count": 7,
   "metadata": {},
   "outputs": [],
   "source": [
    "# Universal Gas Constant:\n",
    "const R = 8.3144598e-5; # m³-bar/(K-mol)\n",
    "# ideal gas density\n",
    "ρ_ideal_gas = P_range / (R * temperature); # mol / m³"
   ]
  },
  {
   "cell_type": "code",
   "execution_count": 8,
   "metadata": {
    "scrolled": true
   },
   "outputs": [
    {
     "data": {
      "text/plain": [
       "1203-element extrapolate(interpolate((::Array{Float64,1},), ::Array{Float64,1}, Gridded(Linear())), Throw()) with element type Float64:\n",
       "     0.0\n",
       "     0.1009\n",
       "     0.2018\n",
       "     0.30271\n",
       "     0.40362\n",
       "     0.50453\n",
       "     0.60544\n",
       "     0.70636\n",
       "     0.80728\n",
       "     0.9082\n",
       "     1.0090999999999999\n",
       "     1.1100999999999999\n",
       "     1.211\n",
       "     ⋮\n",
       " 17659.0\n",
       " 17664.0\n",
       " 17669.0\n",
       " 17673.0\n",
       " 17678.0\n",
       " 17683.0\n",
       " 17688.0\n",
       " 17693.0\n",
       " 17698.0\n",
       " 17702.0\n",
       " 17707.0\n",
       " 17712.0"
      ]
     },
     "execution_count": 8,
     "metadata": {},
     "output_type": "execute_result"
    }
   ],
   "source": [
    "ρ_xe = LinearInterpolation(df_xe[:, Symbol(\"Pressure (bar)\")], df_xe[:, Symbol(\"Density (mol/m³)\")]) # applying (interested pressure) gives interpolated density"
   ]
  },
  {
   "cell_type": "code",
   "execution_count": 9,
   "metadata": {},
   "outputs": [
    {
     "data": {
      "image/png": "[encoded data removed]",
      "text/plain": [
       "Figure(PyObject <Figure size 640x480 with 1 Axes>)"
      ]
     },
     "metadata": {},
     "output_type": "display_data"
    }
   ],
   "source": [
    "figure()\n",
    "plot(P_range, ρ_ideal_gas, color=\"green\", label=\"Ideal gas\")\n",
    "plot(P_range, ρ_xe(P_range), color=\"red\", label=\"Real gas\")\n",
    "xlabel(\"Pressure [bar]\")\n",
    "ylabel(\"Density (ρ) [mol / m\\$^3\\$]\")\n",
    "ylim(ymin=0.0)\n",
    "xlim(xmin=0.0, xmax=200)\n",
    "legend()\n",
    "grid()"
   ]
  },
  {
   "cell_type": "code",
   "execution_count": 10,
   "metadata": {},
   "outputs": [
    {
     "data": {
      "text/plain": [
       "ρ_xe_ads (generic function with 1 method)"
      ]
     },
     "execution_count": 10,
     "metadata": {},
     "output_type": "execute_result"
    }
   ],
   "source": [
    "function ρ_xe_ads(P::Float64, xtal::String)\n",
    "    M = mof_to_M[xtal]\n",
    "    K = mof_to_K[xtal]\n",
    "    return (M * K * P) / (1 + K * P)\n",
    "end"
   ]
  },
  {
   "cell_type": "code",
   "execution_count": 61,
   "metadata": {},
   "outputs": [
    {
     "data": {
      "text/plain": [
       "2-element Array{Float64,1}:\n",
       " 0.0\n",
       " 0.0"
      ]
     },
     "execution_count": 61,
     "metadata": {},
     "output_type": "execute_result"
    }
   ],
   "source": [
    "Pδ = [0.0, 0.0] "
   ]
  },
  {
   "cell_type": "code",
   "execution_count": 70,
   "metadata": {},
   "outputs": [
    {
     "data": {
      "text/plain": [
       "P_opt (generic function with 2 methods)"
      ]
     },
     "execution_count": 70,
     "metadata": {},
     "output_type": "execute_result"
    }
   ],
   "source": [
    "# radius of vessel needed\n",
    "function r(P::Float64, xtal::String) # ads Xe storage\n",
    "    return (3 * mol_desired_xe_propellant / (4 * π * ρ_xe_ads(P, xtal))) ^ (1/3)\n",
    "end\n",
    "\n",
    "function r(P::Float64) # bulk Xe storage\n",
    "    return (3 * mol_desired_xe_propellant / (4 * π * ρ_xe(P))) ^ (1/3)\n",
    "end\n",
    "\n",
    "# mass of tank material needed\n",
    "function mₜ(P::Float64, xtal::String) # ads Xe storage\n",
    "    return (3 * mol_desired_xe_propellant * ρ_tank_material * P) / (2 * β * σ_tank_material * ρ_xe_ads(P, xtal))\n",
    "end\n",
    "\n",
    "function mₜ(P::Float64)  # bulk Xe storage\n",
    "    return (3 * mol_desired_xe_propellant * ρ_tank_material * P) / (2 * β * σ_tank_material * ρ_xe(P))\n",
    "end\n",
    "\n",
    "# mass of adsorbent needed\n",
    "function mₐ(P::Float64, xtal::String) # ads Xe storage (of course)\n",
    "    return (mof_to_ρ[xtal] * mol_desired_xe_propellant) / (ρ_xe_ads(P,xtal))\n",
    "end\n",
    "\n",
    "function P_opt(xtal::String) # ads Xe storage\n",
    "    # use Optim.jl to find the minimum\n",
    "    res = optimize(P -> mₜ(P, xtal), Pδ)\n",
    "    return minimizer(res)\n",
    "end\n",
    "\n",
    "function P_opt() # bulk Xe storage\n",
    "    res = optimize(P -> mₜ(P), Pδ)\n",
    "    return minimizer(res)\n",
    "end"
   ]
  },
  {
   "cell_type": "code",
   "execution_count": 71,
   "metadata": {
    "scrolled": false
   },
   "outputs": [
    {
     "ename": "MethodError",
     "evalue": "MethodError: no method matching mₜ(::Array{Float64,1}, ::String)\nClosest candidates are:\n  mₜ(!Matched::Float64, ::String) at In[70]:12\n  mₜ(::Array{Float64,1}) at In[31]:16",
     "output_type": "error",
     "traceback": [
      "MethodError: no method matching mₜ(::Array{Float64,1}, ::String)\nClosest candidates are:\n  mₜ(!Matched::Float64, ::String) at In[70]:12\n  mₜ(::Array{Float64,1}) at In[31]:16",
      "",
      "Stacktrace:",
      " [1] (::var\"#37#38\"{String})(::Array{Float64,1}) at .\\In[70]:26",
      " [2] value!!(::NonDifferentiable{Float64,Array{Float64,1}}, ::Array{Float64,1}) at C:\\Users\\Mel\\.julia\\packages\\NLSolversBase\\mGaJg\\src\\interface.jl:9",
      " [3] initial_state(::NelderMead{Optim.AffineSimplexer,Optim.AdaptiveParameters}, ::Optim.Options{Float64,Nothing}, ::NonDifferentiable{Float64,Array{Float64,1}}, ::Array{Float64,1}) at C:\\Users\\Mel\\.julia\\packages\\Optim\\cJRng\\src\\multivariate\\solvers\\zeroth_order\\nelder_mead.jl:158",
      " [4] optimize(::NonDifferentiable{Float64,Array{Float64,1}}, ::Array{Float64,1}, ::NelderMead{Optim.AffineSimplexer,Optim.AdaptiveParameters}, ::Optim.Options{Float64,Nothing}) at C:\\Users\\Mel\\.julia\\packages\\Optim\\cJRng\\src\\multivariate\\optimize\\optimize.jl:33",
      " [5] optimize(::Function, ::Array{Float64,1}; inplace::Bool, autodiff::Symbol, kwargs::Base.Iterators.Pairs{Union{},Union{},Tuple{},NamedTuple{(),Tuple{}}}) at C:\\Users\\Mel\\.julia\\packages\\Optim\\cJRng\\src\\multivariate\\optimize\\interface.jl:64",
      " [6] optimize(::Function, ::Array{Float64,1}) at C:\\Users\\Mel\\.julia\\packages\\Optim\\cJRng\\src\\multivariate\\optimize\\interface.jl:58",
      " [7] P_opt(::String) at .\\In[70]:26",
      " [8] top-level scope at In[71]:1"
     ]
    }
   ],
   "source": [
    "P_opt(\"SBMOF-1\")"
   ]
  },
  {
   "cell_type": "code",
   "execution_count": null,
   "metadata": {},
   "outputs": [],
   "source": []
  },
  {
   "cell_type": "code",
   "execution_count": null,
   "metadata": {},
   "outputs": [],
   "source": []
  }
 ],
 "metadata": {
  "@webio": {
   "lastCommId": "637de95bcc7f48b1ab5660c0adbf994b",
   "lastKernelId": "1aafb4c7-6369-41d0-99a0-d0088cc280a4"
  },
  "kernelspec": {
   "display_name": "Julia 1.4.0",
   "language": "julia",
   "name": "julia-1.4"
  },
  "language_info": {
   "file_extension": ".jl",
   "mimetype": "application/julia",
   "name": "julia",
   "version": "1.4.0"
  }
 },
 "nbformat": 4,
 "nbformat_minor": 2
}
