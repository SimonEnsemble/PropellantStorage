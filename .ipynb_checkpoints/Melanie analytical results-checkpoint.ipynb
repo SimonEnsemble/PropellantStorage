{
 "cells": [
  {
   "cell_type": "code",
   "execution_count": null,
   "metadata": {
    "scrolled": true
   },
   "outputs": [],
   "source": [
    "using PorousMaterials\n",
    "using PyPlot\n",
    "using DataFrames\n",
    "using CSV\n",
    "using Interpolations\n",
    "using Optim\n",
    "using Printf"
   ]
  },
  {
   "cell_type": "markdown",
   "metadata": {},
   "source": [
    "[1] Tam,  W.;  Jackson,  A.;  Nishida,  E.;  Ka-sai, Y.; Tsujihata, A.; Kajiwara, K. Designand  manufacture  of  the  ETS  VIII  xenontank.36thAIAA/ASME/SAE/ASEEJoint  Propulsion  Conference  and  Exhibit.2000; p 3677.(https://doi.org/10.2514/6.2000-3677)\n",
    "\n",
    "[2] Welsch,  G.;  Boyer,  R.;  Collings,  E.Materials properties handbook: titanium alloys;ASM international, 1993. \n",
    "\n",
    "[3] Niinomi,   M.   Mechanical   properties   of biomedical  titanium  alloys. Materials Science and Engineering: A1998,243, 231–236.\n",
    "\n",
    "[4] propellant storage considerations [link](https://erps.spacegrant.org/uploads/images/images/iepc_articledownload_1988-2007/1991index/IEPC1991-107.pdf)"
   ]
  },
  {
   "cell_type": "markdown",
   "metadata": {},
   "source": [
    "define variables"
   ]
  },
  {
   "cell_type": "markdown",
   "metadata": {},
   "source": [
    "Tank material anealed Ti-6Al-4V characteristics [1], [2], [3]"
   ]
  },
  {
   "cell_type": "code",
   "execution_count": null,
   "metadata": {},
   "outputs": [],
   "source": [
    "const ρ_t = 4428.785 # kg/m³ (convdrted from 0.16 lb/in³ listed in [2])\n",
    "const σ_y = 8250.0 # bar Yield Strength (lower-limit of reported values [3])\n",
    "const temperature = 298.0 # K\n",
    "const β = 0.5 # safety factor"
   ]
  },
  {
   "cell_type": "markdown",
   "metadata": {},
   "source": [
    "Common amount of xenon gas required to bring into space [1]."
   ]
  },
  {
   "cell_type": "code",
   "execution_count": null,
   "metadata": {},
   "outputs": [],
   "source": [
    "xe_atomic_mass = read_atomic_masses()[:Xe] # in g / mol\n",
    "\n",
    "mass_desired_xe_propellant = 89.0 # kg Xe\n",
    "mol_desired_xe_propellant = mass_desired_xe_propellant * 1000 / xe_atomic_mass # mol Xe"
   ]
  },
  {
   "cell_type": "markdown",
   "metadata": {},
   "source": [
    "read in density of xenon data (in bulk and adsorbed conditions)"
   ]
  },
  {
   "cell_type": "code",
   "execution_count": null,
   "metadata": {
    "scrolled": true
   },
   "outputs": [],
   "source": [
    "df_xtal = CSV.read(\"df_crystal.csv\")\n",
    "\n",
    "const mof_to_K = Dict(row.:xtal => row.:K_inv_bar for row in eachrow(df_xtal))\n",
    "const mof_to_M = Dict(row.:xtal => row.:M_mol_m3 for row in eachrow(df_xtal))\n",
    "const mof_to_ρ = Dict(row.:xtal => row.:ρ_kg_m3 for row in eachrow(df_xtal))"
   ]
  },
  {
   "cell_type": "code",
   "execution_count": null,
   "metadata": {},
   "outputs": [],
   "source": [
    "df_xtal = CSV.read(\"df_crystal.csv\")"
   ]
  },
  {
   "cell_type": "code",
   "execution_count": null,
   "metadata": {},
   "outputs": [],
   "source": [
    "crystal_names = [\"SBMOF-1\", \"CC3\", \"Ni-MOF-74\", \"HKUST-1\", \"SBMOF-2\", \"Co-formate\",\n",
    "    \"FMOF-Cu\", \"MOF-505\", \"Activated-Carbon\", \"COF-103\"] \n",
    "\n",
    "mof_to_marker = Dict(\"SBMOF-1\" => \"o\", \"CC3\" => \">\", \"Ni-MOF-74\" => \"<\", \"HKUST-1\" => \"*\", \"SBMOF-2\" => \"H\", \n",
    "    \"Co-formate\" => \"^\", \"FMOF-Cu\" => \"s\", \"MOF-505\" => \"v\",\n",
    "    \"Activated-Carbon\" => \"d\", \"COF-103\" => \"8\")\n",
    "mof_to_color = Dict(zip(crystal_names, [\"C$i\" for i = 1:length(crystal_names)]))"
   ]
  },
  {
   "cell_type": "markdown",
   "metadata": {},
   "source": [
    "## xenon gas properties"
   ]
  },
  {
   "cell_type": "markdown",
   "metadata": {},
   "source": [
    "Source for experimental data for (real) xenon gas: NIST. Load in NIST data on xenon at 298 K. source for critical pressure here. We linearly interpolate pressures for xenon gas densities."
   ]
  },
  {
   "cell_type": "code",
   "execution_count": null,
   "metadata": {
    "scrolled": true
   },
   "outputs": [],
   "source": [
    "df_xe = vcat(CSV.read(joinpath(\"data\", \"NIST_data\", \"low_pressure_xenon_NIST_data.txt\"))[2:end, 2:3],\n",
    "             CSV.read(joinpath(\"data\", \"NIST_data\", \"xenon_NIST_data.txt\"))[:, 2:3])\n",
    "df_xe[:, Symbol(\"Density (mol/m³)\")] = df_xe[:, Symbol(\"Density (mol/l)\")] * 1000 # convert L to m³\n",
    "sort!(df_xe, Symbol(\"Pressure (bar)\"))"
   ]
  },
  {
   "cell_type": "markdown",
   "metadata": {},
   "source": [
    "viewing density of ideal gas at our array of pressures for comparison"
   ]
  },
  {
   "cell_type": "code",
   "execution_count": null,
   "metadata": {},
   "outputs": [],
   "source": [
    "# Universal Gas Constant:\n",
    "const R = 8.3144598e-5; # m³-bar/(K-mol)\n",
    "P_range = range(0.0, 200.0, length=200)\n",
    "# ideal gas density\n",
    "ρ_ideal_gas = P_range / (R * temperature); # mol / m³"
   ]
  },
  {
   "cell_type": "code",
   "execution_count": null,
   "metadata": {
    "scrolled": true
   },
   "outputs": [],
   "source": [
    "ρ_xe = LinearInterpolation(df_xe[:, Symbol(\"Pressure (bar)\")], df_xe[:, Symbol(\"Density (mol/m³)\")]) # applying (interested pressure) gives interpolated density"
   ]
  },
  {
   "cell_type": "code",
   "execution_count": null,
   "metadata": {},
   "outputs": [],
   "source": [
    "ρ_xe(4.0) # Testing interpolations "
   ]
  },
  {
   "cell_type": "code",
   "execution_count": null,
   "metadata": {},
   "outputs": [],
   "source": [
    "figure()\n",
    "plot(P_range, ρ_ideal_gas, color=\"green\", label=\"Ideal gas\")\n",
    "plot(P_range, ρ_xe(P_range), color=\"red\", label=\"Real gas\")\n",
    "xlabel(\"Pressure [bar]\")\n",
    "ylabel(\"Density (ρ) [mol / m\\$^3\\$]\")\n",
    "ylim(ymin=0.0)\n",
    "xlim(xmin=0.0, xmax=200)\n",
    "legend()\n",
    "grid()"
   ]
  },
  {
   "cell_type": "code",
   "execution_count": null,
   "metadata": {},
   "outputs": [],
   "source": [
    "function ρ_xe_ads(P::Float64, xtal::String)\n",
    "    M = mof_to_M[xtal]\n",
    "    K = mof_to_K[xtal]\n",
    "    return (M * K * P) / (1 + K * P)\n",
    "end"
   ]
  },
  {
   "cell_type": "code",
   "execution_count": null,
   "metadata": {
    "scrolled": true
   },
   "outputs": [],
   "source": [
    "Pδ = [0.1, 100] # initial pressure range guess"
   ]
  },
  {
   "cell_type": "code",
   "execution_count": null,
   "metadata": {},
   "outputs": [],
   "source": [
    "# radius of vessel needed\n",
    "function r(P::Float64, xtal::String) # ads Xe storage\n",
    "    return (3.0 * mol_desired_xe_propellant / (4.0 * π * ρ_xe_ads(P, xtal))) ^ (1/3)\n",
    "end\n",
    "\n",
    "function t(P::Float64, xtal::String) # ads Xe storage\n",
    "    return P * r(P, xtal) / (2.0 * β * σ_y)\n",
    "end\n",
    "\n",
    "# mass of tank material needed\n",
    "function mₜ(P::Float64, xtal::String) # ads Xe storage\n",
    "    return 4.0 * π * (r(P, xtal) ^ 2.0) * t(P, xtal) * ρ_t\n",
    "end\n",
    "\n",
    "# mass of adsorbent needed\n",
    "function mₐ(P::Float64, xtal::String) # ads Xe storage (of course)\n",
    "    return mof_to_ρ[xtal] * mol_desired_xe_propellant / ρ_xe_ads(P, xtal)\n",
    "end\n",
    "\n",
    "function optimum_storage(xtal::String) # ads Xe storage\n",
    "    # use Optim.jl to find the minimum\n",
    "    res = optimize(P -> (mₜ(P[1], xtal) + mₐ(P[1], xtal)), Pδ[1], Pδ[2])\n",
    "    @assert res.converged \"Optimization not successful.\"\n",
    "    return res\n",
    "end\n",
    "\n",
    "\n",
    "\n",
    "function r(P::Float64) # bulk Xe storage\n",
    "    return (3.0 * mol_desired_xe_propellant / (4.0 * π * ρ_xe(P))) ^ (1/3)\n",
    "end\n",
    "\n",
    "function t(P::Float64) # bulk Xe storage\n",
    "    return P * r(P) / (2.0 * β * σ_y)\n",
    "end\n",
    "\n",
    "function mₜ(P::Float64)  # bulk Xe storage\n",
    "    return 4.0 * π * (r(P) ^ 2.0) * t(P) * ρ_t\n",
    "end\n",
    "\n",
    "function optimum_storage() # bulk Xe storage\n",
    "    return optimize(P -> mₜ(P[1]), Pδ[1], Pδ[2])\n",
    "end"
   ]
  },
  {
   "cell_type": "markdown",
   "metadata": {},
   "source": [
    "### Bulk Xe Storage"
   ]
  },
  {
   "cell_type": "code",
   "execution_count": null,
   "metadata": {
    "scrolled": false
   },
   "outputs": [],
   "source": [
    "bulk_res = optimum_storage()\n",
    "P_range = range(0.0, 200.0, length=200)"
   ]
  },
  {
   "cell_type": "code",
   "execution_count": null,
   "metadata": {},
   "outputs": [],
   "source": [
    "figure()\n",
    "plot(P_range, mₜ.(P_range) / mass_desired_xe_propellant, color=\"green\", label=\"bulk gas\")\n",
    "xlabel(L\"Pressure, $P$ [bar]\")\n",
    "ylabel(\"tankage fraction\")\n",
    "scatter([bulk_res.minimizer], [bulk_res.minimum] / mass_desired_xe_propellant, marker=\"x\", color=\"black\", label=\"optimum\")\n",
    "#ylim(ymin=0.0)\n",
    "#xlim(xmin=0.0, xmax=200)\n",
    "legend()\n",
    "grid()"
   ]
  },
  {
   "cell_type": "markdown",
   "metadata": {},
   "source": [
    "### Adsorbed Xe Storage"
   ]
  },
  {
   "cell_type": "code",
   "execution_count": null,
   "metadata": {},
   "outputs": [],
   "source": [
    "P_range = range(0.0, 50.0, length=200)"
   ]
  },
  {
   "cell_type": "code",
   "execution_count": null,
   "metadata": {},
   "outputs": [],
   "source": [
    "mof_to_optimum_results = Dict()\n",
    "\n",
    "for mof in crystal_names\n",
    "    opt = optimum_storage(mof)\n",
    "    mof_to_optimum_results[mof] = Dict()\n",
    "    mof_to_optimum_results[mof][\"storage pressure [bar]\"] = opt.minimizer\n",
    "    mof_to_optimum_results[mof][\"tankage fraction\"] = opt.minimum / mass_desired_xe_propellant\n",
    "    mof_to_optimum_results[mof][\"thickness [m]\"] = t(opt.minimizer, mof)\n",
    "    mof_to_optimum_results[mof][\"radius [m]\"] = r(opt.minimizer, mof)\n",
    "    mof_to_optimum_results[mof][\"mass of tank material [kg]\"] = mₜ(opt.minimizer, mof)\n",
    "    mof_to_optimum_results[mof][\"mass of mof [kg]\"] = mₐ(opt.minimizer, mof)\n",
    "    mof_to_optimum_results[mof][\"total mass of tank [kg]\"] = mₐ(opt.minimizer, mof) + mₜ(opt.minimizer, mof)\n",
    "end\n",
    "\n",
    "mof_to_optimum_results[\"CC3\"]"
   ]
  },
  {
   "cell_type": "code",
   "execution_count": null,
   "metadata": {
    "scrolled": true
   },
   "outputs": [],
   "source": [
    "# adsorbent and total\n",
    "for mof in crystal_names    \n",
    "    figure()\n",
    "#    plot(P_range, mₜ.(P_range, \"SBMOF-1\"), color=\"green\", linestyle=\"--\", label=\"tank material\")\n",
    "    plot(P_range, mₐ.(P_range, mof) / mass_desired_xe_propellant, color=\"blue\", linestyle=\"--\", label=mof)\n",
    "    plot(P_range, (mₜ.(P_range, mof) + mₐ.(P_range, mof)) / mass_desired_xe_propellant, color=\"red\", label=\"total\")\n",
    "    xlabel(L\"Pressure, $P$ [bar]\")\n",
    "    ylabel(\"tankage fraction\")\n",
    "#    ylim(ymax=500)\n",
    "#    xlim(xmin=0.0, xmax=10)\n",
    "    scatter(mof_to_optimum_results[mof][\"storage pressure [bar]\"], mof_to_optimum_results[mof][\"tankage fraction\"],\n",
    "            marker=\"x\", color=\"black\", zorder=1000)\n",
    "    legend()\n",
    "    grid()\n",
    "end"
   ]
  },
  {
   "cell_type": "code",
   "execution_count": null,
   "metadata": {},
   "outputs": [],
   "source": [
    "function make_plots(mof_name::String, mof_to_optimum_results::Dict)\n",
    "    argmin_tankage_fraction = argmin(mof_to_optimum_results[\"tankage fraction\"])\n",
    "    @printf(\"The optimum storage pressure is %.2f bar with a tank mass of %.2f kg.\\n\", \n",
    "        P_range[argmin_tankage_fraction], mof_to_optimum_results[\"mass of tank material [kg]\"][argmin_tankage_fraction])\n",
    "\n",
    "    println(\"optimum: \")\n",
    "    println(\"\\tstorage pressure [bar] = \", P_range[argmin_tankage_fraction])\n",
    "    println(\"\\tmass of tank material [kg] = \", mof_to_optimum_results[\"mass of tank material [kg]\"][argmin_tankage_fraction])\n",
    "    println(\"\\ttankage fraction [kg] = \", mof_to_optimum_results[\"tankage fraction\"][argmin_tankage_fraction])\n",
    "#    println(\"\\tstorage density [mol/m³] = \", mof_to_optimum_results[\"Density of gas in MOF (mol/m³)\"][argmin_tankage_fraction])\n",
    "\n",
    "    fig, axs = subplots(4, 1, figsize=(8, 12), \n",
    "                    sharex=true, sharey=false, tight_layout=true)\n",
    "    # plot adsorption isotherm of MOF (Langmuir and raw data)\n",
    "#    axs[1].plot(P_range, mof_to_optimum_results[\"Density of gas in MOF (mol/m³)\"], color=\"C1\", label=\"Langmuir fit\")\n",
    "#    axs[1].scatter(xe_isotherms[mof_name][!, common_pressure_units], xe_isotherms[mof_name][!, common_loading_units],\n",
    "#        label=\"data\")\n",
    "#    axs[1].legend()\n",
    "#    axs[1].set_ylabel(\"xenon density [mol/m³]\")\n",
    "#    axs[1].set_title(\"Adsobed Xe storage at 298 K\")\n",
    "\n",
    "    # tank radius\n",
    "    axs[1].plot(P_range, r.(P_range, mof), color=\"C2\")\n",
    "    axs[1].set_ylabel(\"radius [m]\")\n",
    "\n",
    "    # tank thickness\n",
    "    axs[2].plot(P_range, t.(P_range, mof), color=\"C3\")\n",
    "    axs[2].set_ylabel(\"thickness [m]\")\n",
    "    # axs[3].axvline(x=xe_critical_pressure, linestyle=\"--\", color=\"k\", label=\"crit. pressure\", lw=1)\n",
    "\n",
    "    # mass of tank\n",
    "    axs[3].plot(P_range, mof_to_optimum_results[\"mass of tank material [kg]\"], color=\"C7\", linestyle=\"--\", label=\"tank material\")\n",
    "    axs[3].plot(P_range, mof_to_optimum_results[\"mass of mof[kg]\"], color=\"C5\", linestyle=\"--\", label=\"MOF material\")\n",
    "    axs[3].plot(P_range, mof_to_optimum_results[\"total mass of tank [kg]\"], color=\"C6\", label=\"total\")\n",
    "    axs[3].set_ylabel(\"mass [kg]\")\n",
    "    axs[3].legend(bbox_to_anchor=(0., 1.02, 1., .102), loc=\"lower left\",\n",
    "           ncol=2, mode=\"expand\", borderaxespad=0)\n",
    "\n",
    "    xlabel(L\"pressure, $P$ [bar]\")\n",
    "    ylim(ymin=0.0)\n",
    "    xlim(xmin=10.0)\n",
    "    \n",
    "    # plot tankage fraction\n",
    "    figure()\n",
    "    scatter(P_range[argmin_tankage_fraction], mof_to_optimum_results[\"tankage fraction\"][argmin_tankage_fraction],\n",
    "        label=\"minimum\", color=\"b\", zorder=999)\n",
    "    plot(P_range, mof_to_optimum_results[\"tankage fraction\"], color=\"C4\")\n",
    "    xlabel(\"storage pressure [bar]\")\n",
    "    ylabel(\"total mass of tank / mass Xe\")\n",
    "    legend()\n",
    "    title(\"tankage fraction of adsorbed Xe\")\n",
    "    # ylim(ymin=0.0)\n",
    "    print(\"Total tank mass at optimum pressure = \", mof_to_optimum_results[\"tankage fraction\"][argmin_tankage_fraction])\n",
    "\n",
    "end"
   ]
  },
  {
   "cell_type": "code",
   "execution_count": null,
   "metadata": {},
   "outputs": [],
   "source": [
    "make_plots(\"MOF-505\", mof_to_optimum_results[\"MOF-505\"])"
   ]
  },
  {
   "cell_type": "code",
   "execution_count": null,
   "metadata": {},
   "outputs": [],
   "source": []
  }
 ],
 "metadata": {
  "@webio": {
   "lastCommId": "637de95bcc7f48b1ab5660c0adbf994b",
   "lastKernelId": "1aafb4c7-6369-41d0-99a0-d0088cc280a4"
  },
  "kernelspec": {
   "display_name": "Julia 1.4.0",
   "language": "julia",
   "name": "julia-1.4"
  },
  "language_info": {
   "file_extension": ".jl",
   "mimetype": "application/julia",
   "name": "julia",
   "version": "1.4.0"
  }
 },
 "nbformat": 4,
 "nbformat_minor": 2
}
