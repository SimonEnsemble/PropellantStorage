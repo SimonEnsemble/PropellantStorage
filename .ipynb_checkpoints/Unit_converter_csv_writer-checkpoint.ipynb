{
 "cells": [
  {
   "cell_type": "code",
   "execution_count": 1,
   "metadata": {},
   "outputs": [],
   "source": [
    "# # filter through units with Arni l8er\n",
    "# global PATH_TO_DATA = joinpath(pwd(), \"data\")\n",
    "\n",
    "# function isotherm_data(isotherm_filename::AbstractString)\n",
    "#     file = open(joinpath(PATH_TO_DATA, \"isotherms\", isotherm_filename))\n",
    "#     lines = readlines(file)\n",
    "#     close(file)\n",
    "#     data = JSON.parse(join(lines))\n",
    "    \n",
    "#     pressure_pts = Array{Float64,1}()\n",
    "#     adsorption_pts = Array{Float64,1}()\n",
    "\n",
    "#     for datapoints_dict in data[\"isotherm_data\"]\n",
    "#         append!(pressure_pts, datapoints_dict[\"pressure\"])\n",
    "#         append!(adsorption_pts, datapoints_dict[\"total_adsorption\"])\n",
    "#     end\n",
    "\n",
    "#     df_isotherm = Dict{Symbol, Array{Float64}}()\n",
    "#         df_isotherm[Symbol(\"P(bar)\")] = pressure_pts\n",
    "#         df_isotherm[Symbol(\"Adsorption(mmol/g)\")] = adsorption_pts\n",
    "#     DataFrame(df_isotherm)\n",
    "# end"
   ]
  },
  {
   "cell_type": "code",
   "execution_count": 8,
   "metadata": {},
   "outputs": [],
   "source": [
    "using CSV\n",
    "using DataFrames"
   ]
  },
  {
   "cell_type": "code",
   "execution_count": 1,
   "metadata": {},
   "outputs": [
    {
     "data": {
      "text/plain": [
       "isotherm_data (generic function with 1 method)"
      ]
     },
     "execution_count": 1,
     "metadata": {},
     "output_type": "execute_result"
    }
   ],
   "source": [
    "global PATH_TO_DATA = joinpath(pwd(), \"data\")\n",
    "\n",
    "function isotherm_data(isotherm_filename::AbstractString)\n",
    "    @assert split(isotherm_filename, \".\")[end] == \"csv\"\n",
    "    # file = open(joinpath(PATH_TO_DATA, \"isotherms\", isotherm_filename))\n",
    "     #lines = readlines(file)\n",
    "     #close(file)\n",
    "     #isotherms = JSON.parse(join(lines))\n",
    "    \n",
    "     isotherms = CSV.read(joinpath(PATH_TO_DATA, \"isotherms\", isotherm_filename))\n",
    "     pressure_pts = Array{Float64,1}[]\n",
    "     adsorption_pts = Array{Float64,1}[]\n",
    "   #  for isotherm in isotherms # I think this for loop is indexed incorrectly but I am unsure of how to correctly do it \n",
    "         df_isotherm = Dict{Symbol, Array{Float64}}()\n",
    "         df_isotherm[Symbol(\"P(bar)\")] = pressure_pts\n",
    "         df_isotherm[Symbol(\"Adsorption(mol/m3)\")] = adsorption_pts\n",
    "         CSV.write(isotherms[\"adsorbent\"][\"name\"] * \"_\" * string(isotherms[\"temperature\"]) * \".csv\", df_isotherm)\n",
    "     for datapoints_dict in isotherms[\"isotherm_data\"]\n",
    "         append!(pressure_pts, datapoints_dict[\"pressure\"])\n",
    "         append!(adsorption_pts, datapoints_dict[\"total_adsorption\"])\n",
    "     end\n",
    "end\n",
    " "
   ]
  },
  {
   "cell_type": "code",
   "execution_count": null,
   "metadata": {},
   "outputs": [],
   "source": [
    "isotherm_df = CSV.read(joinpath(PATH_TO_DATA, \"isotherms\", isotherm_filename))\n",
    "\n",
    "function convert_units(pressure::Array{Float64, 1}, loading::Array{Float64,1}, pressure_unit::AbstractString, loading_unit::AbstractString)\n",
    "    @assert names(isotherm_df) in [\"mmol/g\", \"mol/kg\", \"wt%\", \"g/g\", \"cm3/g\", \"mol/m3\"]\n",
    "    if names(isotherm_df) == \"mol/m3\"\n",
    "        unit_conversion = 1.0 \n",
    "    elseif names(isotherm_df) == \"mmol/g\"\n",
    "        unit_conversion = \n",
    "    elseif names(isotherm_df) == \"mol/kg\"\n",
    "        unit_conversion == \n",
    "    elseif names(isotherm_df) == \"wt%\"\n",
    "        unit_conversion = \n",
    "    elseif names(isotherm_df) == \"g/g\"\n",
    "        unit_conversion = \n",
    "        \n",
    "        \n",
    "    "
   ]
  },
  {
   "cell_type": "code",
   "execution_count": 2,
   "metadata": {},
   "outputs": [
    {
     "ename": "AssertionError",
     "evalue": "AssertionError: (split(isotherm_filename, \".\"))[end] == \"csv\"",
     "output_type": "error",
     "traceback": [
      "AssertionError: (split(isotherm_filename, \".\"))[end] == \"csv\"",
      "",
      "Stacktrace:",
      " [1] isotherm_data(::String) at .\\In[1]:4",
      " [2] top-level scope at .\\In[2]:2"
     ]
    }
   ],
   "source": [
    "for file in readdir(\"data/isotherms\")\n",
    "    isotherm_data(file)\n",
    "end\n",
    "#readdir(\"data/isotherms\")"
   ]
  },
  {
   "cell_type": "code",
   "execution_count": null,
   "metadata": {},
   "outputs": [],
   "source": []
  }
 ],
 "metadata": {
  "kernelspec": {
   "display_name": "Julia 1.1.1",
   "language": "julia",
   "name": "julia-1.1"
  },
  "language_info": {
   "file_extension": ".jl",
   "mimetype": "application/julia",
   "name": "julia",
   "version": "1.1.1"
  }
 },
 "nbformat": 4,
 "nbformat_minor": 2
}
