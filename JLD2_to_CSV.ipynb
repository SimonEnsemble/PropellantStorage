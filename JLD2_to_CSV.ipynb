{
 "cells": [
  {
   "cell_type": "markdown",
   "metadata": {},
   "source": [
    "# JLD2 to CSV\n",
    "This script convets `.jld2` files and compiles them into a `.csv` file which can then be imported into a DataFrame."
   ]
  },
  {
   "cell_type": "code",
   "execution_count": 10,
   "metadata": {},
   "outputs": [],
   "source": [
    "using PorousMaterials\n",
    "using FileIO\n",
    "using JLD2\n",
    "using CSV\n",
    "using DataFrames\n",
    "using Printf\n",
    "using PyPlot"
   ]
  },
  {
   "cell_type": "code",
   "execution_count": 64,
   "metadata": {},
   "outputs": [
    {
     "data": {
      "text/plain": [
       "\"/home/simoncor/PropellantStorage/data\""
      ]
     },
     "execution_count": 64,
     "metadata": {},
     "output_type": "execute_result"
    }
   ],
   "source": [
    "pressures = 10 .^ range(-2, stop=log10(300), length=15)\n",
    "frameworks = [\"COF-102\", \"COF-103\"]\n",
    "PorousMaterials.PATH_TO_DATA"
   ]
  },
  {
   "cell_type": "code",
   "execution_count": 67,
   "metadata": {},
   "outputs": [
    {
     "name": "stderr",
     "output_type": "stream",
     "text": [
      "Error encountered while loading \"/home/simoncor/PropellantStorage/data/gcmc_sims/gcmc_COF-102_Xe_T298.000000_P0.010000_Dreiding_25000burn_25000sample.jld2\".\n",
      "\n",
      "Fatal error:\n"
     ]
    },
    {
     "ename": "SystemError",
     "evalue": "SystemError: opening file \"/home/simoncor/PropellantStorage/data/gcmc_sims/gcmc_COF-102_Xe_T298.000000_P0.010000_Dreiding_25000burn_25000sample.jld2\": No such file or directory",
     "output_type": "error",
     "traceback": [
      "SystemError: opening file \"/home/simoncor/PropellantStorage/data/gcmc_sims/gcmc_COF-102_Xe_T298.000000_P0.010000_Dreiding_25000burn_25000sample.jld2\": No such file or directory",
      "",
      "Stacktrace:",
      " [1] handle_error(::SystemError, ::File{DataFormat{:JLD2}}) at /home/simoncor/.julia/packages/FileIO/t40j7/src/error_handling.jl:82",
      " [2] handle_exceptions(::Array{Any,1}, ::String) at /home/simoncor/.julia/packages/FileIO/t40j7/src/error_handling.jl:77",
      " [3] #load#27(::Base.Iterators.Pairs{Union{},Union{},Tuple{},NamedTuple{(),Tuple{}}}, ::typeof(load), ::File{DataFormat{:JLD2}}, ::String) at /home/simoncor/.julia/packages/FileIO/t40j7/src/loadsave.jl:193",
      " [4] load(::File{DataFormat{:JLD2}}, ::String) at /home/simoncor/.julia/packages/FileIO/t40j7/src/loadsave.jl:172",
      " [5] #load#13(::Base.Iterators.Pairs{Union{},Union{},Tuple{},NamedTuple{(),Tuple{}}}, ::typeof(load), ::String, ::String) at /home/simoncor/.julia/packages/FileIO/t40j7/src/loadsave.jl:118",
      " [6] load(::String, ::String) at /home/simoncor/.julia/packages/FileIO/t40j7/src/loadsave.jl:118",
      " [7] #isotherm_sim_results_to_dataframe#35(::Nothing, ::typeof(isotherm_sim_results_to_dataframe), ::Array{String,1}, ::String, ::Symbol, ::String, ::Float64, ::Array{Float64,1}, ::Int64, ::Int64) at ./In[67]:15",
      " [8] isotherm_sim_results_to_dataframe(::Array{String,1}, ::String, ::Symbol, ::String, ::Float64, ::Array{Float64,1}, ::Int64, ::Int64) at ./In[67]:5",
      " [9] top-level scope at ./In[67]:28"
     ]
    }
   ],
   "source": [
    "function isotherm_sim_results_to_dataframe(props_we_want::Array{String},\n",
    "        frameworkname::String, gas::Symbol, forcefieldname::String, temperature::Float64, \n",
    "        pressures::Array{Float64}, n_burn_cycles::Int, n_sample_cycles::Int; \n",
    "        where_are_jld_files::Union{String, Nothing}=nothing)\n",
    "    if isnothing(where_are_jld_files)\n",
    "        where_are_jld_files = joinpath(PorousMaterials.PATH_TO_DATA, \"gcmc_sims\")\n",
    "    end\n",
    "    # prepare dataframe to populate\n",
    "    df = DataFrame()\n",
    "    for col in props_we_want\n",
    "        insertcols!(df, length(names(df)) + 1, Symbol(col) => Float64[])\n",
    "    end\n",
    "\n",
    "    for (i, pressure) in enumerate(pressures)\n",
    "        sim_result = load(\n",
    "            joinpath(where_are_jld_files, \n",
    "                gcmc_result_savename(frameworkname, gas, forcefieldname, \n",
    "                    temperature, pressure, n_burn_cycles, n_sample_cycles) * \".jld2\"\n",
    "            ), \"results\"\n",
    "        )\n",
    "        push!(df, [sim_result[prop] for prop in props_we_want])\n",
    "    end\n",
    "    return df\n",
    "end\n",
    "\n",
    "props_we_want = [\"pressure (bar)\", \"fugacity (bar)\", \"⟨N⟩ (mmol/g)\"]\n",
    "for frameworkname in frameworks\n",
    "    df = isotherm_sim_results_to_dataframe(props_we_want, frameworkname,\n",
    "        :Xe, \"Dreiding\", 298.0, pressures, 25000, 25000)\n",
    "    CSV.write(joinpath(\"data\", \"sim_isotherms\", frameworkname * \".csv\"), df)\n",
    "end"
   ]
  },
  {
   "cell_type": "code",
   "execution_count": 56,
   "metadata": {},
   "outputs": [
    {
     "data": {
      "image/png": "[encoded data removed]",
      "text/plain": [
       "Figure(PyObject <Figure size 640x480 with 1 Axes>)"
      ]
     },
     "metadata": {},
     "output_type": "display_data"
    },
    {
     "data": {
      "text/plain": [
       "1-element Array{PyCall.PyObject,1}:\n",
       " PyObject <matplotlib.lines.Line2D object at 0x7f880e9c34e0>"
      ]
     },
     "execution_count": 56,
     "metadata": {},
     "output_type": "execute_result"
    }
   ],
   "source": [
    "figure()\n",
    "plot(df[:, Symbol(\"pressure (bar)\")], df[:, Symbol(\"⟨N⟩ (mmol/g)\")], marker=\"o\")"
   ]
  },
  {
   "cell_type": "code",
   "execution_count": null,
   "metadata": {},
   "outputs": [],
   "source": []
  },
  {
   "cell_type": "code",
   "execution_count": null,
   "metadata": {},
   "outputs": [],
   "source": []
  }
 ],
 "metadata": {
  "@webio": {
   "lastCommId": "1d0c62c322e243018d1f071b626eee18",
   "lastKernelId": "0124b703-44e0-4b7c-83ff-90fee5ae766d"
  },
  "kernelspec": {
   "display_name": "Julia 1.3.0",
   "language": "julia",
   "name": "julia-1.3"
  },
  "language_info": {
   "file_extension": ".jl",
   "mimetype": "application/julia",
   "name": "julia",
   "version": "1.3.0"
  }
 },
 "nbformat": 4,
 "nbformat_minor": 2
}
