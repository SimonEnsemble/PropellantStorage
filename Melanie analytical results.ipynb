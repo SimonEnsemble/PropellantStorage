{
 "cells": [
  {
   "cell_type": "code",
   "execution_count": 1,
   "metadata": {},
   "outputs": [],
   "source": [
    "using PorousMaterials\n",
    "using PyPlot\n",
    "using DataFrames\n",
    "using CSV"
   ]
  },
  {
   "cell_type": "markdown",
   "metadata": {},
   "source": [
    "define variables"
   ]
  },
  {
   "cell_type": "code",
   "execution_count": null,
   "metadata": {},
   "outputs": [],
   "source": [
    "σ_y = \n",
    "n_Xe = \n",
    "\n",
    "P_range = range(0.0, 200.0, length=200)"
   ]
  },
  {
   "cell_type": "markdown",
   "metadata": {},
   "source": [
    "read in density of xenon data (in bulk and adsorbed conditions)"
   ]
  },
  {
   "cell_type": "code",
   "execution_count": 16,
   "metadata": {},
   "outputs": [
    {
     "ename": "ErrorException",
     "evalue": "cannot declare df_xtal constant; it already has a value",
     "output_type": "error",
     "traceback": [
      "cannot declare df_xtal constant; it already has a value",
      "",
      "Stacktrace:",
      " [1] top-level scope at In[16]:1"
     ]
    }
   ],
   "source": [
    "const df_xtal = CSV.read(\"df_crystal.csv\")"
   ]
  },
  {
   "cell_type": "code",
   "execution_count": 15,
   "metadata": {},
   "outputs": [
    {
     "data": {
      "text/html": [
       "<table class=\"data-frame\"><thead><tr><th></th><th>Temperature (K)</th><th>Pressure (bar)</th><th>Density (mol/l)</th></tr><tr><th></th><th>Float64</th><th>Float64</th><th>Float64</th></tr></thead><tbody><p>1,203 rows × 3 columns</p><tr><th>1</th><td>298.0</td><td>0.0</td><td>0.0</td></tr><tr><th>2</th><td>298.0</td><td>0.0025</td><td>0.0001009</td></tr><tr><th>3</th><td>298.0</td><td>0.005</td><td>0.0002018</td></tr><tr><th>4</th><td>298.0</td><td>0.0075</td><td>0.00030271</td></tr><tr><th>5</th><td>298.0</td><td>0.01</td><td>0.00040362</td></tr><tr><th>6</th><td>298.0</td><td>0.0125</td><td>0.00050453</td></tr><tr><th>7</th><td>298.0</td><td>0.015</td><td>0.00060544</td></tr><tr><th>8</th><td>298.0</td><td>0.0175</td><td>0.00070636</td></tr><tr><th>9</th><td>298.0</td><td>0.02</td><td>0.00080728</td></tr><tr><th>10</th><td>298.0</td><td>0.0225</td><td>0.0009082</td></tr><tr><th>11</th><td>298.0</td><td>0.025</td><td>0.0010091</td></tr><tr><th>12</th><td>298.0</td><td>0.0275</td><td>0.0011101</td></tr><tr><th>13</th><td>298.0</td><td>0.03</td><td>0.001211</td></tr><tr><th>14</th><td>298.0</td><td>0.0325</td><td>0.0013119</td></tr><tr><th>15</th><td>298.0</td><td>0.035</td><td>0.0014129</td></tr><tr><th>16</th><td>298.0</td><td>0.0375</td><td>0.0015138</td></tr><tr><th>17</th><td>298.0</td><td>0.04</td><td>0.0016147</td></tr><tr><th>18</th><td>298.0</td><td>0.0425</td><td>0.0017157</td></tr><tr><th>19</th><td>298.0</td><td>0.045</td><td>0.0018166</td></tr><tr><th>20</th><td>298.0</td><td>0.0475</td><td>0.0019176</td></tr><tr><th>21</th><td>298.0</td><td>0.05</td><td>0.0020185</td></tr><tr><th>22</th><td>298.0</td><td>0.0525</td><td>0.0021195</td></tr><tr><th>23</th><td>298.0</td><td>0.055</td><td>0.0022204</td></tr><tr><th>24</th><td>298.0</td><td>0.0575</td><td>0.0023214</td></tr><tr><th>25</th><td>298.0</td><td>0.06</td><td>0.0024223</td></tr><tr><th>26</th><td>298.0</td><td>0.0625</td><td>0.0025233</td></tr><tr><th>27</th><td>298.0</td><td>0.065</td><td>0.0026243</td></tr><tr><th>28</th><td>298.0</td><td>0.0675</td><td>0.0027252</td></tr><tr><th>29</th><td>298.0</td><td>0.07</td><td>0.0028262</td></tr><tr><th>30</th><td>298.0</td><td>0.0725</td><td>0.0029272</td></tr><tr><th>&vellip;</th><td>&vellip;</td><td>&vellip;</td><td>&vellip;</td></tr></tbody></table>"
      ],
      "text/latex": [
       "\\begin{tabular}{r|ccc}\n",
       "\t& Temperature (K) & Pressure (bar) & Density (mol/l)\\\\\n",
       "\t\\hline\n",
       "\t& Float64 & Float64 & Float64\\\\\n",
       "\t\\hline\n",
       "\t1 & 298.0 & 0.0 & 0.0 \\\\\n",
       "\t2 & 298.0 & 0.0025 & 0.0001009 \\\\\n",
       "\t3 & 298.0 & 0.005 & 0.0002018 \\\\\n",
       "\t4 & 298.0 & 0.0075 & 0.00030271 \\\\\n",
       "\t5 & 298.0 & 0.01 & 0.00040362 \\\\\n",
       "\t6 & 298.0 & 0.0125 & 0.00050453 \\\\\n",
       "\t7 & 298.0 & 0.015 & 0.00060544 \\\\\n",
       "\t8 & 298.0 & 0.0175 & 0.00070636 \\\\\n",
       "\t9 & 298.0 & 0.02 & 0.00080728 \\\\\n",
       "\t10 & 298.0 & 0.0225 & 0.0009082 \\\\\n",
       "\t11 & 298.0 & 0.025 & 0.0010091 \\\\\n",
       "\t12 & 298.0 & 0.0275 & 0.0011101 \\\\\n",
       "\t13 & 298.0 & 0.03 & 0.001211 \\\\\n",
       "\t14 & 298.0 & 0.0325 & 0.0013119 \\\\\n",
       "\t15 & 298.0 & 0.035 & 0.0014129 \\\\\n",
       "\t16 & 298.0 & 0.0375 & 0.0015138 \\\\\n",
       "\t17 & 298.0 & 0.04 & 0.0016147 \\\\\n",
       "\t18 & 298.0 & 0.0425 & 0.0017157 \\\\\n",
       "\t19 & 298.0 & 0.045 & 0.0018166 \\\\\n",
       "\t20 & 298.0 & 0.0475 & 0.0019176 \\\\\n",
       "\t21 & 298.0 & 0.05 & 0.0020185 \\\\\n",
       "\t22 & 298.0 & 0.0525 & 0.0021195 \\\\\n",
       "\t23 & 298.0 & 0.055 & 0.0022204 \\\\\n",
       "\t24 & 298.0 & 0.0575 & 0.0023214 \\\\\n",
       "\t25 & 298.0 & 0.06 & 0.0024223 \\\\\n",
       "\t26 & 298.0 & 0.0625 & 0.0025233 \\\\\n",
       "\t27 & 298.0 & 0.065 & 0.0026243 \\\\\n",
       "\t28 & 298.0 & 0.0675 & 0.0027252 \\\\\n",
       "\t29 & 298.0 & 0.07 & 0.0028262 \\\\\n",
       "\t30 & 298.0 & 0.0725 & 0.0029272 \\\\\n",
       "\t$\\dots$ & $\\dots$ & $\\dots$ & $\\dots$ \\\\\n",
       "\\end{tabular}\n"
      ],
      "text/plain": [
       "1203×3 DataFrame\n",
       "│ Row  │ Temperature (K) │ Pressure (bar) │ Density (mol/l) │\n",
       "│      │ \u001b[90mFloat64\u001b[39m         │ \u001b[90mFloat64\u001b[39m        │ \u001b[90mFloat64\u001b[39m         │\n",
       "├──────┼─────────────────┼────────────────┼─────────────────┤\n",
       "│ 1    │ 298.0           │ 0.0            │ 0.0             │\n",
       "│ 2    │ 298.0           │ 0.0025         │ 0.0001009       │\n",
       "│ 3    │ 298.0           │ 0.005          │ 0.0002018       │\n",
       "│ 4    │ 298.0           │ 0.0075         │ 0.00030271      │\n",
       "│ 5    │ 298.0           │ 0.01           │ 0.00040362      │\n",
       "│ 6    │ 298.0           │ 0.0125         │ 0.00050453      │\n",
       "│ 7    │ 298.0           │ 0.015          │ 0.00060544      │\n",
       "│ 8    │ 298.0           │ 0.0175         │ 0.00070636      │\n",
       "│ 9    │ 298.0           │ 0.02           │ 0.00080728      │\n",
       "│ 10   │ 298.0           │ 0.0225         │ 0.0009082       │\n",
       "⋮\n",
       "│ 1193 │ 298.0           │ 344.17         │ 17.664          │\n",
       "│ 1194 │ 298.0           │ 344.75         │ 17.669          │\n",
       "│ 1195 │ 298.0           │ 345.33         │ 17.673          │\n",
       "│ 1196 │ 298.0           │ 345.92         │ 17.678          │\n",
       "│ 1197 │ 298.0           │ 346.5          │ 17.683          │\n",
       "│ 1198 │ 298.0           │ 347.08         │ 17.688          │\n",
       "│ 1199 │ 298.0           │ 347.67         │ 17.693          │\n",
       "│ 1200 │ 298.0           │ 348.25         │ 17.698          │\n",
       "│ 1201 │ 298.0           │ 348.83         │ 17.702          │\n",
       "│ 1202 │ 298.0           │ 349.42         │ 17.707          │\n",
       "│ 1203 │ 298.0           │ 350.0          │ 17.712          │"
      ]
     },
     "execution_count": 15,
     "metadata": {},
     "output_type": "execute_result"
    }
   ],
   "source": [
    "const df_xe = vcat(CSV.read(joinpath(\"data\", \"NIST_data\", \"low_pressure_xenon_NIST_data.txt\"))[2:end, 1:3],\n",
    "             CSV.read(joinpath(\"data\", \"NIST_data\", \"xenon_NIST_data.txt\"))[:, 1:3])\n",
    "sort!(df_xe, Symbol(\"Pressure (bar)\"))"
   ]
  },
  {
   "cell_type": "markdown",
   "metadata": {},
   "source": [
    "melanie: see `inter_linear` http://juliamath.github.io/Interpolations.jl/latest/convenience-construction/"
   ]
  },
  {
   "cell_type": "code",
   "execution_count": 9,
   "metadata": {},
   "outputs": [
    {
     "data": {
      "text/plain": [
       "ρ_Xe (generic function with 1 method)"
      ]
     },
     "execution_count": 9,
     "metadata": {},
     "output_type": "execute_result"
    }
   ],
   "source": [
    "# return density of Xenon in MOF under Langmuir model\n",
    "function ρ_Xe_ads(P::Float64, xtal::String)\n",
    "    # get M, K from the crystal dataframe\n",
    "    return M * K * P / (1 + K * P) # mol/m³\n",
    "end\n",
    "\n",
    "# return density of bulk Xenon gas\n",
    "# this will read in and interpolate NIST data\n",
    "function ρ_Xe(P::Float64)\n",
    "    # interpolate data in df_xe\n",
    "end"
   ]
  },
  {
   "cell_type": "code",
   "execution_count": 10,
   "metadata": {},
   "outputs": [
    {
     "data": {
      "text/plain": [
       "mₐ (generic function with 1 method)"
      ]
     },
     "execution_count": 10,
     "metadata": {},
     "output_type": "execute_result"
    }
   ],
   "source": [
    "# radius of vessel needed\n",
    "function r(P::Float64, xtal::String) # ads Xe storage\n",
    "end\n",
    "\n",
    "function r(P::Float64) # bulk Xe storage\n",
    "end\n",
    "\n",
    "# mass of tank material needed\n",
    "function mₜ(P::Float64, xtal::String) # ads Xe storage\n",
    "end\n",
    "\n",
    "function mₜ(P::Float64)  # bulk Xe storage\n",
    "end\n",
    "\n",
    "# mass of adsorbent needed\n",
    "function mₐ(P::Float64, xtal::String) # ads Xe storage (of course)\n",
    "end\n",
    "\n",
    "function P_opt(xtal::String) # ads Xe storage\n",
    "    # use Optim.jl to find the minimum\n",
    "end\n",
    "\n",
    "function P_opt() # bulk Xe storage\n",
    "end"
   ]
  },
  {
   "cell_type": "code",
   "execution_count": null,
   "metadata": {},
   "outputs": [],
   "source": []
  }
 ],
 "metadata": {
  "@webio": {
   "lastCommId": "637de95bcc7f48b1ab5660c0adbf994b",
   "lastKernelId": "1aafb4c7-6369-41d0-99a0-d0088cc280a4"
  },
  "kernelspec": {
   "display_name": "Julia 1.3.0",
   "language": "julia",
   "name": "julia-1.3"
  },
  "language_info": {
   "file_extension": ".jl",
   "mimetype": "application/julia",
   "name": "julia",
   "version": "1.3.0"
  }
 },
 "nbformat": 4,
 "nbformat_minor": 2
}
