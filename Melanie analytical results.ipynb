{
 "cells": [
  {
   "cell_type": "code",
   "execution_count": 2,
   "metadata": {
    "scrolled": true
   },
   "outputs": [],
   "source": [
    "using PorousMaterials\n",
    "using PyPlot\n",
    "using DataFrames\n",
    "using CSV\n",
    "using Interpolations\n",
    "using Optim\n",
    "using Printf\n",
    "# PyPlot.matplotlib.font_manager.fontManager.addfont(\"OpenSans-Regular.ttf\") # installs font\n",
    "PyPlot.matplotlib.style.use(\"grandbudapest.mplstyle\") # uses style"
   ]
  },
  {
   "cell_type": "markdown",
   "metadata": {},
   "source": [
    "[1] Tam,  W.;  Jackson,  A.;  Nishida,  E.;  Ka-sai, Y.; Tsujihata, A.; Kajiwara, K. Designand  manufacture  of  the  ETS  VIII  xenontank.36thAIAA/ASME/SAE/ASEEJoint  Propulsion  Conference  and  Exhibit.2000; p 3677.(https://doi.org/10.2514/6.2000-3677)\n",
    "\n",
    "[2] Welsch,  G.;  Boyer,  R.;  Collings,  E.Materials properties handbook: titanium alloys;ASM international, 1993. \n",
    "\n",
    "[3] Niinomi,   M.   Mechanical   properties   of biomedical  titanium  alloys. Materials Science and Engineering: A1998,243, 231–236.\n",
    "\n",
    "[4] propellant storage considerations [link](https://erps.spacegrant.org/uploads/images/images/iepc_articledownload_1988-2007/1991index/IEPC1991-107.pdf)"
   ]
  },
  {
   "cell_type": "markdown",
   "metadata": {},
   "source": [
    "# define constants"
   ]
  },
  {
   "cell_type": "markdown",
   "metadata": {},
   "source": [
    "Tank material anealed Ti-6Al-4V characteristics [1], [2], [3]"
   ]
  },
  {
   "cell_type": "code",
   "execution_count": 3,
   "metadata": {},
   "outputs": [
    {
     "data": {
      "text/plain": [
       "0.5"
      ]
     },
     "execution_count": 3,
     "metadata": {},
     "output_type": "execute_result"
    }
   ],
   "source": [
    "const ρ_t = 4428.785 # kg/m³ (convdrted from 0.16 lb/in³ listed in [2])\n",
    "const σ_y = 8250.0 # bar Yield Strength (lower-limit of reported values [3])\n",
    "const temperature = 298.0 # K\n",
    "# const β = 0.5 # safety factor\n",
    "β = 0.5"
   ]
  },
  {
   "cell_type": "markdown",
   "metadata": {},
   "source": [
    "Common amount of xenon gas required to bring into space [1]."
   ]
  },
  {
   "cell_type": "code",
   "execution_count": 4,
   "metadata": {},
   "outputs": [
    {
     "data": {
      "text/plain": [
       "761.6552291439757"
      ]
     },
     "execution_count": 4,
     "metadata": {},
     "output_type": "execute_result"
    }
   ],
   "source": [
    "const xe_atomic_mass = read_atomic_masses()[:Xe] / 1000 # kg / mol\n",
    "\n",
    "const mass_desired_xe_propellant = 100.0 # kg Xe\n",
    "const mol_desired_xe_propellant = mass_desired_xe_propellant / xe_atomic_mass # mol Xe"
   ]
  },
  {
   "cell_type": "markdown",
   "metadata": {},
   "source": [
    "# read in data on candidate materials\n",
    "Langmuir $M$, $K$ that describe xenon adsorption isotherms and $\\rho$ of the crystal."
   ]
  },
  {
   "cell_type": "code",
   "execution_count": 5,
   "metadata": {
    "scrolled": true
   },
   "outputs": [
    {
     "data": {
      "text/plain": [
       "Dict{String,Float64} with 10 entries:\n",
       "  \"Ni-MOF-74\"           => 1194.12\n",
       "  \"SBMOF-2\"             => 1191.92\n",
       "  \"Activated-Carbon\"    => 500.0\n",
       "  \"CC3\"                 => 958.585\n",
       "  \"COF-103 (simulated)\" => 388.73\n",
       "  \"SBMOF-1\"             => 1570.4\n",
       "  \"NiPyC2\"              => 1250.33\n",
       "  \"HKUST-1\"             => 879.096\n",
       "  \"MOF-505\"             => 926.618\n",
       "  \"Co-formate\"          => 1821.5"
      ]
     },
     "execution_count": 5,
     "metadata": {},
     "output_type": "execute_result"
    }
   ],
   "source": [
    "df_crystal = CSV.read(\"df_crystal.csv\")\n",
    "\n",
    "const xtal_to_K = Dict(row.:xtal => row.:K_inv_bar for row in eachrow(df_crystal))\n",
    "const xtal_to_M = Dict(row.:xtal => row.:M_mol_m3  for row in eachrow(df_crystal))\n",
    "const xtal_to_ρ = Dict(row.:xtal => row.:ρ_kg_m3   for row in eachrow(df_crystal))"
   ]
  },
  {
   "cell_type": "code",
   "execution_count": 6,
   "metadata": {},
   "outputs": [
    {
     "data": {
      "text/plain": [
       "Dict{String,String} with 10 entries:\n",
       "  \"Ni-MOF-74\"           => \"C2\"\n",
       "  \"SBMOF-2\"             => \"C4\"\n",
       "  \"Activated-Carbon\"    => \"C7\"\n",
       "  \"CC3\"                 => \"C1\"\n",
       "  \"COF-103 (simulated)\" => \"C9\"\n",
       "  \"SBMOF-1\"             => \"C0\"\n",
       "  \"NiPyC2\"              => \"C8\"\n",
       "  \"HKUST-1\"             => \"C3\"\n",
       "  \"MOF-505\"             => \"C6\"\n",
       "  \"Co-formate\"          => \"C5\""
      ]
     },
     "execution_count": 6,
     "metadata": {},
     "output_type": "execute_result"
    }
   ],
   "source": [
    "const crystal_names = [\"SBMOF-1\", \"CC3\", \"Ni-MOF-74\", \"HKUST-1\", \"SBMOF-2\", \"Co-formate\",\n",
    "                       \"MOF-505\", \"Activated-Carbon\", \"NiPyC2\", \"COF-103 (simulated)\"]\n",
    "\n",
    "# for plotting\n",
    "const xtal_to_marker = Dict(\"SBMOF-1\" => \"o\", \"CC3\" => \">\", \"Ni-MOF-74\" => \"<\", \"HKUST-1\" => \"*\", \"SBMOF-2\" => \"H\", \n",
    "                            \"Co-formate\" => \"^\", \"MOF-505\" => \"v\", \"Activated-Carbon\" => \"d\", \"NiPyC2\" => \"s\", \n",
    "                            \"COF-103 (simulated)\" => \"8\")\n",
    "const xtal_to_color = Dict(zip(crystal_names, [\"C$i\" for i = 0:length(crystal_names)]))"
   ]
  },
  {
   "cell_type": "markdown",
   "metadata": {},
   "source": [
    "our implementation of $\\rho_{Xe}^{ads}(P)$"
   ]
  },
  {
   "cell_type": "code",
   "execution_count": 7,
   "metadata": {},
   "outputs": [
    {
     "data": {
      "text/plain": [
       "ρ_xe_ads (generic function with 1 method)"
      ]
     },
     "execution_count": 7,
     "metadata": {},
     "output_type": "execute_result"
    }
   ],
   "source": [
    "function ρ_xe_ads(P::Float64, xtal::String)\n",
    "    M = xtal_to_M[xtal]\n",
    "    K = xtal_to_K[xtal]\n",
    "    return M * K * P / (1 + K * P)\n",
    "end"
   ]
  },
  {
   "cell_type": "markdown",
   "metadata": {},
   "source": [
    "# read in bulk xenon properties"
   ]
  },
  {
   "cell_type": "markdown",
   "metadata": {},
   "source": [
    "Source for experimental data for (real) xenon gas: NIST. 298 K. source for critical pressure here. \n",
    "\n",
    "We linearly NIST data for xenon gas densities.\n",
    "\n",
    "We queried NIST for high-resolution low-pressure and high-pressure data."
   ]
  },
  {
   "cell_type": "code",
   "execution_count": 8,
   "metadata": {
    "scrolled": true
   },
   "outputs": [
    {
     "name": "stderr",
     "output_type": "stream",
     "text": [
      "┌ Warning: `head(df::AbstractDataFrame, n::Integer)` is deprecated, use `first(df, n)` instead.\n",
      "│   caller = top-level scope at In[8]:7\n",
      "└ @ Core In[8]:7\n"
     ]
    },
    {
     "data": {
      "text/html": [
       "<table class=\"data-frame\"><thead><tr><th></th><th>Pressure (bar)</th><th>Density (mol/l)</th><th>Density (mol/m³)</th></tr><tr><th></th><th>Float64</th><th>Float64</th><th>Float64</th></tr></thead><tbody><p>3 rows × 3 columns</p><tr><th>1</th><td>0.0</td><td>0.0</td><td>0.0</td></tr><tr><th>2</th><td>0.0025</td><td>0.0001009</td><td>0.1009</td></tr><tr><th>3</th><td>0.005</td><td>0.0002018</td><td>0.2018</td></tr></tbody></table>"
      ],
      "text/latex": [
       "\\begin{tabular}{r|ccc}\n",
       "\t& Pressure (bar) & Density (mol/l) & Density (mol/m³)\\\\\n",
       "\t\\hline\n",
       "\t& Float64 & Float64 & Float64\\\\\n",
       "\t\\hline\n",
       "\t1 & 0.0 & 0.0 & 0.0 \\\\\n",
       "\t2 & 0.0025 & 0.0001009 & 0.1009 \\\\\n",
       "\t3 & 0.005 & 0.0002018 & 0.2018 \\\\\n",
       "\\end{tabular}\n"
      ],
      "text/plain": [
       "3×3 DataFrame\n",
       "│ Row │ Pressure (bar) │ Density (mol/l) │ Density (mol/m³) │\n",
       "│     │ \u001b[90mFloat64\u001b[39m        │ \u001b[90mFloat64\u001b[39m         │ \u001b[90mFloat64\u001b[39m          │\n",
       "├─────┼────────────────┼─────────────────┼──────────────────┤\n",
       "│ 1   │ 0.0            │ 0.0             │ 0.0              │\n",
       "│ 2   │ 0.0025         │ 0.0001009       │ 0.1009           │\n",
       "│ 3   │ 0.005          │ 0.0002018       │ 0.2018           │"
      ]
     },
     "execution_count": 8,
     "metadata": {},
     "output_type": "execute_result"
    }
   ],
   "source": [
    "const Pc = 58.420 # bar, from NIST\n",
    "\n",
    "df_xe = vcat(CSV.read(joinpath(\"data\", \"NIST_data\", \"low_pressure_xenon_NIST_data.txt\"))[2:end, 2:3],\n",
    "             CSV.read(joinpath(\"data\", \"NIST_data\", \"xenon_NIST_data.txt\"))[:, 2:3])\n",
    "df_xe[:, Symbol(\"Density (mol/m³)\")] = df_xe[:, Symbol(\"Density (mol/l)\")] * 1000 # convert L to m³\n",
    "sort!(df_xe, Symbol(\"Pressure (bar)\"))\n",
    "\n",
    "head(df_xe, 3)"
   ]
  },
  {
   "cell_type": "markdown",
   "metadata": {},
   "source": [
    "viewing density of ideal gas at our array of pressures for comparison"
   ]
  },
  {
   "cell_type": "code",
   "execution_count": 9,
   "metadata": {},
   "outputs": [],
   "source": [
    "# Universal Gas Constant:\n",
    "const R = 8.3144598e-5; # m³-bar/(K-mol)\n",
    "P_range = range(0.0, 350.0, length=350) # bar\n",
    "\n",
    "# ideal gas density\n",
    "ρ_ideal_gas = P_range / (R * temperature); # mol / m³"
   ]
  },
  {
   "cell_type": "markdown",
   "metadata": {},
   "source": [
    "our implementation of $\\rho_{Xe}(P)$ is interpolating experimental data."
   ]
  },
  {
   "cell_type": "code",
   "execution_count": 10,
   "metadata": {
    "scrolled": true
   },
   "outputs": [
    {
     "data": {
      "text/plain": [
       "4398.542367066895"
      ]
     },
     "execution_count": 10,
     "metadata": {},
     "output_type": "execute_result"
    }
   ],
   "source": [
    "ρ_xe = LinearInterpolation(df_xe[:, Symbol(\"Pressure (bar)\")], df_xe[:, Symbol(\"Density (mol/m³)\")]) # applying (interested pressure) gives interpolated density\n",
    "ρ_xe(59.0) # example use"
   ]
  },
  {
   "cell_type": "code",
   "execution_count": 11,
   "metadata": {},
   "outputs": [
    {
     "data": {
      "image/png": "[encoded data removed]",
      "text/plain": [
       "Figure(PyObject <Figure size 640x480 with 1 Axes>)"
      ]
     },
     "metadata": {},
     "output_type": "display_data"
    },
    {
     "name": "stderr",
     "output_type": "stream",
     "text": [
      "findfont: Font family ['Open Sans'] not found. Falling back to DejaVu Sans.\r\n",
      "findfont: Font family ['Open Sans'] not found. Falling back to DejaVu Sans.\r\n"
     ]
    }
   ],
   "source": [
    "figure()\n",
    "plot(P_range, ρ_xe(P_range), color=\"C2\", label=\"xenon (NIST data)\", linewidth=3)\n",
    "vlines(Pc, 0.0, ρ_xe(Pc), linestyle=\"--\", color=\"C6\", lw=3, label=\"critical pressure\")\n",
    "plot(P_range, ρ_ideal_gas, color=\"C0\", label=\"ideal gas\", linewidth=3)\n",
    "# scatter(59.0, ρ_xe(59.0), color=\"black\", label=\"critical pressure\", marker=\"x\", zorder=500, linewidth=3)\n",
    "xlabel(L\"pressure, $P$ [bar]\")\n",
    "ylabel(L\"$\\rho_{Xe}$ [mol / m$^3$]\")\n",
    "ylim([-17500*0.025, 17500*1.025])\n",
    "xlim([-350* 0.025, 351])\n",
    "legend()\n",
    "savefig(\"figures/xenon_gas_density.pdf\", bbox_inches=\"tight\")"
   ]
  },
  {
   "cell_type": "markdown",
   "metadata": {},
   "source": [
    "# functions for analysis\n",
    "\n",
    "## adsorbed storage"
   ]
  },
  {
   "cell_type": "code",
   "execution_count": 12,
   "metadata": {},
   "outputs": [
    {
     "data": {
      "text/plain": [
       "optimum_storage (generic function with 1 method)"
      ]
     },
     "execution_count": 12,
     "metadata": {},
     "output_type": "execute_result"
    }
   ],
   "source": [
    "# radius of vessel\n",
    "# input:\n",
    "#       P [=] bar\n",
    "# output:\n",
    "#       r [=] meters\n",
    "function r(P::Float64, xtal::String) # ads Xe storage\n",
    "    return (3.0 * mol_desired_xe_propellant / (4.0 * π * ρ_xe_ads(P, xtal))) ^ (1/3)\n",
    "end\n",
    "\n",
    "# thickness of vessel walls\n",
    "# input:\n",
    "#       P [=] bar\n",
    "# output:\n",
    "#       t [=] meters\n",
    "function t(P::Float64, xtal::String) # ads Xe storage\n",
    "    return P * r(P, xtal) / (2.0 * β * σ_y)\n",
    "end\n",
    "\n",
    "# mass of vessel material\n",
    "# input:\n",
    "#       P [=] bar\n",
    "# output:\n",
    "#       mₜ [=] kg\n",
    "function mₜ(P::Float64, xtal::String) # ads Xe storage\n",
    "    return 4.0 * π * r(P, xtal) ^ 2.0 * t(P, xtal) * ρ_t\n",
    "end\n",
    "\n",
    "# mass of adsorbent\n",
    "# input:\n",
    "#       P [=] bar\n",
    "# output:\n",
    "#       mₐ [=] kg\n",
    "function mₐ(P::Float64, xtal::String) # ads Xe storage (of course)\n",
    "    return xtal_to_ρ[xtal] * mol_desired_xe_propellant / ρ_xe_ads(P, xtal)\n",
    "end\n",
    "\n",
    "# optimum pressure and mass of vessel\n",
    "# input:\n",
    "#       none\n",
    "# output:\n",
    "#       .minimizer [=] bar\n",
    "#       .minimum [=] kg  \n",
    "function optimum_storage(xtal::String) # ads Xe storage\n",
    "    # use Optim.jl to find the minimum\n",
    "    res = optimize(P -> (mₜ(P, xtal) + mₐ(P, xtal)), 0.00001, 100.0)\n",
    "    @assert res.converged \"Optimization not successful.\"\n",
    "    return res\n",
    "end"
   ]
  },
  {
   "cell_type": "markdown",
   "metadata": {},
   "source": [
    "analytical solutions from paper"
   ]
  },
  {
   "cell_type": "code",
   "execution_count": 13,
   "metadata": {},
   "outputs": [
    {
     "data": {
      "text/plain": [
       "tankage_fraction_opt_analytical (generic function with 1 method)"
      ]
     },
     "execution_count": 13,
     "metadata": {},
     "output_type": "execute_result"
    }
   ],
   "source": [
    "function P_opt_analytical(xtal::String) \n",
    "    return sqrt(2 * σ_y * xtal_to_ρ[xtal] * β / (3 * xtal_to_K[xtal] * ρ_t))\n",
    "end\n",
    "\n",
    "function tankage_fraction_opt_analytical(xtal::String)\n",
    "   return 1 / (xtal_to_M[xtal] * xe_atomic_mass * (xtal_to_K[xtal] * P_opt_analytical(xtal)) / (1 + xtal_to_K[xtal] * P_opt_analytical(xtal))) * (xtal_to_ρ[xtal] + 3 * P_opt_analytical(xtal) * ρ_t / (2 * σ_y * β))\n",
    "    #return  1 / (xtal_to_M[xtal] * xe_atomic_mass) * (xtal_to_ρ[xtal] * (1 / (xtal_to_K[xtal] * P_opt_analytical(xtal)) + 1) + 3 * ρ_t / (2 * σ_y * β * xtal_to_M[xtal] * xtal_to_K[xtal]) * (1 + xtal_to_K[xtal] * P_opt_analytical(xtal)))\n",
    "end"
   ]
  },
  {
   "cell_type": "markdown",
   "metadata": {},
   "source": [
    "## adsorbed Xe β analysis"
   ]
  },
  {
   "cell_type": "code",
   "execution_count": 78,
   "metadata": {},
   "outputs": [
    {
     "data": {
      "text/html": [
       "<table class=\"data-frame\"><thead><tr><th></th><th>β</th><th>storage_pressure</th><th>tankage_fraction</th></tr><tr><th></th><th>Float64</th><th>Float64</th><th>Float64</th></tr></thead><tbody><p>10 rows × 3 columns</p><tr><th>1</th><td>0.1</td><td>2.28861</td><td>5.5225</td></tr><tr><th>2</th><td>0.2</td><td>3.23659</td><td>5.48504</td></tr><tr><th>3</th><td>0.3</td><td>3.964</td><td>5.46848</td></tr><tr><th>4</th><td>0.4</td><td>4.57723</td><td>5.45863</td></tr><tr><th>5</th><td>0.5</td><td>5.1175</td><td>5.45191</td></tr><tr><th>6</th><td>0.6</td><td>5.60594</td><td>5.44695</td></tr><tr><th>7</th><td>0.7</td><td>6.05511</td><td>5.4431</td></tr><tr><th>8</th><td>0.8</td><td>6.47318</td><td>5.43999</td></tr><tr><th>9</th><td>0.9</td><td>6.86584</td><td>5.43742</td></tr><tr><th>10</th><td>1.0</td><td>7.23723</td><td>5.43525</td></tr></tbody></table>"
      ],
      "text/latex": [
       "\\begin{tabular}{r|ccc}\n",
       "\t& β & storage\\_pressure & tankage\\_fraction\\\\\n",
       "\t\\hline\n",
       "\t& Float64 & Float64 & Float64\\\\\n",
       "\t\\hline\n",
       "\t1 & 0.1 & 2.28861 & 5.5225 \\\\\n",
       "\t2 & 0.2 & 3.23659 & 5.48504 \\\\\n",
       "\t3 & 0.3 & 3.964 & 5.46848 \\\\\n",
       "\t4 & 0.4 & 4.57723 & 5.45863 \\\\\n",
       "\t5 & 0.5 & 5.1175 & 5.45191 \\\\\n",
       "\t6 & 0.6 & 5.60594 & 5.44695 \\\\\n",
       "\t7 & 0.7 & 6.05511 & 5.4431 \\\\\n",
       "\t8 & 0.8 & 6.47318 & 5.43999 \\\\\n",
       "\t9 & 0.9 & 6.86584 & 5.43742 \\\\\n",
       "\t10 & 1.0 & 7.23723 & 5.43525 \\\\\n",
       "\\end{tabular}\n"
      ],
      "text/plain": [
       "10×3 DataFrame\n",
       "│ Row │ β       │ storage_pressure │ tankage_fraction │\n",
       "│     │ \u001b[90mFloat64\u001b[39m │ \u001b[90mFloat64\u001b[39m          │ \u001b[90mFloat64\u001b[39m          │\n",
       "├─────┼─────────┼──────────────────┼──────────────────┤\n",
       "│ 1   │ 0.1     │ 2.28861          │ 5.5225           │\n",
       "│ 2   │ 0.2     │ 3.23659          │ 5.48504          │\n",
       "│ 3   │ 0.3     │ 3.964            │ 5.46848          │\n",
       "│ 4   │ 0.4     │ 4.57723          │ 5.45863          │\n",
       "│ 5   │ 0.5     │ 5.1175           │ 5.45191          │\n",
       "│ 6   │ 0.6     │ 5.60594          │ 5.44695          │\n",
       "│ 7   │ 0.7     │ 6.05511          │ 5.4431           │\n",
       "│ 8   │ 0.8     │ 6.47318          │ 5.43999          │\n",
       "│ 9   │ 0.9     │ 6.86584          │ 5.43742          │\n",
       "│ 10  │ 1.0     │ 7.23723          │ 5.43525          │"
      ]
     },
     "execution_count": 78,
     "metadata": {},
     "output_type": "execute_result"
    }
   ],
   "source": [
    "ads_β_test = Dict{String, DataFrame}()\n",
    "\n",
    "for xtal in crystal_names\n",
    "    β_tf  = DataFrame(β = Float64[], storage_pressure = Float64[], tankage_fraction = Float64[])\n",
    "    for βᵢ in range(0.1, 1.0, step=0.1)\n",
    "        β = βᵢ\n",
    "        push!(β_tf, (βᵢ, optimum_storage(xtal).minimizer, optimum_storage(xtal).minimum / mass_desired_xe_propellant))\n",
    "    end\n",
    "    ads_β_test[xtal] = β_tf\n",
    "end\n",
    "\n",
    "ads_β_test[\"SBMOF-1\"]"
   ]
  },
  {
   "cell_type": "code",
   "execution_count": 79,
   "metadata": {
    "scrolled": false
   },
   "outputs": [
    {
     "data": {
      "image/png": "[encoded data removed]",
      "text/plain": [
       "Figure(PyObject <Figure size 640x480 with 1 Axes>)"
      ]
     },
     "metadata": {},
     "output_type": "display_data"
    },
    {
     "name": "stderr",
     "output_type": "stream",
     "text": [
      "┌ Warning: `getindex(df::DataFrame, col_ind::ColumnIndex)` is deprecated, use `df[!, col_ind]` instead.\n",
      "│   caller = top-level scope at In[79]:5\n",
      "└ @ Core .\\In[79]:5\n",
      "┌ Warning: `getindex(df::DataFrame, col_ind::ColumnIndex)` is deprecated, use `df[!, col_ind]` instead.\n",
      "│   caller = top-level scope at In[79]:5\n",
      "└ @ Core .\\In[79]:5\n"
     ]
    }
   ],
   "source": [
    "figure()\n",
    "xlabel(\"β (safety factor)\")\n",
    "ylabel(\"optimal tankage fraction\")\n",
    "for xtal in crystal_names\n",
    "    scatter(ads_β_test[xtal][:β],\n",
    "            ads_β_test[xtal][:tankage_fraction],\n",
    "        label=(xtal == \"NiPyC2\" ? L\"Ni(PyC)$_2$\" : xtal), marker=xtal_to_marker[xtal], s=75, clip_on=false, \n",
    "        color=xtal == \"COF-103 (simulated)\" ? \"none\" : xtal_to_color[xtal], \n",
    "        edgecolor=xtal_to_color[xtal], lw=3)\n",
    "end\n",
    "\n",
    "ylim(ymin=-0.001)\n",
    "xlim(xmin=0.0)\n",
    "legend(bbox_to_anchor=(1.05, 1), loc=\"upper left\", borderaxespad=0)\n",
    "savefig(\"figures/β_vs_opt_tankages_fraction.pdf\", bbox_inches=\"tight\")"
   ]
  },
  {
   "cell_type": "markdown",
   "metadata": {},
   "source": [
    "## test of analytical solutions\n",
    "(for adsorbed storage)"
   ]
  },
  {
   "cell_type": "code",
   "execution_count": 58,
   "metadata": {},
   "outputs": [
    {
     "name": "stdout",
     "output_type": "stream",
     "text": [
      "res.minimizer = 7.237234462136186\n",
      "res.minimum / mass_desired_xe_propellant = 5.435246458398708\n",
      "P_opt = 7.2372351569091515\n",
      "tf_opt = 5.435246458398708\n"
     ]
    }
   ],
   "source": [
    "xtal = crystal_names[1]\n",
    "res = optimum_storage(xtal)\n",
    "P_opt = P_opt_analytical(xtal)\n",
    "tf_opt = tankage_fraction_opt_analytical(xtal)\n",
    "\n",
    "@show res.minimizer\n",
    "@show res.minimum / mass_desired_xe_propellant\n",
    "@show P_opt\n",
    "@show tf_opt\n",
    "\n",
    "@assert isapprox(res.minimizer, P_opt, atol=1e-6)\n",
    "@assert res.minimum / mass_desired_xe_propellant ≈ tf_opt"
   ]
  },
  {
   "cell_type": "markdown",
   "metadata": {},
   "source": [
    "## bulk storage"
   ]
  },
  {
   "cell_type": "code",
   "execution_count": 59,
   "metadata": {},
   "outputs": [
    {
     "data": {
      "text/plain": [
       "optimum_storage (generic function with 2 methods)"
      ]
     },
     "execution_count": 59,
     "metadata": {},
     "output_type": "execute_result"
    }
   ],
   "source": [
    "# radius of vessel\n",
    "# input:\n",
    "#       P [=] bar\n",
    "# output:\n",
    "#       r [=] meters\n",
    "function r(P::Float64) # bulk Xe storage\n",
    "    return (3.0 * mol_desired_xe_propellant / (4.0 * π * ρ_xe(P))) ^ (1/3)\n",
    "end\n",
    "\n",
    "# thickness of vessel walls\n",
    "# input:\n",
    "#       P [=] bar\n",
    "# output:\n",
    "#       t [=] meters\n",
    "function t(P::Float64) # bulk Xe storage\n",
    "    return P * r(P) / (2.0 * β * σ_y)\n",
    "end\n",
    "\n",
    "# mass of adsorbent\n",
    "# input:\n",
    "#       P [=] bar\n",
    "# output:\n",
    "#       mₐ [=] kg\n",
    "function mₜ(P::Float64)  # bulk Xe storage\n",
    "    return 4.0 * π * r(P) ^ 2.0 * t(P) * ρ_t\n",
    "end\n",
    "\n",
    "# optimum pressure and mass of vessel\n",
    "# input:\n",
    "#       none\n",
    "# output:\n",
    "#       .minimizer [=] bar\n",
    "#       .minimum [=] kg  \n",
    "function optimum_storage() # bulk Xe storage\n",
    "    return optimize(P -> mₜ(P[1]), 0.00001, 100.0)\n",
    "end"
   ]
  },
  {
   "cell_type": "markdown",
   "metadata": {},
   "source": [
    "## bulk Xe β analysis"
   ]
  },
  {
   "cell_type": "code",
   "execution_count": 73,
   "metadata": {},
   "outputs": [
    {
     "data": {
      "text/html": [
       "<table class=\"data-frame\"><thead><tr><th></th><th>β</th><th>storage_pressure</th><th>tankage_fraction</th></tr><tr><th></th><th>Float64</th><th>Float64</th><th>Float64</th></tr></thead><tbody><p>10 rows × 3 columns</p><tr><th>1</th><td>0.1</td><td>77.583</td><td>0.404854</td></tr><tr><th>2</th><td>0.2</td><td>77.583</td><td>0.202427</td></tr><tr><th>3</th><td>0.3</td><td>77.583</td><td>0.134951</td></tr><tr><th>4</th><td>0.4</td><td>77.583</td><td>0.101213</td></tr><tr><th>5</th><td>0.5</td><td>77.583</td><td>0.0809708</td></tr><tr><th>6</th><td>0.6</td><td>77.583</td><td>0.0674756</td></tr><tr><th>7</th><td>0.7</td><td>77.583</td><td>0.0578363</td></tr><tr><th>8</th><td>0.8</td><td>77.583</td><td>0.0506067</td></tr><tr><th>9</th><td>0.9</td><td>77.583</td><td>0.0449838</td></tr><tr><th>10</th><td>1.0</td><td>77.583</td><td>0.0404854</td></tr></tbody></table>"
      ],
      "text/latex": [
       "\\begin{tabular}{r|ccc}\n",
       "\t& β & storage\\_pressure & tankage\\_fraction\\\\\n",
       "\t\\hline\n",
       "\t& Float64 & Float64 & Float64\\\\\n",
       "\t\\hline\n",
       "\t1 & 0.1 & 77.583 & 0.404854 \\\\\n",
       "\t2 & 0.2 & 77.583 & 0.202427 \\\\\n",
       "\t3 & 0.3 & 77.583 & 0.134951 \\\\\n",
       "\t4 & 0.4 & 77.583 & 0.101213 \\\\\n",
       "\t5 & 0.5 & 77.583 & 0.0809708 \\\\\n",
       "\t6 & 0.6 & 77.583 & 0.0674756 \\\\\n",
       "\t7 & 0.7 & 77.583 & 0.0578363 \\\\\n",
       "\t8 & 0.8 & 77.583 & 0.0506067 \\\\\n",
       "\t9 & 0.9 & 77.583 & 0.0449838 \\\\\n",
       "\t10 & 1.0 & 77.583 & 0.0404854 \\\\\n",
       "\\end{tabular}\n"
      ],
      "text/plain": [
       "10×3 DataFrame\n",
       "│ Row │ β       │ storage_pressure │ tankage_fraction │\n",
       "│     │ \u001b[90mFloat64\u001b[39m │ \u001b[90mFloat64\u001b[39m          │ \u001b[90mFloat64\u001b[39m          │\n",
       "├─────┼─────────┼──────────────────┼──────────────────┤\n",
       "│ 1   │ 0.1     │ 77.583           │ 0.404854         │\n",
       "│ 2   │ 0.2     │ 77.583           │ 0.202427         │\n",
       "│ 3   │ 0.3     │ 77.583           │ 0.134951         │\n",
       "│ 4   │ 0.4     │ 77.583           │ 0.101213         │\n",
       "│ 5   │ 0.5     │ 77.583           │ 0.0809708        │\n",
       "│ 6   │ 0.6     │ 77.583           │ 0.0674756        │\n",
       "│ 7   │ 0.7     │ 77.583           │ 0.0578363        │\n",
       "│ 8   │ 0.8     │ 77.583           │ 0.0506067        │\n",
       "│ 9   │ 0.9     │ 77.583           │ 0.0449838        │\n",
       "│ 10  │ 1.0     │ 77.583           │ 0.0404854        │"
      ]
     },
     "execution_count": 73,
     "metadata": {},
     "output_type": "execute_result"
    }
   ],
   "source": [
    "bulk_β_test = DataFrame(β = Float64[], storage_pressure = Float64[], tankage_fraction = Float64[])\n",
    "\n",
    "for βᵢ in range(0.1, 1.0, step=0.1)\n",
    "    β = βᵢ\n",
    "    push!(bulk_β_test, (βᵢ, optimum_storage().minimizer, optimum_storage().minimum / mass_desired_xe_propellant))\n",
    "end\n",
    "\n",
    "bulk_β_test"
   ]
  },
  {
   "cell_type": "code",
   "execution_count": null,
   "metadata": {},
   "outputs": [],
   "source": [
    "figure()\n",
    "xlabel(\"optimal storage pressure\")\n",
    "ylabel(\"optimal tankage fraction (β = 1.0)\")\n",
    "for xtal in crystal_names\n",
    "    scatter(ads_β_test[xtal][:storage_pressure],\n",
    "            ads_β_test[xtal][:tankage_fraction],\n",
    "        label=(xtal == \"NiPyC2\" ? L\"Ni(PyC)$_2$\" : xtal), marker=xtal_to_marker[xtal], s=75, clip_on=false, \n",
    "        color=xtal == \"COF-103 (simulated)\" ? \"none\" : xtal_to_color[xtal], \n",
    "        edgecolor=xtal_to_color[xtal], lw=3)\n",
    "end\n",
    "\n",
    "ylim(ymin=-0.001)\n",
    "xlim(xmin=0.0)\n",
    "legend(bbox_to_anchor=(1.05, 1), loc=\"upper left\", borderaxespad=0)\n",
    "savefig(\"figures/β_vs_opt_tankages_fraction.pdf\", bbox_inches=\"tight\")"
   ]
  },
  {
   "cell_type": "markdown",
   "metadata": {},
   "source": [
    "# bulk Xe Storage analysis"
   ]
  },
  {
   "cell_type": "code",
   "execution_count": 61,
   "metadata": {
    "scrolled": true
   },
   "outputs": [
    {
     "data": {
      "text/plain": [
       "599-element Array{Float64,1}:\n",
       "   0.0\n",
       "   0.033444816053511704\n",
       "   0.06688963210702341\n",
       "   0.10033444816053512\n",
       "   0.13377926421404682\n",
       "   0.16722408026755853\n",
       "   0.20066889632107024\n",
       "   0.23411371237458195\n",
       "   0.26755852842809363\n",
       "   0.3010033444816054\n",
       "   0.33444816053511706\n",
       "   0.36789297658862874\n",
       "   0.4013377926421405\n",
       "   ⋮\n",
       " 120.76923076923077\n",
       " 121.15384615384616\n",
       " 121.53846153846153\n",
       " 121.92307692307692\n",
       " 122.3076923076923\n",
       " 122.6923076923077\n",
       " 123.07692307692308\n",
       " 123.46153846153847\n",
       " 123.84615384615384\n",
       " 124.23076923076923\n",
       " 124.61538461538461\n",
       " 125.0"
      ]
     },
     "execution_count": 61,
     "metadata": {},
     "output_type": "execute_result"
    }
   ],
   "source": [
    "bulk_opt = optimum_storage()\n",
    "P_range = vcat(range(0.0, 10.0, length=300), range(10.0, 125.0, length=300)[2:end]) # bar"
   ]
  },
  {
   "cell_type": "code",
   "execution_count": 62,
   "metadata": {},
   "outputs": [
    {
     "data": {
      "text/plain": [
       "Dict{Any,Any} with 5 entries:\n",
       "  \"thickness [m]\"              => 0.00117163\n",
       "  \"mass of tank material [kg]\" => 4.04854\n",
       "  \"tankage fraction\"           => 0.0404854\n",
       "  \"radius [m]\"                 => 0.249176\n",
       "  \"storage pressure [bar]\"     => 77.583"
      ]
     },
     "execution_count": 62,
     "metadata": {},
     "output_type": "execute_result"
    }
   ],
   "source": [
    "bulk_to_optimum_results = Dict()\n",
    "\n",
    "bulk_to_optimum_results[\"storage pressure [bar]\"] = bulk_opt.minimizer\n",
    "bulk_to_optimum_results[\"tankage fraction\"] = bulk_opt.minimum / mass_desired_xe_propellant\n",
    "bulk_to_optimum_results[\"thickness [m]\"] = t(bulk_opt.minimizer)\n",
    "bulk_to_optimum_results[\"radius [m]\"] = r(bulk_opt.minimizer)\n",
    "bulk_to_optimum_results[\"mass of tank material [kg]\"] = mₜ(bulk_opt.minimizer)\n",
    "\n",
    "bulk_to_optimum_results"
   ]
  },
  {
   "cell_type": "code",
   "execution_count": null,
   "metadata": {},
   "outputs": [],
   "source": [
    "figure()\n",
    "plot(P_range, mₜ.(P_range) / mass_desired_xe_propellant, color=\"C3\", linewidth=3)\n",
    "xlabel(L\"pressure, $P$ [bar]\")\n",
    "ylabel(\"tankage fraction\")\n",
    "annotate(#L\"$(P_{opt}=$\" * \n",
    "         @sprintf(\"(%.1f bar, %.2f)\", bulk_opt.minimizer, bulk_opt.minimum / mass_desired_xe_propellant),\n",
    "         xy=(bulk_opt.minimizer, bulk_opt.minimum / mass_desired_xe_propellant), xytext=(85, 0.15), ha=\"center\",\n",
    "         arrowprops=Dict(:arrowstyle=>\"-|>\", :connectionstyle=>\"arc3,rad=-0.2\", :fc=>\"k\", :ec=>\"k\", :linewidth=>2), \n",
    "         bbox=Dict(\"boxstyle\"=>\"round\", \"fc\"=>\"C6\", \"alpha\"=>0.3),\n",
    ")\n",
    "scatter([bulk_opt.minimizer], [bulk_opt.minimum] / mass_desired_xe_propellant, marker=\"x\", color=\"black\", label=\"optimum\", zorder=500)#, markersize=26)\n",
    "ylim(ymin=-0.005)\n",
    "xlim([25, 125])\n",
    "legend()\n",
    "grid(true)\n",
    "savefig(\"figures/bulk_gas_tankage_fraction.pdf\", bbox_inches=\"tight\")"
   ]
  },
  {
   "cell_type": "code",
   "execution_count": null,
   "metadata": {},
   "outputs": [],
   "source": [
    "function make_plots_bulk()\n",
    "#     println(\"optimum: \")\n",
    "#     println(\"\\tstorage pressure [bar] = \", bulk_to_optimum_results[\"storage pressure [bar]\"])\n",
    "#     println(\"\\tmass of tank material [kg] = \", bulk_to_optimum_results[\"mass of tank material [kg]\"])\n",
    "#     println(\"\\ttankage fraction [kg] = \", bulk_to_optimum_results[\"tankage fraction\"])\n",
    "    \n",
    "    r_lims = [-0.1, 0.8]\n",
    "    t_lims = [-1, 4.2]\n",
    "    ρ_lims = [-100, 15000]\n",
    "    tf_lims = [-0.01, 1]\n",
    "    \n",
    "    figure(figsize=(6, 12))\n",
    "\n",
    "    axs = [\n",
    "            subplot2grid((6, 1), (0, 0)),\n",
    "            subplot2grid((6, 1), (1, 0)),\n",
    "            subplot2grid((6, 1), (2, 0)),\n",
    "            subplot2grid((6, 1), (3, 0), rowspan=2)\n",
    "            ]\n",
    "\n",
    "    # tank radius\n",
    "    axs[1].plot(P_range, r.(P_range), color=\"C0\", linewidth=3)\n",
    "    axs[1].set_ylabel(\"radius\\n[m]\", size=15)\n",
    "    axs[1].set_title(\"bulk storage\")\n",
    "    axs[1].xaxis.set_ticklabels([])\n",
    "    axs[1].xaxis.set_ticks_position(\"none\")\n",
    "    axs[1].set_ylim(ymin=r_lims[1], ymax=r_lims[2])\n",
    "\n",
    "    # tank thickness\n",
    "    axs[2].plot(P_range, t.(P_range) * 1000, color=\"C1\", linewidth=3)\n",
    "    axs[2].set_ylabel(\"thickness\\n[mm]\", size=15)\n",
    "    axs[2].xaxis.set_ticklabels([])\n",
    "    axs[2].xaxis.set_ticks_position(\"none\")\n",
    "    axs[2].set_ylim(ymin=t_lims[1], ymax=t_lims[2])\n",
    "    \n",
    "    # density of adsorbed xe\n",
    "    axs[3].plot(P_range, ρ_xe.(P_range), color=\"C2\", linewidth=3, clip_on=false)\n",
    "    axs[3].set_ylabel(\"ρₓₑ\\n[mol / m\\$^3\\$]\", size=15)\n",
    "    axs[3].xaxis.set_ticklabels([])\n",
    "    axs[3].xaxis.set_ticks_position(\"none\")\n",
    "    axs[3].set_ylim(ymin=ρ_lims[1], ymax=ρ_lims[2])\n",
    "    \n",
    "    # tankage fraction\n",
    "    axs[4].plot(P_range, mₜ.(P_range) / mass_desired_xe_propellant, color=\"C3\", linestyle=\"-\", \n",
    "        label=\"tank walls\", linewidth=3) \n",
    "    axs[4].plot(\n",
    "                [\n",
    "                bulk_to_optimum_results[\"storage pressure [bar]\"], \n",
    "                bulk_to_optimum_results[\"storage pressure [bar]\"]\n",
    "                ],\n",
    "                [0, bulk_to_optimum_results[\"mass of tank material [kg]\"]] \n",
    "                    / mass_desired_xe_propellant,\n",
    "                color=\"black\", linestyle=\"--\", zorder=500\n",
    "                )\n",
    "    axs[4].plot(\n",
    "                [0, bulk_to_optimum_results[\"storage pressure [bar]\"]],\n",
    "                [\n",
    "                bulk_to_optimum_results[\"mass of tank material [kg]\"], \n",
    "                bulk_to_optimum_results[\"mass of tank material [kg]\"]\n",
    "                ] \n",
    "                / mass_desired_xe_propellant,\n",
    "                color=\"black\", linestyle=\"--\", zorder=500\n",
    "                )\n",
    "    axs[4].scatter(bulk_to_optimum_results[\"storage pressure [bar]\"],\n",
    "                   bulk_to_optimum_results[\"mass of tank material [kg]\"] / mass_desired_xe_propellant,\n",
    "                color=\"black\", marker=\"x\", label=\"optimum\", zorder=500, s=50\n",
    "                    )\n",
    "\n",
    "    axs[4].set_ylabel(\"tankage fraction\", fontsize=15)\n",
    "    axs[4].legend(bbox_to_anchor=(1, 1), fontsize=13)\n",
    "    axs[4].set_xlabel(L\"pressure, $P$ [bar]\", size=15)\n",
    "    axs[4].set_ylim(ymin=tf_lims[1], ymax=tf_lims[2])\n",
    "\n",
    "    # manually ensure x lims\n",
    "    for ax in axs\n",
    "        ax.grid(true)\n",
    "        ax.set_xlim(-1, 125.0)\n",
    "#        ax.axvline(x=0, color=\"0.6\", zorder=1)\n",
    "#        ax.axhline(y=0, color=\"0.6\", zorder=1)\n",
    "    end\n",
    "\n",
    "    savefig(\"figures/shared_P_characteristics/bulk_gas_shared_P_characteristics.pdf\", bbox_inches=\"tight\")\n",
    "end"
   ]
  },
  {
   "cell_type": "code",
   "execution_count": null,
   "metadata": {
    "scrolled": false
   },
   "outputs": [],
   "source": [
    "make_plots_bulk()"
   ]
  },
  {
   "cell_type": "markdown",
   "metadata": {},
   "source": [
    "## Adsorbed Xe Storage"
   ]
  },
  {
   "cell_type": "code",
   "execution_count": null,
   "metadata": {},
   "outputs": [],
   "source": [
    "P_range = range(1.0, 50.0, length=200)"
   ]
  },
  {
   "cell_type": "code",
   "execution_count": null,
   "metadata": {},
   "outputs": [],
   "source": [
    "xtal_to_optimum_results = Dict()\n",
    "\n",
    "for xtal in crystal_names\n",
    "    opt = optimum_storage(xtal)\n",
    "    xtal_to_optimum_results[xtal] = Dict()\n",
    "    xtal_to_optimum_results[xtal][\"storage pressure [bar]\"] = opt.minimizer\n",
    "    xtal_to_optimum_results[xtal][\"tankage fraction\"] = opt.minimum / mass_desired_xe_propellant\n",
    "    xtal_to_optimum_results[xtal][\"thickness [m]\"] = t(opt.minimizer, xtal)\n",
    "    xtal_to_optimum_results[xtal][\"radius [m]\"] = r(opt.minimizer, xtal)\n",
    "    xtal_to_optimum_results[xtal][\"mass of tank material [kg]\"] = mₜ(opt.minimizer, xtal)\n",
    "    xtal_to_optimum_results[xtal][\"mass of xtal [kg]\"] = mₐ(opt.minimizer, xtal)\n",
    "    xtal_to_optimum_results[xtal][\"total mass of tank [kg]\"] = mₐ(opt.minimizer, xtal) + mₜ(opt.minimizer, xtal)\n",
    "end\n",
    "\n",
    "xtal_to_optimum_results"
   ]
  },
  {
   "cell_type": "code",
   "execution_count": null,
   "metadata": {},
   "outputs": [],
   "source": [
    "findall(crystal_names .== \"NiPyC2\")"
   ]
  },
  {
   "cell_type": "code",
   "execution_count": null,
   "metadata": {},
   "outputs": [],
   "source": [
    "P_range = range(1.0, 150.0, length=200)\n",
    "\n",
    "function make_plots_ads(xtal::String)\n",
    "     println(\"optimum: \")\n",
    "     println(\"\\tstorage pressure [bar] = \", xtal_to_optimum_results[xtal][\"storage pressure [bar]\"])\n",
    "     println(\"\\tmass of tank material [kg] = \", xtal_to_optimum_results[xtal][\"mass of tank material [kg]\"])\n",
    "     println(\"\\ttankage fraction [kg] = \", xtal_to_optimum_results[xtal][\"tankage fraction\"])\n",
    "    \n",
    "    figure(figsize=(6, 12))\n",
    "\n",
    "    axs = [\n",
    "            subplot2grid((6, 1), (0, 0)),\n",
    "            subplot2grid((6, 1), (1, 0)),\n",
    "            subplot2grid((6, 1), (2, 0)),\n",
    "            subplot2grid((6, 1), (3, 0), rowspan=2)\n",
    "            ]\n",
    "\n",
    "    # tank radius\n",
    "    axs[1].plot(P_range, r.(P_range, xtal), color=\"C0\", linewidth=3)\n",
    "    axs[1].set_ylabel(\"radius\\n[m]\", size=15)\n",
    "    axs[1].set_title(xtal)\n",
    "    axs[1].xaxis.set_ticklabels([])\n",
    "    axs[1].xaxis.set_ticks_position(\"none\")\n",
    "    \n",
    "    # tank thickness\n",
    "    axs[2].plot(P_range, t.(P_range, xtal), color=\"C1\", linewidth=3)\n",
    "    axs[2].set_ylabel(\"thickness\\n[m]\", size=15)\n",
    "    axs[2].xaxis.set_ticklabels([])\n",
    "    axs[2].xaxis.set_ticks_position(\"none\")\n",
    "    \n",
    "    # density of adsorbed xe\n",
    "    axs[3].plot(P_range, ρ_xe_ads.(P_range, xtal), color=\"C2\", linewidth=3)\n",
    "    axs[3].set_ylabel(\"ρₓₑ\\n[mol / m\\$^3\\$]\", size=15)\n",
    "    axs[3].xaxis.set_ticklabels([])\n",
    "    axs[3].xaxis.set_ticks_position(\"none\")\n",
    "    \n",
    "    # tankage fraction\n",
    "    axs[4].plot(\n",
    "                    [\n",
    "                    xtal_to_optimum_results[xtal][\"storage pressure [bar]\"], \n",
    "                    xtal_to_optimum_results[xtal][\"storage pressure [bar]\"]\n",
    "                    ],\n",
    "                [0, xtal_to_optimum_results[xtal][\"total mass of tank [kg]\"]] \n",
    "                    / mass_desired_xe_propellant,\n",
    "                color=\"black\", linestyle=\"--\", zorder=500\n",
    "                )\n",
    "    axs[4].plot(\n",
    "                [0, xtal_to_optimum_results[xtal][\"storage pressure [bar]\"]],\n",
    "                    [\n",
    "                    xtal_to_optimum_results[xtal][\"total mass of tank [kg]\"], \n",
    "                    xtal_to_optimum_results[xtal][\"total mass of tank [kg]\"]\n",
    "                    ] \n",
    "                    / mass_desired_xe_propellant,\n",
    "                color=\"black\", linestyle=\"--\", zorder=500\n",
    "                )\n",
    "    axs[4].scatter(xtal_to_optimum_results[xtal][\"storage pressure [bar]\"],\n",
    "                   xtal_to_optimum_results[xtal][\"total mass of tank [kg]\"] / mass_desired_xe_propellant,\n",
    "                color=\"black\", marker=\"x\", label=\"optimum\", zorder=500, s=50\n",
    "                    )\n",
    "    axs[4].plot(\n",
    "                P_range, mₜ.(P_range, xtal) / mass_desired_xe_propellant, color=\"C3\", linestyle=\"--\", \n",
    "                label=\"tank walls\", linewidth=3\n",
    "                ) \n",
    "    axs[4].plot(\n",
    "                P_range, mₐ.(P_range, xtal) / mass_desired_xe_propellant, color=\"C4\", linestyle=\"-.\", \n",
    "                label=\"adsorbent\", linewidth=3\n",
    "                )\n",
    "    axs[4].plot(\n",
    "                P_range, (mₜ.(P_range, xtal) + mₐ.(P_range, xtal)) / mass_desired_xe_propellant, color=\"C9\", \n",
    "                label=\"total\", linewidth=3\n",
    "                )\n",
    "    axs[4].set_ylabel(\"tankage fraction\", size=15)\n",
    "    axs[4].legend()\n",
    "\n",
    "    xlabel(L\"pressure, $P$ [bar]\", size=15)\n",
    "\n",
    "    # manually ensure x lims\n",
    "    for ax in axs\n",
    "        ax.grid(true)\n",
    "        ax.set_xlim(0.0, 70.0)\n",
    "    end\n",
    "\n",
    "    savefig(string(\"figures/shared_P_characteristics/\", xtal, \"_shared_P_characteristics.pdf\"), bbox_inches=\"tight\")\n",
    "end"
   ]
  },
  {
   "cell_type": "code",
   "execution_count": null,
   "metadata": {
    "scrolled": false
   },
   "outputs": [],
   "source": [
    "for xtal in crystal_names\n",
    "    make_plots_ads(xtal)\n",
    "end"
   ]
  },
  {
   "cell_type": "markdown",
   "metadata": {},
   "source": [
    "### visualizing the reduction in storage volume given by the MOFs"
   ]
  },
  {
   "cell_type": "code",
   "execution_count": null,
   "metadata": {},
   "outputs": [],
   "source": [
    "figure()\n",
    "for xtal in crystal_names\n",
    "    plot(P_range, \n",
    "        r.(P_range, xtal) .^ 3 ./      # ads\n",
    "        r.(P_range) .^ 3,              # bulk\n",
    "        label=(xtal == \"NiPyC2\" ? L\"Ni(PyC)$_2$\" : xtal), color=xtal_to_color[xtal])\n",
    "end\n",
    "xlabel(L\"pressure, $P$ [bar]\")\n",
    "ylabel(L\"$V_{ads} / V_{bulk}$\")\n",
    "legend(bbox_to_anchor=(1.05, 1), loc=\"upper left\", borderaxespad=0)\n",
    "ylim(ymin=0.0)\n",
    "xlim(xmin=0.0)   \n",
    "savefig(\"figures/volume_ratio.pdf\", bbox_inches=\"tight\")"
   ]
  },
  {
   "cell_type": "code",
   "execution_count": null,
   "metadata": {},
   "outputs": [],
   "source": [
    "figure()\n",
    "xlabel(\"optimal storage pressure [bar]\")\n",
    "ylabel(L\"optimal $V_{ads} / V_{bulk}$\")\n",
    "for xtal in crystal_names\n",
    "    # find ratio of volumes at this optimal storage pressure\n",
    "    scatter(xtal_to_optimum_results[xtal][\"storage pressure [bar]\"],\n",
    "            r(xtal_to_optimum_results[xtal][\"storage pressure [bar]\"], xtal) ^ 3 ./      # ads\n",
    "            r(xtal_to_optimum_results[xtal][\"storage pressure [bar]\"]) ^ 3,              # bulk, \n",
    "        label=(xtal == \"NiPyC2\" ? L\"Ni(PyC)$_2$\" : xtal), marker=xtal_to_marker[xtal], s=75, clip_on=false,\n",
    "        color=xtal == \"COF-103 (simulated)\" ? \"none\" : xtal_to_color[xtal], \n",
    "        edgecolor=xtal_to_color[xtal], lw=3)\n",
    "end\n",
    "\n",
    "axvline(x=[bulk_opt.minimizer], linestyle=\"--\", color=\"black\", label=\"bulk storage\")\n",
    "ylim(ymin=0.0)\n",
    "xlim(xmin=0.0)\n",
    "legend(bbox_to_anchor=(1.05, 1), loc=\"upper left\", borderaxespad=0)\n",
    "savefig(\"figures/opt_storage_P_vs_opt_volume.pdf\", bbox_inches=\"tight\")"
   ]
  },
  {
   "cell_type": "markdown",
   "metadata": {},
   "source": [
    "### optimal storage pressure vs. tankage fraction"
   ]
  },
  {
   "cell_type": "code",
   "execution_count": null,
   "metadata": {},
   "outputs": [],
   "source": [
    "figure()\n",
    "xlabel(\"optimal storage pressure [bar]\")\n",
    "ylabel(\"optimal tankage fraction\")\n",
    "for xtal in crystal_names\n",
    "    scatter(xtal_to_optimum_results[xtal][\"storage pressure [bar]\"],\n",
    "            xtal_to_optimum_results[xtal][\"tankage fraction\"],\n",
    "        label=(xtal == \"NiPyC2\" ? L\"Ni(PyC)$_2$\" : xtal), marker=xtal_to_marker[xtal], s=75, clip_on=false, \n",
    "        color=xtal == \"COF-103 (simulated)\" ? \"none\" : xtal_to_color[xtal], \n",
    "        edgecolor=xtal_to_color[xtal], lw=3)\n",
    "end\n",
    "\n",
    "scatter([bulk_opt.minimizer], [bulk_opt.minimum] / mass_desired_xe_propellant, \n",
    "        marker=\"x\", color=\"black\", label=\"bulk storage\")\n",
    "\n",
    "ylim(ymin=-0.001)\n",
    "xlim(xmin=0.0)\n",
    "legend(bbox_to_anchor=(1.05, 1), loc=\"upper left\", borderaxespad=0)\n",
    "savefig(\"figures/opt_storage_P_vs_opt_tankages_fraction.pdf\", bbox_inches=\"tight\")"
   ]
  },
  {
   "cell_type": "code",
   "execution_count": null,
   "metadata": {},
   "outputs": [],
   "source": [
    "bulk_to_optimum_results"
   ]
  },
  {
   "cell_type": "code",
   "execution_count": null,
   "metadata": {},
   "outputs": [],
   "source": [
    "xtal_to_optimum_results[\"MOF-505\"]"
   ]
  },
  {
   "cell_type": "code",
   "execution_count": null,
   "metadata": {},
   "outputs": [],
   "source": [
    "xtal_to_optimum_results[\"COF-103 (simulated)\"][\"radius [m]\"]"
   ]
  },
  {
   "cell_type": "code",
   "execution_count": null,
   "metadata": {},
   "outputs": [],
   "source": [
    "# With changing radius as size\n",
    "scaler = 500\n",
    "\n",
    "figure()\n",
    "xlabel(\"optimal storage pressure [bar]\")\n",
    "ylabel(\"optimal tankage fraction\")\n",
    "for xtal in crystal_names\n",
    "    scatter(xtal_to_optimum_results[xtal][\"storage pressure [bar]\"],\n",
    "            xtal_to_optimum_results[xtal][\"tankage fraction\"],\n",
    "        label=(xtal == \"NiPyC2\" ? L\"Ni(PyC)$_2$\" : xtal), clip_on=false, \n",
    "        color=xtal == \"COF-103 (simulated)\" ? \"none\" : xtal_to_color[xtal], \n",
    "        edgecolor=xtal_to_color[xtal], lw=3, s=xtal_to_optimum_results[xtal][\"radius [m]\"] ^ 2 * scaler)\n",
    "end\n",
    "\n",
    "xtal_to_text_pos = Dict(crystal => [1.0, 0.1] for crystal in crystal_names)\n",
    "\n",
    "for i = 1:length(crystal_names)\n",
    "    text(\n",
    "        xtal_to_optimum_results[crystal_names[i]][\"storage pressure [bar]\"]+xtal_to_text_pos[crystal_names[i]][1], \n",
    "        xtal_to_optimum_results[crystal_names[i]][\"tankage fraction\"]+xtal_to_text_pos[crystal_names[i]][2],\n",
    "        (crystal_names[i] == \"NiPyC2\" ? L\"Ni(PyC)$_2$\" : crystal_names[i]), fontsize=10\n",
    "        )\n",
    "end\n",
    "\n",
    "scatter(bulk_opt.minimizer, bulk_opt.minimum / mass_desired_xe_propellant, \n",
    "        color=\"black\", label=\"bulk storage\", s=bulk_to_optimum_results[\"radius [m]\"] ^ 2 * scaler)\n",
    "text(bulk_opt.minimizer-14.0, bulk_opt.minimum/mass_desired_xe_propellant+0.1, \"bulk storage\", fontsize=10)\n",
    "\n",
    "ylim(ymin=-0.1)\n",
    "xlim(xmin=0.0)\n",
    "tight_layout()\n",
    "savefig(\"figures/opt_storage_P_vs_opt_tankages_fraction_s_radius.pdf\", bbox_inches=\"tight\")"
   ]
  },
  {
   "cell_type": "code",
   "execution_count": null,
   "metadata": {},
   "outputs": [],
   "source": [
    "# The higher the ability to densify gas, the smaller the tank will be and become comparable to bulk xenon gas storage.\n",
    "# Points are all taken at their optimal storage pressures where tank mass is at its minimum.\n",
    "\n",
    "figure()\n",
    "plot(P_range, r.(P_range, \"MOF-505\"), color=xtal_to_color[\"MOF-505\"], label=\"MOF-505\", linewidth=3)\n",
    "scatter(xtal_to_optimum_results[\"MOF-505\"][\"storage pressure [bar]\"],\n",
    "        xtal_to_optimum_results[\"MOF-505\"][\"radius [m]\"], color=xtal_to_color[\"MOF-505\"],\n",
    "        marker=\"x\", s=100)\n",
    "plot(P_range, r.(P_range), color=\"black\", label=\"bulk storage\", linewidth=3)\n",
    "scatter(bulk_to_optimum_results[\"storage pressure [bar]\"], bulk_to_optimum_results[\"radius [m]\"],\n",
    "        color=\"black\", marker=\"x\", s=100)\n",
    "xlabel(L\"pressure, $P$ [bar]\")\n",
    "ylabel(\"radius [m]\")\n",
    "xlim(xmin=10)\n",
    "ylim(ymax=0.8)\n",
    "tight_layout()\n",
    "legend()\n",
    "savefig(\"figures/bulk_vs_MOF-505_radius.pdf\")"
   ]
  },
  {
   "cell_type": "markdown",
   "metadata": {},
   "source": [
    "#### crystal density of adsorbent material affects tankage fraction"
   ]
  },
  {
   "cell_type": "code",
   "execution_count": null,
   "metadata": {},
   "outputs": [],
   "source": [
    "figure()\n",
    "xlabel(L\"crystal density [kg/m$^3$]\")\n",
    "ylabel(\"optimal tankage fraction\")\n",
    "for xtal in crystal_names\n",
    "    scatter(xtal_to_ρ[xtal], xtal_to_optimum_results[xtal][\"tankage fraction\"],\n",
    "    label=(xtal == \"NiPyC2\" ? L\"Ni(PyC)$_2$\" : xtal), marker=xtal_to_marker[xtal], s=75, clip_on=false,\n",
    "    color=xtal == \"COF-103 (simulated)\" ? \"none\" : xtal_to_color[xtal],\n",
    "    edgecolor=xtal_to_color[xtal], lw=3)\n",
    "end\n",
    "\n",
    "axhline(\n",
    "        y=[bulk_opt.minimum] / mass_desired_xe_propellant, linestyle=\"--\", \n",
    "        color=\"black\", label=\"bulk storage\"\n",
    "        )\n",
    "\n",
    "ylim(ymin=0.0)\n",
    "xlim(xmin=0.0)\n",
    "legend(bbox_to_anchor=(1.05, 1), loc=\"upper left\", borderaxespad=0)\n",
    "savefig(\"figures/crystal_density_vs_opt_tankage_fraction.pdf\", bbox_inches=\"tight\")"
   ]
  },
  {
   "cell_type": "markdown",
   "metadata": {},
   "source": [
    "### Langmuir characteristics vs tankage fraction"
   ]
  },
  {
   "cell_type": "code",
   "execution_count": null,
   "metadata": {},
   "outputs": [],
   "source": [
    "figure()\n",
    "xlabel(L\"Langmuir $K$ [bar$^{-1}$]\")\n",
    "ylabel(\"optimal tankage fraction\")\n",
    "for xtal in crystal_names\n",
    "    scatter(xtal_to_K[xtal], xtal_to_optimum_results[xtal][\"tankage fraction\"],\n",
    "    label=(xtal == \"NiPyC2\" ? L\"Ni(PyC)$_2$\" : xtal), marker=xtal_to_marker[xtal], s=75, clip_on=false,\n",
    "    color=xtal == \"COF-103 (simulated)\" ? \"none\" : xtal_to_color[xtal],\n",
    "    edgecolor=xtal_to_color[xtal], lw=3)\n",
    "end\n",
    "ylim(ymin=0.0)\n",
    "xlim(xmin=0.0)\n",
    "legend(bbox_to_anchor=(1.05, 1), loc=\"upper left\", borderaxespad=0)\n",
    "savefig(\"figures/langmuir_K_vs_opt_tankage_fraction.pdf\", bbox_inches=\"tight\")"
   ]
  },
  {
   "cell_type": "code",
   "execution_count": null,
   "metadata": {},
   "outputs": [],
   "source": [
    "figure()\n",
    "xlabel(L\"Langmuir $M$ [mol/m$^3$]\")\n",
    "ylabel(\"optimal tankage fraction\")\n",
    "for xtal in crystal_names\n",
    "    scatter(xtal_to_M[xtal], xtal_to_optimum_results[xtal][\"tankage fraction\"],\n",
    "    label=(xtal == \"NiPyC2\" ? L\"Ni(PyC)$_2$\" : xtal), marker=xtal_to_marker[xtal], s=75, clip_on=false,\n",
    "    color=xtal == \"COF-103 (simulated)\" ? \"none\" : xtal_to_color[xtal],\n",
    "    edgecolor=xtal_to_color[xtal], lw=3)\n",
    "end\n",
    "ylim(ymin=0.0)\n",
    "xlim(xmin=0.0)\n",
    "legend(bbox_to_anchor=(1.05, 1), loc=\"upper left\", borderaxespad=0)\n",
    "savefig(\"figures/langmuir_M_vs_opt_tankage_fraction.pdf\", bbox_inches=\"tight\")"
   ]
  },
  {
   "cell_type": "markdown",
   "metadata": {},
   "source": [
    "### mass of tank needed, partitioned by adsorbant material vs. tank material"
   ]
  },
  {
   "cell_type": "code",
   "execution_count": null,
   "metadata": {},
   "outputs": [],
   "source": [
    "ids = 1:length(xtal_to_optimum_results)\n",
    "ids_sorted = sortperm([xtal_to_optimum_results[xtal][\"tankage fraction\"] for xtal in keys(xtal_to_optimum_results)])                      \n",
    "\n",
    "figure()\n",
    "xlabel(\"Adsorbent material\")\n",
    "ylabel(\"mass [kg]\")\n",
    "m_xtal = [xtal_to_optimum_results[xtal][\"mass of xtal [kg]\"] for xtal in keys(xtal_to_optimum_results)]\n",
    "m_tank_walls = [xtal_to_optimum_results[xtal][\"mass of tank material [kg]\"] for xtal in keys(xtal_to_optimum_results)]\n",
    "bar(ids, m_xtal[ids_sorted], label=\"adsorbent\")\n",
    "bar(ids, m_tank_walls[ids_sorted], bottom=m_xtal[ids_sorted],label=\"tank walls\", color=\"red\")\n",
    "\n",
    "legend()\n",
    "xticks(ids, replace(collect(keys(xtal_to_optimum_results))[ids_sorted], \"NiPyC2\" => L\"Ni(PyC)$_2$\"), rotation=\"vertical\")\n",
    "tight_layout()\n",
    "savefig(\"figures/contribution_mass_by_adsorbent.pdf\", bbox_inches=\"tight\")"
   ]
  },
  {
   "cell_type": "code",
   "execution_count": null,
   "metadata": {},
   "outputs": [],
   "source": []
  }
 ],
 "metadata": {
  "@webio": {
   "lastCommId": "637de95bcc7f48b1ab5660c0adbf994b",
   "lastKernelId": "1aafb4c7-6369-41d0-99a0-d0088cc280a4"
  },
  "kernelspec": {
   "display_name": "Julia 1.4.0",
   "language": "julia",
   "name": "julia-1.4"
  },
  "language_info": {
   "file_extension": ".jl",
   "mimetype": "application/julia",
   "name": "julia",
   "version": "1.4.0"
  }
 },
 "nbformat": 4,
 "nbformat_minor": 4
}
