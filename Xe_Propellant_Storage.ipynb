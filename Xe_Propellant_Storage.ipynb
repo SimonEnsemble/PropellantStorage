{
 "cells": [
  {
   "cell_type": "markdown",
   "metadata": {},
   "source": [
    "# Xe Propellant Storage\n",
    "Can metal-organic frameworks (MOFs) confer a benefit for storing Xe? For applications as propellant for a spacecraft, the goal is to minimize the total mass carried into space. To contrast the competeing setups, the total mass being lifted is composed of the following:\n",
    "- for compressed Xe (`cXe`) storage (no MOF, a free-space tank): the xenon needed and the material that composes the tank\n",
    "- for adsorbed Xe (`aXe`) storage (a tank packed with MOF): the xenon needed, the material that composes the tank *and* the adsorbent material.\n",
    "\n",
    "The idea is that we can reduce the amount of required tank material by lowering the pressure needed to store a given density (mass?) of Xe via the implimentation of MOFs. The tradeoff is, however, that the MOF material will also have to be carried in the tank. Therefore, the question is whether the reduced mass of the tank material outweighs the extra mass of this adsorbent material being into space."
   ]
  },
  {
   "cell_type": "code",
   "execution_count": null,
   "metadata": {},
   "outputs": [],
   "source": [
    "using PyPlot\n",
    "using PorousMaterials\n",
    "using CSV\n",
    "using DataFrames\n",
    "using JSON\n",
    "using HTTP\n",
    "using Printf\n",
    "using Interpolations # this is for doing the linear interpolations\n",
    "\n",
    "PyPlot.matplotlib.style.use(\"Solarize_Light2\")\n",
    "\n",
    "rcParams = PyPlot.PyDict(PyPlot.matplotlib.\"rcParams\")\n",
    "rcParams[\"font.size\"] = 16 ;"
   ]
  },
  {
   "cell_type": "markdown",
   "metadata": {},
   "source": [
    "The xenon gas is stored in the tank at room temperature `T` before launch. (still cannot find a source for this, but it seems that there simply isn't a temperature controll system specifically for the xenon tanks on the ground of in orbit, so they are simply at ambient temperature; howwever, I did read that as the tank is being filled that they have to controll the fill rate in order to not exceed the tanks range of operable temperatures which is capped at $55^oC$ according to the source listed below.\n",
    "\n",
    "[1] Tam,  W.;  Jackson,  A.;  Nishida,  E.;  Ka-sai, Y.; Tsujihata, A.; Kajiwara, K. Designand  manufacture  of  the  ETS  VIII  xenontank.36thAIAA/ASME/SAE/ASEEJoint  Propulsion  Conference  and  Exhibit.2000; p 3677.(https://doi.org/10.2514/6.2000-3677)\n",
    "\n",
    "[2] Welsch,  G.;  Boyer,  R.;  Collings,  E.Materials properties handbook: titanium alloys;ASM international, 1993. \n",
    "\n",
    "[3] Niinomi,   M.   Mechanical   properties   of biomedical  titanium  alloys. Materials Science and Engineering: A1998,243, 231–236.\n",
    "\n",
    "[4] propellant storage considerations"
   ]
  },
  {
   "cell_type": "markdown",
   "metadata": {},
   "source": [
    "The ambient temperature oof the craft is assumed to be ~300K when it is in orbit [4].\n",
    "Additionally, the tanks opperating temperatures are listed as $278K-328K (5^oC -55^oC)$ [1]"
   ]
  },
  {
   "cell_type": "code",
   "execution_count": 2,
   "metadata": {},
   "outputs": [],
   "source": [
    "const temperature = 298.0; # K "
   ]
  },
  {
   "cell_type": "markdown",
   "metadata": {},
   "source": [
    "The typical amount of super critical Xe to bring into space per tank is 89 kg [1]."
   ]
  },
  {
   "cell_type": "code",
   "execution_count": 3,
   "metadata": {},
   "outputs": [
    {
     "data": {
      "text/plain": [
       "677.8731539381383"
      ]
     },
     "execution_count": 3,
     "metadata": {},
     "output_type": "execute_result"
    }
   ],
   "source": [
    "xe_atomic_mass = read_atomic_masses()[:Xe] # in g / mol\n",
    "\n",
    "mass_desired_xe_propellant = 89.0 # kg Xe\n",
    "mol_desired_xe_propellant = mass_desired_xe_propellant * 1000 / xe_atomic_mass # mol Xe"
   ]
  },
  {
   "cell_type": "markdown",
   "metadata": {},
   "source": [
    "Properties of the tank material:\n",
    "\n",
    "We model the pressure vessel as a thin-walled pressure vessel where the density `ρ` and yield strength `σ` of the tank material are listed below.\n",
    "\n",
    "Ti-6Al-4V is the titanium alloy that is most commonly used tank shell material [1]. The numbers below are from [ASM](http://asm.matweb.com/search/SpecificMaterial.asp?bassnum=MTP641) webpage are in good agreement with the published values [2],[3]. "
   ]
  },
  {
   "cell_type": "code",
   "execution_count": 4,
   "metadata": {},
   "outputs": [
    {
     "data": {
      "text/plain": [
       "8800.0"
      ]
     },
     "execution_count": 4,
     "metadata": {},
     "output_type": "execute_result"
    }
   ],
   "source": [
    "# # Kevlar 49 Source: http://www.mse.mtu.edu/~drjohn/my4150/props.html\n",
    "# const ρ_tank_material = 1470.0 # kg/m³\n",
    "# const σ_tank_material = 28000.0 # bar\n",
    "\n",
    "const ρ_tank_material = 4430.0 # kg/m³ \n",
    "const σ_tank_material = 8800.0 # bar Yield Strength"
   ]
  },
  {
   "cell_type": "markdown",
   "metadata": {},
   "source": [
    "To justify our range of considered pressures: the range of storage pressures considered goes from an empty tank at 0 bar to well above the maximum expected operating pressure (MEOP) described in the technichal report as 150 bar [1]."
   ]
  },
  {
   "cell_type": "markdown",
   "metadata": {},
   "source": [
    "## xenon gas properties\n",
    "\n",
    "source for (real) xenon gas data: [NIST](https://webbook.nist.gov/cgi/fluid.cgi?Action=Data&Wide=on&ID=C7440633&Type=IsoTherm&Digits=5&PLow=0&PHigh=350&PInc=0.01&T=298.00&RefState=DEF&TUnit=K&PUnit=bar&DUnit=mol%2Fl&HUnit=kJ%2Fmol&WUnit=m%2Fs&VisUnit=uPa*s&STUnit=N%2Fm). load in NIST data on xenon at 298 K."
   ]
  },
  {
   "cell_type": "code",
   "execution_count": 6,
   "metadata": {},
   "outputs": [
    {
     "data": {
      "text/html": [
       "<table class=\"data-frame\"><thead><tr><th></th><th>Temperature (K)</th><th>Pressure (bar)</th><th>Density (mol/m3)</th><th>Density (mol/l)</th><th>Volume (l/mol)</th></tr><tr><th></th><th>Float64</th><th>Float64</th><th>Float64</th><th>Float64</th><th>String</th></tr></thead><tbody><p>5 rows × 15 columns (omitted printing of 10 columns)</p><tr><th>1</th><td>298.0</td><td>0.0</td><td>0.0</td><td>0.0</td><td>infinite</td></tr><tr><th>2</th><td>298.0</td><td>0.58333</td><td>23.615</td><td>0.023615</td><td>42.346</td></tr><tr><th>3</th><td>298.0</td><td>1.1667</td><td>47.376</td><td>0.047376</td><td>21.108</td></tr><tr><th>4</th><td>298.0</td><td>1.75</td><td>71.284</td><td>0.071284</td><td>14.028</td></tr><tr><th>5</th><td>298.0</td><td>2.3333</td><td>95.342</td><td>0.095342</td><td>10.489</td></tr></tbody></table>"
      ],
      "text/latex": [
       "\\begin{tabular}{r|cccccc}\n",
       "\t& Temperature (K) & Pressure (bar) & Density (mol/m3) & Density (mol/l) & Volume (l/mol) & \\\\\n",
       "\t\\hline\n",
       "\t& Float64 & Float64 & Float64 & Float64 & String & \\\\\n",
       "\t\\hline\n",
       "\t1 & 298.0 & 0.0 & 0.0 & 0.0 & infinite & $\\dots$ \\\\\n",
       "\t2 & 298.0 & 0.58333 & 23.615 & 0.023615 & 42.346 & $\\dots$ \\\\\n",
       "\t3 & 298.0 & 1.1667 & 47.376 & 0.047376 & 21.108 & $\\dots$ \\\\\n",
       "\t4 & 298.0 & 1.75 & 71.284 & 0.071284 & 14.028 & $\\dots$ \\\\\n",
       "\t5 & 298.0 & 2.3333 & 95.342 & 0.095342 & 10.489 & $\\dots$ \\\\\n",
       "\\end{tabular}\n"
      ],
      "text/plain": [
       "5×15 DataFrame. Omitted printing of 11 columns\n",
       "│ Row │ Temperature (K) │ Pressure (bar) │ Density (mol/m3) │ Density (mol/l) │\n",
       "│     │ \u001b[90mFloat64\u001b[39m         │ \u001b[90mFloat64\u001b[39m        │ \u001b[90mFloat64\u001b[39m          │ \u001b[90mFloat64\u001b[39m         │\n",
       "├─────┼─────────────────┼────────────────┼──────────────────┼─────────────────┤\n",
       "│ 1   │ 298.0           │ 0.0            │ 0.0              │ 0.0             │\n",
       "│ 2   │ 298.0           │ 0.58333        │ 23.615           │ 0.023615        │\n",
       "│ 3   │ 298.0           │ 1.1667         │ 47.376           │ 0.047376        │\n",
       "│ 4   │ 298.0           │ 1.75           │ 71.284           │ 0.071284        │\n",
       "│ 5   │ 298.0           │ 2.3333         │ 95.342           │ 0.095342        │"
      ]
     },
     "execution_count": 6,
     "metadata": {},
     "output_type": "execute_result"
    }
   ],
   "source": [
    "wheres_nist_xenon_data = joinpath(\"data\", \"NIST_data\", \"xenon_NIST_data.txt\")\n",
    "\n",
    "df_xe_data = CSV.read(wheres_nist_xenon_data)\n",
    "\n",
    "# put density in units we're working with (mol/m3)\n",
    "insertcols!(df_xe_data, 3, density_mol_m3=df_xe_data[:, Symbol(\"Density (mol/l)\")] * 1000.0)\n",
    "rename!(df_xe_data, :density_mol_m3 => Symbol(\"Density (mol/m3)\"))\n",
    "\n",
    "first(df_xe_data, 5)"
   ]
  },
  {
   "cell_type": "markdown",
   "metadata": {},
   "source": [
    "for convenience, define our array of pressures to use in the study as those in the NIST data and get the corresponding densities of (real) xenon gas."
   ]
  },
  {
   "cell_type": "code",
   "execution_count": 12,
   "metadata": {},
   "outputs": [
    {
     "name": "stderr",
     "output_type": "stream",
     "text": [
      "WARNING: redefining constant pressures\n"
     ]
    }
   ],
   "source": [
    "const pressures = df_xe_data[:, Symbol(\"Pressure (bar)\")][2:end] # bar\n",
    "const ρ_xe = df_xe_data[:, Symbol(\"Density (mol/m3)\")][2:end];"
   ]
  },
  {
   "cell_type": "markdown",
   "metadata": {},
   "source": [
    "get density of ideal gas at our array of `pressures` for comparison."
   ]
  },
  {
   "cell_type": "code",
   "execution_count": 13,
   "metadata": {},
   "outputs": [],
   "source": [
    "# Universal Gas Constant:\n",
    "const R = 8.3144598e-5; # m³-bar/(K-mol)\n",
    "# ideal gas density\n",
    "ρ_ideal_gas = pressures / (R * temperature); # mol / m³"
   ]
  },
  {
   "cell_type": "markdown",
   "metadata": {},
   "source": [
    "get density of real gas at our array of `pressures`."
   ]
  },
  {
   "cell_type": "code",
   "execution_count": 15,
   "metadata": {
    "scrolled": false
   },
   "outputs": [
    {
     "data": {
      "image/png": "[encoded data removed]",
      "text/plain": [
       "Figure(PyObject <Figure size 640x480 with 1 Axes>)"
      ]
     },
     "metadata": {},
     "output_type": "display_data"
    }
   ],
   "source": [
    "figure()\n",
    "plot(pressures, ρ_ideal_gas, color=\"green\", label=\"ideal gas\")\n",
    "plot(pressures, ρ_xe, \n",
    "    color=\"orange\", label=\"real gas\")\n",
    "xlabel(\"pressure [bar]\")\n",
    "ylabel(\"density [mol / m\\$^3\\$]\")\n",
    "legend()\n",
    "title(\"xenon ρ(P) at 298 K\")\n",
    "savefig(\"xenon_gas_density.pdf\", format=\"pdf\")"
   ]
  },
  {
   "cell_type": "markdown",
   "metadata": {},
   "source": [
    "## Compressed xenon (`cXe`) storage\n",
    "\n",
    "the premise is that we are storing `mol_desired_xe_propllant` at `temperature`.\n",
    "\n",
    "for all arrays below, element `i` represents the parameters when we choose to store at `pressures[i]` bar. e.g. `V_cXe_tank[i]` is the volume of the tank required to store `mol_desired_xe_propllant` mol Xe at 298 K and pressure `pressures[i]` bar.\n",
    "\n",
    "The volume of the tank must be equal to the volume of propellant (of course). Since we have the density of the propellant at each pressure, we thus know the volume of the tank at each choice of storage pressure."
   ]
  },
  {
   "cell_type": "code",
   "execution_count": 19,
   "metadata": {},
   "outputs": [],
   "source": [
    "volume_cxe_tank = mol_desired_xe_propellant ./ ρ_xe; # m³"
   ]
  },
  {
   "cell_type": "markdown",
   "metadata": {},
   "source": [
    "Assuming the tank is spherical, we can calculate the radius of the tank for each choice of storage pressure."
   ]
  },
  {
   "cell_type": "code",
   "execution_count": 20,
   "metadata": {
    "scrolled": true
   },
   "outputs": [],
   "source": [
    "radius_cxe_tank = (V_cXe_tank * 3 / (4 * π)) .^ (1 / 3); # m"
   ]
  },
  {
   "cell_type": "markdown",
   "metadata": {},
   "source": [
    "We apply the thin-walled tank stress model to obtain the minimum wall thickness required to contain the pressure of the compressed xenon. Thickness is found using the free-body diagram of a spherical, thin-walled tank. By taking the force of the fluid over a cross-sectional area ($P \\pi  r ^ 2$) set equal to the force of the tank walls over the circumference, including the yield strength and thickness of the wall ($2 \\pi  r \\sigma  t$). We then isolate $t$ to solve for the thickness.\n",
    "\n",
    "\\begin{equation}\n",
    "2 \\pi  r \\sigma  t=P \\pi  r ^ 2\n",
    "\\end{equation}"
   ]
  },
  {
   "cell_type": "code",
   "execution_count": 21,
   "metadata": {
    "scrolled": true
   },
   "outputs": [],
   "source": [
    "thickness_cxe_tank = pressures .* radius_cxe_tank / (2 * σ_tank_material); # tank wall thickness (m)"
   ]
  },
  {
   "cell_type": "markdown",
   "metadata": {},
   "source": [
    "The mass of the tank can be found using the surface area of sphere, the thickness of the sphere, and the density of the material."
   ]
  },
  {
   "cell_type": "code",
   "execution_count": 22,
   "metadata": {},
   "outputs": [],
   "source": [
    "mass_cxe_tank_material = ρ_tank_material * 4 * π * radius_cxe_tank .^ 2 .* thickness_cxe_tank; # kg"
   ]
  },
  {
   "cell_type": "code",
   "execution_count": 40,
   "metadata": {},
   "outputs": [
    {
     "data": {
      "image/png": "[encoded data removed]",
      "text/plain": [
       "Figure(PyObject <Figure size 800x1200 with 4 Axes>)"
      ]
     },
     "metadata": {},
     "output_type": "display_data"
    },
    {
     "name": "stdout",
     "output_type": "stream",
     "text": [
      "optimum storage pressure is 0.00 bar.\n"
     ]
    },
    {
     "data": {
      "text/plain": [
       "PyObject Text(0.5, 28.000000000000007, 'pressure [bar]')"
      ]
     },
     "execution_count": 40,
     "metadata": {},
     "output_type": "execute_result"
    }
   ],
   "source": [
    "argmin_p_mass = argmin(mass_cxe_tank_material)\n",
    "@printf(\"optimum storage pressure is %.2f bar.\\n\", pressures[argmin_p_mass])\n",
    "\n",
    "fig, axs = subplots(4, 1, figsize=(8, 12), \n",
    "                    sharex=true, sharey=false, tight_layout=true)\n",
    "\n",
    "axs[1].plot(pressures, ρ_xe, color=\"C1\")\n",
    "axs[1].set_ylabel(\"xenon density [mol/m³]\")\n",
    "axs[1].set_title(\"compressed Xe storage at 298 K\")\n",
    "\n",
    "axs[2].plot(pressures, radius_cxe_tank, color=\"C2\")\n",
    "axs[2].set_ylabel(\"radius of tank [m]\")\n",
    "\n",
    "axs[3].plot(pressures, thickness_cxe_tank, color=\"C3\")\n",
    "axs[3].set_ylabel(\"thickness of tank [m]\")\n",
    "\n",
    "axs[4].plot(pressures, mass_cxe_tank_material, color=\"C4\")\n",
    "axs[4].set_ylabel(\"mass of tank material [kg]\")\n",
    "\n",
    "xlabel(\"pressure [bar]\")"
   ]
  },
  {
   "cell_type": "code",
   "execution_count": null,
   "metadata": {
    "scrolled": false
   },
   "outputs": [],
   "source": [
    "cXe_minimum_index = argmin((m_cXe_tank_material ./ mass_desired_propellant)[2:end]) + 1\n",
    "\n",
    "figure()\n",
    "plot(real_gas[!, Symbol(\"Pressure (bar)\")], m_cXe_tank_material ./ mass_desired_propellant,\n",
    "     color=\"C0\", lw=3)\n",
    "scatter(real_gas[!, Symbol(\"Pressure (bar)\")][cXe_minimum_index], (m_cXe_tank_material ./ m_cXe_gas)[cXe_minimum_index], color=\"r\", zorder=999)\n",
    "xlabel(\"storage pressure [bar]\")\n",
    "ylabel(\"mass of tank material / mass of desired propellant\")\n",
    "title(\"compressed Xe storage\")\n",
    "#savefig(\"Xenon van der Waals Gas in Titanium.pdf\", format=\"pdf\")"
   ]
  },
  {
   "cell_type": "markdown",
   "metadata": {},
   "source": [
    "## Adsorbed xenon `aXe` storage"
   ]
  },
  {
   "cell_type": "markdown",
   "metadata": {},
   "source": [
    "### View isotherms"
   ]
  },
  {
   "cell_type": "code",
   "execution_count": null,
   "metadata": {
    "scrolled": false
   },
   "outputs": [],
   "source": [
    "df_CC3 = CSV.read(joinpath(pwd(), \"data\", \"isotherms\", \"CC3_298K.csv\"))\n",
    "figure()\n",
    "scatter(df_CC3[!, Symbol(\"P(mbar)\")], df_CC3[!, Symbol(\"L(mmol/g)\")])\n",
    "title(\"CC3 @ 298K\")\n",
    "xlabel(\"Pressure (mbar)\")\n",
    "ylabel(\"Adsorption (mmol/g)\")\n",
    "\n",
    "df_CoFormate = CSV.read(joinpath(pwd(), \"data\", \"isotherms\", \"Co_formate_298K.csv\"))\n",
    "figure()\n",
    "scatter(df_CoFormate[!, Symbol(\"P(bar)\")], df_CoFormate[!, Symbol(\"L(mmol/g)\")])\n",
    "title(\"Co-formate @ 298K\")\n",
    "xlabel(\"Pressure (bar)\")\n",
    "ylabel(\"Adsorption (mmol/g)\")\n",
    "\n",
    "df_MOF505 = CSV.read(joinpath(pwd(), \"data\", \"isotherms\", \"MOF_505_292K.csv\"))\n",
    "figure()\n",
    "scatter(df_MOF505[!, Symbol(\"P(bar)\")], df_MOF505[!, Symbol(\"Adsorption(mmol/g)\")])\n",
    "title(\"MOF-505 @ 292K\")\n",
    "xlabel(\"Pressure (bar)\")\n",
    "ylabel(\"Adsorption (mmol/g)\")\n",
    "\n",
    "df_NiMOF74 = CSV.read(joinpath(pwd(), \"data\", \"isotherms\", \"Ni_MOF_74_297K.csv\"))\n",
    "figure()\n",
    "scatter(df_NiMOF74[!, Symbol(\"P(mbar)\")], df_NiMOF74[!, Symbol(\"PercentMass\")])\n",
    "title(\"Ni-MOF-74 @ 297K\")\n",
    "xlabel(\"Pressure (mbar)\")\n",
    "ylabel(\"Adsorption (wt%)\")\n",
    "\n",
    "df_SBMOF2 = CSV.read(joinpath(pwd(), \"data\", \"isotherms\", \"SBMOF_2_298K.csv\"))\n",
    "figure()\n",
    "scatter(df_SBMOF2[!, Symbol(\"P(torr)\")][1:29], df_SBMOF2[!, Symbol(\"L(ccSTP/g)\")][1:29])\n",
    "title(\"SBMOF-2 @ 298K\")\n",
    "xlabel(\"Pressure (torr)\")\n",
    "ylabel(\"Adsorption (ccSTP/g)\")\n",
    "\n",
    "df_SBMOF1 = CSV.read(joinpath(pwd(), \"data\", \"isotherms\", \"SBMOF_1_298K.csv\"))\n",
    "figure()\n",
    "scatter(df_SBMOF1[!, Symbol(\"P(mbar)\")], df_SBMOF1[!, Symbol(\"PercentMass\")])\n",
    "title(\"SBMOF-1 @ 298K\")\n",
    "xlabel(\"Pressure (mbar)\")\n",
    "ylabel(\"Adsorption (wt%)\")\n",
    "\n",
    "df_COF102 = CSV.read(joinpath(pwd(), \"data\", \"isotherms\", \"COF-102_sim.csv\"))\n",
    "figure()\n",
    "scatter(df_COF102[!, Symbol(\"pressure (bar)\")], df_COF102[!, Symbol(\"⟨N⟩ (mmol/g)\")])\n",
    "title(\"COF-102 Sim @ 298K\")\n",
    "xlabel(\"Pressure (bar)\")\n",
    "ylabel(\"Adsorption (mmol/g)\")\n",
    "\n",
    "df_COF103 = CSV.read(joinpath(pwd(), \"data\", \"isotherms\", \"COF-103_sim.csv\"))\n",
    "figure()\n",
    "scatter(df_COF103[!, Symbol(\"pressure (bar)\")], df_COF103[!, Symbol(\"⟨N⟩ (mmol/g)\")])\n",
    "title(\"COF-103 Sim @ 298K\")\n",
    "xlabel(\"Pressure (bar)\")\n",
    "ylabel(\"Adsorption (mmol/g)\")"
   ]
  },
  {
   "cell_type": "markdown",
   "metadata": {},
   "source": [
    "Non-saturating isotherms: FMOF-Cu, HKUST-1, IRMOF-1."
   ]
  },
  {
   "cell_type": "markdown",
   "metadata": {},
   "source": [
    "find crystal density"
   ]
  },
  {
   "cell_type": "code",
   "execution_count": null,
   "metadata": {},
   "outputs": [],
   "source": [
    "# read in isotherms\n",
    "isotherms = readdir(joinpath(pwd(), \"data\", \"isotherms\"))\n",
    "crystals = readdir(joinpath(pwd(), \"data\", \"crystals\"))\n",
    "\n",
    "# find crystal density\n",
    "df_ρ = Dict{Symbol, Float64}()\n",
    "\n",
    "function Base.basename(path::String, suffix::String)\n",
    "    (n,e) = splitext(basename(path))\n",
    "    suffix==e ? n : path\n",
    "end\n",
    "\n",
    "for crystal in crystals\n",
    "    frame = Framework(crystal)\n",
    "    strip_numbers_from_atom_labels!(frame)\n",
    "    df_ρ[Symbol(Base.basename(crystal, \".cif\"))] = crystal_density(frame) # kg/m³\n",
    "end\n",
    "\n",
    "df_ρ"
   ]
  },
  {
   "cell_type": "markdown",
   "metadata": {},
   "source": [
    "Convert isotherms to same units"
   ]
  },
  {
   "cell_type": "code",
   "execution_count": null,
   "metadata": {},
   "outputs": [],
   "source": [
    "dict_isotherms= Dict{AbstractString, DataFrame}()\n",
    "\n",
    "# convert to common units: P (bar) and Adsorption (mol/m³)\n",
    "df_CC3 = CSV.read(joinpath(pwd(), \"data\", \"isotherms\", \"CC3_298K.csv\"))\n",
    "df_CC3[!, Symbol(\"P(bar)\")] = df_CC3[!, Symbol(\"P(mbar)\")] / 1000; # bar\n",
    "df_CC3[!, :mol_m3] = df_CC3[!, Symbol(\"L(mmol/g)\")] * df_ρ[Symbol(\"CC3\")] # mol/m^3\n",
    "dict_isotherms[\"CC3\"] = df_CC3\n",
    "\n",
    "df_Co_formate = CSV.read(joinpath(pwd(), \"data\", \"isotherms\", \"Co_formate_298K.csv\"))\n",
    "df_Co_formate[!, :mol_m3] = df_Co_formate[!, Symbol(\"L(mmol/g)\")] * df_ρ[Symbol(\"Co-formate\")]; # mol Xe/m³ MOF\n",
    "dict_isotherms[\"Co-formate\"] = df_Co_formate\n",
    "\n",
    "df_MOF_505 = CSV.read(joinpath(pwd(), \"data\", \"isotherms\", \"MOF_505_292K.csv\"))\n",
    "df_MOF_505[!, :mol_m3] = df_MOF505[!, Symbol(\"Adsorption(mmol/g)\")] * df_ρ[Symbol(\"MOF-505\")];# mol Xe/m³ MOF\n",
    "dict_isotherms[\"MOF-505\"] = df_MOF_505\n",
    "\n",
    "df_Ni_MOF_74 = CSV.read(joinpath(pwd(), \"data\", \"isotherms\", \"Ni_MOF_74_297K.csv\"))\n",
    "df_Ni_MOF_74[!, Symbol(\"P(bar)\")] = df_Ni_MOF_74[!, Symbol(\"P(mbar)\")] / 1000; # bar\n",
    "df_Ni_MOF_74[!, :mol_m3] = df_Ni_MOF_74[!, :PercentMass] / 100.0 * 1000.0 * df_ρ[Symbol(\"Ni-MOF-74\")] / read_atomic_masses()[:Xe]; # mol Xe/m³ MOF\n",
    "dict_isotherms[\"Ni-MOF-74\"] = df_Ni_MOF_74\n",
    "\n",
    "df_SBMOF_1 = CSV.read(joinpath(pwd(), \"data\", \"isotherms\", \"SBMOF_1_298K.csv\"))\n",
    "df_SBMOF_1[!, Symbol(\"P(bar)\")] = df_SBMOF_1[!, Symbol(\"P(mbar)\")] / 1000; # bar\n",
    "# mass % = (measured mass -  dry sample mass) / (dry sample mass) * 100.\n",
    "# (g Xe / g MOF) * (1000 g MOF/ 1 kg MOF) * (ρ_MOF kg MOF/m³ MOF) * (1 mol Xe/ MW g Xe)\n",
    "df_SBMOF_1[!, :mol_m3] = df_SBMOF_1[!, :PercentMass] / 100.0 * 1000.0 * df_ρ[Symbol(\"SBMOF-1\")] / read_atomic_masses()[:Xe]; # mol Xe/m³ MOF  \n",
    "dict_isotherms[\"SBMOF-1\"] = df_SBMOF_1\n",
    "\n",
    "df_SBMOF_2 = CSV.read(joinpath(pwd(), \"data\", \"isotherms\", \"SBMOF_2_298K.csv\"))\n",
    "df_SBMOF_2[!, Symbol(\"P(bar)\")] = df_SBMOF_2[!, Symbol(\"P(torr)\")] / 750.062\n",
    "df_SBMOF_2[!, :mol_m3] = df_SBMOF_2[!, Symbol(\"L(ccSTP/g)\")] / 22.4 * df_ρ[Symbol(\"SBMOF-2\")];\n",
    "dict_isotherms[\"SBMOF-2\"] = df_SBMOF_2\n",
    "\n",
    "df_CROFOUR_1_Ni = CSV.read(joinpath(pwd(), \"data\", \"isotherms\", \"CROFOUR_1_Ni_298K.csv\"))\n",
    "df_CROFOUR_1_Ni[!, Symbol(\"P(bar)\")] =  df_CROFOUR_1_Ni[!, Symbol(\"P(kPa)\")] / 100\n",
    "df_CROFOUR_1_Ni[!, :mol_m3] = df_CROFOUR_1_Ni[!, Symbol(\"L(ccSTP/g)\")] / 22.4 * df_ρ[Symbol(\"CROFOUR-1-Ni\")];\n",
    "dict_isotherms[\"CROFOUR-1-Ni\"] = df_CROFOUR_1_Ni\n",
    "\n",
    "dict_isotherms"
   ]
  },
  {
   "cell_type": "markdown",
   "metadata": {},
   "source": [
    "consider SBMOF-1 as the adsorbent.\n",
    "\n",
    "find its crystal density."
   ]
  },
  {
   "cell_type": "code",
   "execution_count": null,
   "metadata": {},
   "outputs": [],
   "source": [
    "# frame = Framework(\"SBMOF-1.cif\")\n",
    "# strip_numbers_from_atom_labels!(frame)\n",
    "# ρ_MOF = crystal_density(frame) # kg/m³"
   ]
  },
  {
   "cell_type": "markdown",
   "metadata": {},
   "source": [
    "read in xenon adsorption data."
   ]
  },
  {
   "cell_type": "code",
   "execution_count": null,
   "metadata": {
    "scrolled": true
   },
   "outputs": [],
   "source": [
    "# df_MOF = CSV.read(joinpath(pwd(), \"data\", \"isotherms\", \"SBMOF-1_298K.csv\"))\n",
    "# df_MOF[!, Symbol(\"P(bar)\")] = df_MOF[!, Symbol(\"P(mbar)\")] / 1000 # bar\n",
    "# # mass % = (measured mass -  dry sample mass) / (dry sample mass) * 100.\n",
    "# # (g Xe / g MOF) * (1000 g MOF/ 1 kg MOF) * (ρ_MOF kg MOF/m³ MOF) * (1 mol Xe/ MW g Xe)\n",
    "# df_MOF[!, :mol_m3] = df_MOF[!, :PercentMass] / 100.0 * 1000.0 * ρ_MOF / read_atomic_masses()[:Xe] # mol Xe/m³ MOF  \n",
    "# df_MOF"
   ]
  },
  {
   "cell_type": "code",
   "execution_count": null,
   "metadata": {
    "scrolled": true
   },
   "outputs": [],
   "source": [
    "# # filter through units with Arni l8er\n",
    "# global PATH_TO_DATA = joinpath(pwd(), \"data\")\n",
    "\n",
    "# function isotherm_data(isotherm_filename::AbstractString)\n",
    "#     file = open(joinpath(PATH_TO_DATA, \"isotherms\", isotherm_filename))\n",
    "#     lines = readlines(file)\n",
    "#     close(file)\n",
    "#     data = JSON.parse(join(lines))\n",
    "    \n",
    "#     pressure_pts = Array{Float64,1}()\n",
    "#     adsorption_pts = Array{Float64,1}()\n",
    "\n",
    "#     for datapoints_dict in data[\"isotherm_data\"]\n",
    "#         append!(pressure_pts, datapoints_dict[\"pressure\"])\n",
    "#         append!(adsorption_pts, datapoints_dict[\"total_adsorption\"])\n",
    "#     end\n",
    "\n",
    "#     df_isotherm = Dict{Symbol, Array{Float64}}()\n",
    "#         df_isotherm[Symbol(\"P(bar)\")] = pressure_pts\n",
    "#         df_isotherm[Symbol(\"Adsorption(mmol/g)\")] = adsorption_pts\n",
    "#     DataFrame(df_isotherm)\n",
    "# end"
   ]
  },
  {
   "cell_type": "code",
   "execution_count": null,
   "metadata": {
    "scrolled": true
   },
   "outputs": [],
   "source": [
    "# df = isotherm_data(\"10.1016j.micromeso.2012.11.013.isotherm1.json\")"
   ]
  },
  {
   "cell_type": "code",
   "execution_count": null,
   "metadata": {
    "scrolled": true
   },
   "outputs": [],
   "source": [
    "# # TODO what MOF?\n",
    "# const ρ_mof = 555.0 # kg/m³"
   ]
  },
  {
   "cell_type": "code",
   "execution_count": null,
   "metadata": {
    "scrolled": true
   },
   "outputs": [],
   "source": [
    "# df[!, :mol_m3] = df[!, Symbol(\"Adsorption(mmol/g)\")] * ρ_mof\n",
    "# showall(df)"
   ]
  },
  {
   "cell_type": "markdown",
   "metadata": {},
   "source": [
    "## We will now analyze the properties of the tank carrying MOF"
   ]
  },
  {
   "cell_type": "markdown",
   "metadata": {},
   "source": [
    "Using the function `fit_adsorption_isotherm` from Porous Materials, we calculated `M`, the density of gas in the MOF at saturation, and the Langmuir constant `K`. The Langmuir adsorption model for the loading `L` is:\n",
    "\\begin{equation}\n",
    "L = M KP/(1+KP)\n",
    "\\end{equation} "
   ]
  },
  {
   "cell_type": "markdown",
   "metadata": {},
   "source": [
    "Using thin-walled theory, the thickness of the wall of the container storing the mof is equal to the pressure multiplied by the radius of the container divided by two times the tensile strength of the container material. \n",
    "\\begin{equation}\n",
    "t_{tank with mof} = P r_{tank with mof} / 2\\sigma\n",
    "\\end{equation} \n"
   ]
  },
  {
   "cell_type": "code",
   "execution_count": null,
   "metadata": {
    "scrolled": false
   },
   "outputs": [],
   "source": [
    "function analyze_adsorbed_xe_tank(P::Array{Float64, 1}, df_MOF::DataFrame, df_ρ::Float64)\n",
    "    \n",
    "    #The Langmuir model was then fitted to the experimental data and the root mean square was calculated, showing how good of a fit the model is to the experimental data.\n",
    "    params_langmuir = fit_adsorption_isotherm(copy(df_MOF), Symbol(\"P(bar)\"), :mol_m3, :langmuir)\n",
    "    ρ_langmuir = params_langmuir[\"M\"] *  params_langmuir[\"K\"] .* P ./ (1 .+ params_langmuir[\"K\"] .* P)\n",
    "    \n",
    "    #The volume of the tank storing the MOF is equal to the volume of the MOF required to store the desired amount of propellant.\n",
    "    V_aXe_tank = mol_desired_propellant ./ ρ_langmuir # m³\n",
    "    \n",
    "    #The mass of the gas stored in the MOF is found using the volume and density of the tank and gas at a pressure.\n",
    "    m_aXe_gas = ρ_langmuir .* V_aXe_tank .* read_atomic_masses()[:Xe] / 1000 # kg\n",
    "    \n",
    "    #Find the corresponding radius of the vessel, assumed spherical.\n",
    "    r_aXe_tank = (V_aXe_tank * 3 / (4 * π)) .^ (1 / 3) # m\n",
    "    \n",
    "    #Mass of MOF needed to carry desired amount of gas.\n",
    "    m_MOF_needed = V_aXe_tank * df_ρ # kg\n",
    "    \n",
    "    #Thin-walled theory \n",
    "    t_aXe_tank = P .* r_aXe_tank / (2 * σ_tank_material) # m\n",
    "    \n",
    "    #The total mass of the tank and MOF for the desired amount of propellant is equal to the mass of the MOF \n",
    "    #required to store the desired amount of propellant, plus the mass of the thin-walled tank storing the MOF.\n",
    "    m_aXe_tank_material = 4 * π * r_aXe_tank .^ 2 .* t_aXe_tank * ρ_tank_material # kg\n",
    "    m_aXe_tank = m_MOF_needed .+ m_aXe_tank_material # kg\n",
    "    \n",
    "    minimum_index = argmin(m_aXe_tank ./ mass_desired_propellant)\n",
    "    \n",
    "    return Dict(\"Mass of tank material with adsorbed Xe (kg)\" => m_aXe_tank_material,\n",
    "                            \"Mass of MOF with adsorbed Xe (kg)\" => m_MOF_needed,\n",
    "                            \"Mass of adsorbed Xe tank (kg)\" => m_aXe_tank,\n",
    "                            \"Density of gas in MOF (mol/m³)\" => ρ_langmuir,\n",
    "                            \"Mass of Xe adsorbed (kg)\" => m_aXe_gas,\n",
    "                            \"Minimum index\" => minimum_index,\n",
    "                            \"Inner radius (m)\" => r_aXe_tank,\n",
    "                            \"Thickness of tank walls (m)\" => t_aXe_tank,\n",
    "                            \"Inner volume of tank (m³)\" => V_aXe_tank,\n",
    "                            \"Langmuir K\" => params_langmuir[\"K\"])\n",
    "end\n",
    "\n",
    "dict_aXe = Dict{AbstractString, Dict}()\n",
    "\n",
    "for crystal in crystals\n",
    "    dict_aXe[Base.basename(crystal, \".cif\")] = analyze_adsorbed_xe_tank(P, dict_isotherms[Base.basename(crystal, \".cif\")], df_ρ[Symbol(Base.basename(crystal, \".cif\"))])\n",
    "end\n",
    "\n",
    "dict_aXe"
   ]
  },
  {
   "cell_type": "markdown",
   "metadata": {},
   "source": [
    "## Langmuir fit for all mofs"
   ]
  },
  {
   "cell_type": "code",
   "execution_count": null,
   "metadata": {
    "scrolled": true
   },
   "outputs": [],
   "source": [
    "for crystal in crystals\n",
    "    figure()\n",
    "    ax = plt.gca()\n",
    "    scatter(dict_isotherms[Base.basename(crystal, \".cif\")][!, Symbol(\"P(bar)\")],\n",
    "            dict_isotherms[Base.basename(crystal, \".cif\")][!, :mol_m3], color=\"b\",\n",
    "            label=Base.basename(crystal, \".cif\") * \" experimental data\")\n",
    "    lim = ax.get_xlim()\n",
    "    plot(P, dict_aXe[Base.basename(crystal, \".cif\")][\"Density of gas in MOF (mol/m³)\"], color=\"g\",\n",
    "            label=\"Langmuir fit\")\n",
    "    xlabel(\"Pressure [bar]\")\n",
    "    ylabel(\"Adsorption [mol/m³]\")\n",
    "    ax.set_xlim(lim)\n",
    "    title(Base.basename(crystal, \".cif\"))\n",
    "    legend()\n",
    "    #savefig(Base.basename(crystal, \".cif\") * \" Langmuir fit\")\n",
    "end"
   ]
  },
  {
   "cell_type": "markdown",
   "metadata": {},
   "source": [
    "## adsorbed xenon storage for each MOF"
   ]
  },
  {
   "cell_type": "code",
   "execution_count": null,
   "metadata": {
    "scrolled": true
   },
   "outputs": [],
   "source": [
    "for crystal in crystals\n",
    "    figure()\n",
    "    plot(P, dict_aXe[Base.basename(crystal, \".cif\")][\"Mass of adsorbed Xe tank (kg)\"] / \n",
    "        mass_desired_propellant, color=\"C4\", lw=3, label=Base.basename(crystal, \".cif\") * \" total\")\n",
    "    plot(P, dict_aXe[Base.basename(crystal, \".cif\")][\"Mass of MOF with adsorbed Xe (kg)\"] / \n",
    "        mass_desired_propellant, color=\"C4\", label=Base.basename(crystal, \".cif\"), linestyle=\"--\")\n",
    "    plot(P, dict_aXe[Base.basename(crystal, \".cif\")][\"Mass of tank material with adsorbed Xe (kg)\"] / \n",
    "        mass_desired_propellant, color=\"C4\", label=Base.basename(crystal, \".cif\") * \" tank material\", linestyle=\"-.\")\n",
    "    xlabel(\"storage pressure [bar]\")\n",
    "    ylabel(\"tankage fraction [kg material / kg propellant]\")\n",
    "    title(\"adsorbed Xe storage\")\n",
    "    ax = gca()\n",
    "    ax.set_xscale(\"log\")\n",
    "    legend()\n",
    "end"
   ]
  },
  {
   "cell_type": "markdown",
   "metadata": {},
   "source": [
    "## juxtapose compressed vs adsorbed xenon storage"
   ]
  },
  {
   "cell_type": "code",
   "execution_count": null,
   "metadata": {
    "scrolled": true
   },
   "outputs": [],
   "source": [
    "for crystal in crystals\n",
    "    figure()\n",
    "    plot(real_gas[!, Symbol(\"Pressure (bar)\")], m_cXe_tank_material / mass_desired_propellant, color=\"C0\", label=\"(cXe) total = tank material\")\n",
    "\n",
    "    plot(P, dict_aXe[Base.basename(crystal, \".cif\")][\"Mass of adsorbed Xe tank (kg)\"] / \n",
    "        mass_desired_propellant, color=\"C4\", lw=3, label=\"(aXe) total\")\n",
    "    plot(P, dict_aXe[Base.basename(crystal, \".cif\")][\"Mass of tank material with adsorbed Xe (kg)\"] / mass_desired_propellant,\n",
    "        color=\"C4\", label=\"(aXe) tank material\", linestyle=\"--\")\n",
    "    plot(P, dict_aXe[Base.basename(crystal, \".cif\")][\"Mass of MOF with adsorbed Xe (kg)\"] / mass_desired_propellant,\n",
    "        color=\"C4\", label=\"(aXe) MOF\", linestyle=\"-.\")\n",
    "\n",
    "    xlabel(\"storage pressure [bar]\")\n",
    "    ylabel(\"tankage fraction [kg material / kg propellant]\")\n",
    "    ax = gca()\n",
    "    ax.set_xscale(\"log\")\n",
    "    title(Base.basename(crystal, \".cif\"))\n",
    "    legend()\n",
    "    display()\n",
    "end"
   ]
  },
  {
   "cell_type": "markdown",
   "metadata": {},
   "source": [
    "## bulk gas density vs. MOF gas density"
   ]
  },
  {
   "cell_type": "code",
   "execution_count": null,
   "metadata": {
    "scrolled": true
   },
   "outputs": [],
   "source": [
    "for crystal in crystals\n",
    "    figure()\n",
    "    ax = plt.gca()\n",
    "    plot(real_gas[!, Symbol(\"Pressure (bar)\")], real_gas[!, Symbol(\"Density (mol/m3)\")], color=\"C0\", label=\"bulk gas density\")\n",
    "    lim = ax.get_xlim()\n",
    "    \n",
    "    plot([0; P], [0; dict_aXe[Base.basename(crystal, \".cif\")][\"Density of gas in MOF (mol/m³)\"]], \n",
    "        color=\"C4\", label=\"MOF gas density\")\n",
    "\n",
    "    ylabel(\"density [mol/m³]\")\n",
    "    xlabel(\"pressure [bar]\")\n",
    "    ax.set_xlim(lim)\n",
    "    legend()\n",
    "    xlim(-0.01,1)\n",
    "    ylim(-10,3000)\n",
    "    display()\n",
    "    title(Base.basename(crystal, \".cif\"))\n",
    "    \n",
    "    a = plt.axes([.6, .2, .25, .25])\n",
    "    a.plot([0; real_gas[!, Symbol(\"Pressure (bar)\")]], [0; real_gas[!, Symbol(\"Density (mol/m3)\")]], color=\"C0\", label=\"bulk gas density\")    \n",
    "    a.plot([0; P], [0; dict_aXe[Base.basename(crystal, \".cif\")][\"Density of gas in MOF (mol/m³)\"]], \n",
    "        color=\"C4\", label=\"MOF gas density\")\n",
    "    a.set_xlim([-0.01, 0.1])\n",
    "    a.set_ylim([-0.1, 5])\n",
    "    #savefig(Base.basename(crystal, \".cif\") * \" gas density vs bulk gas density\")\n",
    "end"
   ]
  },
  {
   "cell_type": "markdown",
   "metadata": {},
   "source": [
    "## xenon propellant storage performance"
   ]
  },
  {
   "cell_type": "markdown",
   "metadata": {},
   "source": [
    "MOF and tank material performance"
   ]
  },
  {
   "cell_type": "code",
   "execution_count": null,
   "metadata": {},
   "outputs": [],
   "source": [
    "markers = [\"D\", \"v\", \"1\", \"X\", \"s\", \"P\", \"*\"]\n",
    "\n",
    "figure()\n",
    "scatter(real_gas[!, Symbol(\"Pressure (bar)\")][cXe_minimum_index], (m_cXe_tank_material / mass_desired_propellant)[cXe_minimum_index], \n",
    "    color=\"k\", label=\"(cXe) total = tank material\")\n",
    "\n",
    "for (i, crystal) in enumerate(crystals)\n",
    "    scatter(P[dict_aXe[Base.basename(crystal, \".cif\")][\"Minimum index\"]], \n",
    "            (dict_aXe[Base.basename(crystal, \".cif\")][\"Mass of adsorbed Xe tank (kg)\"] / \n",
    "            mass_desired_propellant)[dict_aXe[Base.basename(crystal, \".cif\")][\"Minimum index\"]], \n",
    "            lw=3, label=\"(aXe) \" * Base.basename(crystal, \".cif\"), marker=markers[i%(length(markers))+1])\n",
    "end\n",
    "xlabel(\"storage pressure [bar]\")\n",
    "ylabel(\"tankage fraction [kg material / kg propellant]\")\n",
    "legend()\n",
    "title(\"MOF + tank material performance\")\n"
   ]
  },
  {
   "cell_type": "markdown",
   "metadata": {},
   "source": [
    "Tank material performance"
   ]
  },
  {
   "cell_type": "code",
   "execution_count": null,
   "metadata": {},
   "outputs": [],
   "source": [
    "figure()\n",
    "scatter(real_gas[!, Symbol(\"Pressure (bar)\")][cXe_minimum_index], (m_cXe_tank_material / mass_desired_propellant)[cXe_minimum_index], \n",
    "    color=\"k\", label=\"(cXe) total = tank material\")\n",
    "\n",
    "for (i, crystal) in enumerate(crystals)\n",
    "    scatter(P[dict_aXe[Base.basename(crystal, \".cif\")][\"Minimum index\"]], \n",
    "            (dict_aXe[Base.basename(crystal, \".cif\")][\"Mass of tank material with adsorbed Xe (kg)\"] / \n",
    "            mass_desired_propellant)[dict_aXe[Base.basename(crystal, \".cif\")][\"Minimum index\"]], \n",
    "            lw=3, label=\"(aXe) \" * Base.basename(crystal, \".cif\"), marker=markers[i%(length(markers))+1])\n",
    "end\n",
    "xlabel(\"storage pressure [bar]\")\n",
    "ylabel(\"tankage fraction [kg material / kg propellant]\")\n",
    "legend()\n",
    "title(\"Tank material\")\n",
    "\n",
    "# a = plt.axes([.6, .2, .25, .25])\n",
    "# a.scatter(P[cXe_minimum_index], (m_cXe_tank_material / mass_desired_propellant)[cXe_minimum_index], \n",
    "#     color=\"y\", label=\"(cXe) total = tank material\")\n",
    "\n",
    "# for (i, crystal) in enumerate(crystals)\n",
    "#     a.scatter(P[dict_aXe[Base.basename(crystal, \".cif\")][\"Minimum index\"]], \n",
    "#             (dict_aXe[Base.basename(crystal, \".cif\")][\"Mass of tank material with adsorbed Xe (kg)\"] / \n",
    "#             mass_desired_propellant)[dict_aXe[Base.basename(crystal, \".cif\")][\"Minimum index\"]], \n",
    "#             lw=3, label=\"(aXe) \" * Base.basename(crystal, \".cif\"), marker=markers[i%(length(markers))+1])\n",
    "# end\n",
    "# a.set_xlim([-1, 5])\n",
    "# a.set_ylim([-0.01, 0.06])"
   ]
  },
  {
   "cell_type": "markdown",
   "metadata": {},
   "source": [
    "Performance of radii of tanks"
   ]
  },
  {
   "cell_type": "code",
   "execution_count": null,
   "metadata": {},
   "outputs": [],
   "source": [
    "figure()\n",
    "scatter(real_gas[!, Symbol(\"Pressure (bar)\")][cXe_minimum_index], r_cXe_tank[cXe_minimum_index], \n",
    "    color=\"k\", label=\"(cXe)tank\")\n",
    "\n",
    "for (i, crystal) in enumerate(crystals)\n",
    "    scatter(P[dict_aXe[Base.basename(crystal, \".cif\")][\"Minimum index\"]], \n",
    "            (dict_aXe[Base.basename(crystal, \".cif\")][\"Inner radius (m)\"])[dict_aXe[Base.basename(crystal, \".cif\")][\"Minimum index\"]], \n",
    "            lw=3, label=\"(aXe) \" * Base.basename(crystal, \".cif\"), marker=markers[i%(length(markers))+1])\n",
    "end\n",
    "xlabel(\"storage pressure [bar]\")\n",
    "ylabel(\"inner radius of tanks (m)\")\n",
    "legend()\n",
    "title(\"Tank radius\")"
   ]
  },
  {
   "cell_type": "markdown",
   "metadata": {},
   "source": [
    "Performance of tank thickness"
   ]
  },
  {
   "cell_type": "code",
   "execution_count": null,
   "metadata": {},
   "outputs": [],
   "source": [
    "m = t_cXe_tank[cXe_minimum_index] / real_gas[!, Symbol(\"Pressure (bar)\")][cXe_minimum_index]\n",
    "\n",
    "figure()\n",
    "plot(real_gas[!, Symbol(\"Pressure (bar)\")], m * real_gas[!, Symbol(\"Pressure (bar)\")], label=\"theoretical thickness\", \n",
    "    linewidth=1, color=\"w\")\n",
    "scatter(real_gas[!, Symbol(\"Pressure (bar)\")][cXe_minimum_index], t_cXe_tank[cXe_minimum_index], \n",
    "    color=\"k\", label=\"(cXe)tank\", zorder=999)\n",
    "\n",
    "for (i, crystal) in enumerate(crystals)\n",
    "    scatter(P[dict_aXe[Base.basename(crystal, \".cif\")][\"Minimum index\"]], \n",
    "            (dict_aXe[Base.basename(crystal, \".cif\")][\"Thickness of tank walls (m)\"])[dict_aXe[Base.basename(crystal, \".cif\")][\"Minimum index\"]], \n",
    "            lw=3, label=\"(aXe) \" * Base.basename(crystal, \".cif\"), marker=markers[i%(length(markers))+1], zorder=999)\n",
    "end\n",
    "xlim(0,80)\n",
    "xlabel(\"storage pressure [bar]\")\n",
    "ylabel(\"thickness of tanks (m)\")\n",
    "legend()\n",
    "title(\"Tank thickness\")"
   ]
  },
  {
   "cell_type": "markdown",
   "metadata": {},
   "source": [
    "Performance of tank volume"
   ]
  },
  {
   "cell_type": "code",
   "execution_count": null,
   "metadata": {},
   "outputs": [],
   "source": [
    "figure()\n",
    "scatter(real_gas[!, Symbol(\"Pressure (bar)\")][cXe_minimum_index], V_cXe_tank[cXe_minimum_index], \n",
    "    color=\"k\", label=\"(cXe)tank\")\n",
    "\n",
    "for (i, crystal) in enumerate(crystals)\n",
    "    scatter(P[dict_aXe[Base.basename(crystal, \".cif\")][\"Minimum index\"]], \n",
    "            (dict_aXe[Base.basename(crystal, \".cif\")][\"Inner volume of tank (m³)\"])[dict_aXe[Base.basename(crystal, \".cif\")][\"Minimum index\"]], \n",
    "            lw=3, label=\"(aXe) \" * Base.basename(crystal, \".cif\"), marker=markers[i%(length(markers))+1])\n",
    "end\n",
    "xlabel(\"storage pressure [bar]\")\n",
    "ylabel(\"volume of tank (m³)\")\n",
    "legend()\n",
    "title(\"Tank volume\")"
   ]
  },
  {
   "cell_type": "code",
   "execution_count": null,
   "metadata": {},
   "outputs": [],
   "source": [
    "figure()\n",
    "# scatter(real_gas[!, Symbol(\"Pressure (bar)\")][cXe_minimum_index], V_cXe_tank[cXe_minimum_index], \n",
    "#     color=\"k\", label=\"(cXe)tank\")\n",
    "\n",
    "for (i, crystal) in enumerate(crystals)\n",
    "    scatter(1 / (dict_aXe[Base.basename(crystal, \".cif\")][\"Langmuir K\"]),\n",
    "            P[dict_aXe[Base.basename(crystal, \".cif\")][\"Minimum index\"]], lw=3, label=\"(aXe) \" * Base.basename(crystal, \".cif\"), \n",
    "            marker=markers[i%(length(markers))+1])\n",
    "end\n",
    "xlabel(\"1/K\")\n",
    "ylabel(\"storage pressure [bar]\")\n",
    "legend()\n",
    "title(\"Tank volume\")"
   ]
  },
  {
   "cell_type": "code",
   "execution_count": null,
   "metadata": {},
   "outputs": [],
   "source": []
  }
 ],
 "metadata": {
  "@webio": {
   "lastCommId": "0dcc9572bf1f4d13a166e6c2f89d6740",
   "lastKernelId": "b469595f-85eb-4c42-ace7-64a24cdc4fe7"
  },
  "kernelspec": {
   "display_name": "Julia 1.2.0",
   "language": "julia",
   "name": "julia-1.2"
  },
  "language_info": {
   "file_extension": ".jl",
   "mimetype": "application/julia",
   "name": "julia",
   "version": "1.2.0"
  }
 },
 "nbformat": 4,
 "nbformat_minor": 2
}
