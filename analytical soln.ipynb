{
 "cells": [
  {
   "cell_type": "code",
   "execution_count": 1,
   "metadata": {},
   "outputs": [
    {
     "name": "stderr",
     "output_type": "stream",
     "text": [
      "┌ Info: Precompiling SymPy [24249f21-da20-56a4-8eb1-6a02cf4ae2e6]\n",
      "└ @ Base loading.jl:1273\n"
     ]
    }
   ],
   "source": [
    "using SymPy"
   ]
  },
  {
   "cell_type": "markdown",
   "metadata": {},
   "source": [
    "variable definitions\n",
    "\n",
    "* $n_p$: moles of xenon we seek to carry up into space"
   ]
  },
  {
   "cell_type": "code",
   "execution_count": 2,
   "metadata": {},
   "outputs": [
    {
     "data": {
      "text/plain": [
       "(M, K, σ, nₚ, P, ρₜ, ρₘ, mwₓₑ)"
      ]
     },
     "execution_count": 2,
     "metadata": {},
     "output_type": "execute_result"
    }
   ],
   "source": [
    "# model inputs\n",
    "M, K, σ, nₚ, P, ρₜ, ρₘ, mwₓₑ = symbols(\"M K σ nₚ P ρₜ ρₘ mwₓₑ\")"
   ]
  },
  {
   "cell_type": "code",
   "execution_count": 3,
   "metadata": {},
   "outputs": [
    {
     "data": {
      "text/latex": [
       "\\begin{equation*}\\frac{K M P}{K P + 1}\\end{equation*}"
      ],
      "text/plain": [
       " K⋅M⋅P \n",
       "───────\n",
       "K⋅P + 1"
      ]
     },
     "execution_count": 3,
     "metadata": {},
     "output_type": "execute_result"
    }
   ],
   "source": [
    "ρₚ = M * K * P / (1 + K * P) # density of propellant adsorbed in MOF"
   ]
  },
  {
   "cell_type": "code",
   "execution_count": 4,
   "metadata": {},
   "outputs": [
    {
     "data": {
      "text/latex": [
       "\\begin{equation*}\\frac{nₚ ρₘ \\left(K P + 1\\right)}{K M P}\\end{equation*}"
      ],
      "text/plain": [
       "nₚ⋅ρₘ⋅(K⋅P + 1)\n",
       "───────────────\n",
       "     K⋅M⋅P     "
      ]
     },
     "execution_count": 4,
     "metadata": {},
     "output_type": "execute_result"
    }
   ],
   "source": [
    "mₘ = nₚ * ρₘ / ρₚ # mass of MOF needed"
   ]
  },
  {
   "cell_type": "code",
   "execution_count": 5,
   "metadata": {},
   "outputs": [
    {
     "data": {
      "text/latex": [
       "\\begin{equation*}\\frac{\\sqrt[3]{6} \\sqrt[3]{\\frac{nₚ \\left(K P + 1\\right)}{K M P}}}{2 \\sqrt[3]{\\pi}}\\end{equation*}"
      ],
      "text/plain": [
       "          ______________\n",
       "3 ___    ╱ nₚ⋅(K⋅P + 1) \n",
       "╲╱ 6 ⋅3 ╱  ──────────── \n",
       "      ╲╱      K⋅M⋅P     \n",
       "────────────────────────\n",
       "          3 ___         \n",
       "        2⋅╲╱ π          "
      ]
     },
     "execution_count": 5,
     "metadata": {},
     "output_type": "execute_result"
    }
   ],
   "source": [
    "r = (nₚ / ρₚ / 4 * 3 / π) ^ (Sym(1) / Sym(3)) # tank radius"
   ]
  },
  {
   "cell_type": "code",
   "execution_count": 6,
   "metadata": {},
   "outputs": [
    {
     "data": {
      "text/latex": [
       "\\begin{equation*}\\frac{\\sqrt[3]{6} P \\sqrt[3]{\\frac{nₚ \\left(K P + 1\\right)}{K M P}}}{4 \\sqrt[3]{\\pi} σ}\\end{equation*}"
      ],
      "text/plain": [
       "            ______________\n",
       "3 ___      ╱ nₚ⋅(K⋅P + 1) \n",
       "╲╱ 6 ⋅P⋅3 ╱  ──────────── \n",
       "        ╲╱      K⋅M⋅P     \n",
       "──────────────────────────\n",
       "          3 ___           \n",
       "        4⋅╲╱ π ⋅σ         "
      ]
     },
     "execution_count": 6,
     "metadata": {},
     "output_type": "execute_result"
    }
   ],
   "source": [
    "t = P * r / (2 * σ) # tank thickness"
   ]
  },
  {
   "cell_type": "code",
   "execution_count": 7,
   "metadata": {},
   "outputs": [
    {
     "data": {
      "text/latex": [
       "\\begin{equation*}\\frac{3 nₚ ρₜ \\left(K P + 1\\right)}{2 K M σ}\\end{equation*}"
      ],
      "text/plain": [
       "3⋅nₚ⋅ρₜ⋅(K⋅P + 1)\n",
       "─────────────────\n",
       "     2⋅K⋅M⋅σ     "
      ]
     },
     "execution_count": 7,
     "metadata": {},
     "output_type": "execute_result"
    }
   ],
   "source": [
    "mₜ = Sym(4) * π * r ^ 2 * t * ρₜ # mass of tank material needed"
   ]
  },
  {
   "cell_type": "code",
   "execution_count": 8,
   "metadata": {
    "scrolled": true
   },
   "outputs": [
    {
     "data": {
      "text/latex": [
       "\\begin{equation*}\\frac{\\sqrt{6} \\sqrt{\\frac{ρₘ σ}{K ρₜ}}}{3}\\end{equation*}"
      ],
      "text/plain": [
       "       ______\n",
       "      ╱ ρₘ⋅σ \n",
       "√6⋅  ╱  ──── \n",
       "   ╲╱   K⋅ρₜ \n",
       "─────────────\n",
       "      3      "
      ]
     },
     "execution_count": 8,
     "metadata": {},
     "output_type": "execute_result"
    }
   ],
   "source": [
    "m_total = mₜ + mₘ\n",
    "P_opt = solve(diff(m_total, P), P)[2]"
   ]
  },
  {
   "cell_type": "markdown",
   "metadata": {},
   "source": [
    "optimal tankage fraction"
   ]
  },
  {
   "cell_type": "code",
   "execution_count": 9,
   "metadata": {},
   "outputs": [
    {
     "data": {
      "text/latex": [
       "\\begin{equation*}\\frac{ρₘ}{M mwₓₑ} + \\frac{\\sqrt{6} ρₘ}{K M mwₓₑ \\sqrt{\\frac{ρₘ σ}{K ρₜ}}} + \\frac{3 ρₜ}{2 K M mwₓₑ σ}\\end{equation*}"
      ],
      "text/plain": [
       "  ρₘ            √6⋅ρₘ              3⋅ρₜ    \n",
       "────── + ─────────────────── + ────────────\n",
       "M⋅mwₓₑ                ______   2⋅K⋅M⋅mwₓₑ⋅σ\n",
       "                     ╱ ρₘ⋅σ                \n",
       "         K⋅M⋅mwₓₑ⋅  ╱  ────                \n",
       "                  ╲╱   K⋅ρₜ                "
      ]
     },
     "execution_count": 9,
     "metadata": {},
     "output_type": "execute_result"
    }
   ],
   "source": [
    "tf_opt = simplify(m_total.subs(P, P_opt) / (nₚ * mwₓₑ))"
   ]
  }
 ],
 "metadata": {
  "@webio": {
   "lastCommId": "f74c69dc1120433a899da0a5e4f1b2fa",
   "lastKernelId": "f3e12d64-1b98-4fb2-aa40-af6d61bc7a33"
  },
  "kernelspec": {
   "display_name": "Julia 1.4.0",
   "language": "julia",
   "name": "julia-1.4"
  },
  "language_info": {
   "file_extension": ".jl",
   "mimetype": "application/julia",
   "name": "julia",
   "version": "1.4.0"
  }
 },
 "nbformat": 4,
 "nbformat_minor": 2
}
