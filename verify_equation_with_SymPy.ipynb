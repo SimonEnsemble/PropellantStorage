{
 "cells": [
  {
   "cell_type": "markdown",
   "metadata": {},
   "source": [
    "# Verify Equation with SymPy\n",
    "I am goin to use the SymPy package to varify the handwriten expressions for the tankage fraction, and see if it generates a simplified version."
   ]
  },
  {
   "cell_type": "markdown",
   "metadata": {},
   "source": [
    "equations be here "
   ]
  },
  {
   "cell_type": "code",
   "execution_count": 1,
   "metadata": {},
   "outputs": [],
   "source": [
    "using SymPy"
   ]
  },
  {
   "cell_type": "code",
   "execution_count": 5,
   "metadata": {},
   "outputs": [
    {
     "data": {
      "text/latex": [
       "\\begin{equation*}ρ_{mof}\\end{equation*}"
      ],
      "text/plain": [
       "ρ_mof"
      ]
     },
     "execution_count": 5,
     "metadata": {},
     "output_type": "execute_result"
    }
   ],
   "source": [
    "t = Sym(\"t\") # thickness [m]\n",
    "P = Sym(\"P\") # pressure [bar]\n",
    "r = Sym(\"r\") # radius of tank [m]\n",
    "σ = symbols(\"σ\", positive=true) # yield strength of tank [N/m²]\n",
    "β = symbols(\"β\", positive=true) # saftey factor β>1 [unitless] \n",
    "\n",
    "m_t = Sym(\"m_t\") # mass of tank [kg]\n",
    "ρ_t = Sym(\"ρ_t\") # density of tank wall material [kg/m³]\n",
    "\n",
    "m_p = Sym(\"m_p\") # moles of propellant [mol]\n",
    "N_p = Sym(\"N_p\") # molar mass of propellant [kg/mol]\n",
    "ρ_p = Sym(\"ρ_p\") # density of propellant [kg/m³]\n",
    "\n",
    "m_mof = Sym(\"m_mof\") # mass of MOF material [kg]\n",
    "ρ_mof = Sym(\"ρ_mof\") # density "
   ]
  },
  {
   "cell_type": "code",
   "execution_count": 3,
   "metadata": {},
   "outputs": [
    {
     "ename": "UndefVarError",
     "evalue": "UndefVarError: β not defined",
     "output_type": "error",
     "traceback": [
      "UndefVarError: β not defined",
      "",
      "Stacktrace:",
      " [1] top-level scope at In[3]:1"
     ]
    }
   ],
   "source": [
    "t = P*r*β / (2*σ)\n",
    "print(\"t = $t\")"
   ]
  },
  {
   "cell_type": "code",
   "execution_count": 4,
   "metadata": {},
   "outputs": [
    {
     "ename": "UndefVarError",
     "evalue": "UndefVarError: m_p not defined",
     "output_type": "error",
     "traceback": [
      "UndefVarError: m_p not defined",
      "",
      "Stacktrace:",
      " [1] top-level scope at In[4]:1"
     ]
    }
   ],
   "source": [
    "r = ( (3*m_p) / (4*π*ρ_p) ) .^ (1/3)"
   ]
  },
  {
   "cell_type": "code",
   "execution_count": null,
   "metadata": {},
   "outputs": [],
   "source": []
  }
 ],
 "metadata": {
  "kernelspec": {
   "display_name": "Julia 1.3.0",
   "language": "julia",
   "name": "julia-1.3"
  },
  "language_info": {
   "file_extension": ".jl",
   "mimetype": "application/julia",
   "name": "julia",
   "version": "1.3.0"
  }
 },
 "nbformat": 4,
 "nbformat_minor": 2
}
